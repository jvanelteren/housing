{
  "cells": [
    {
      "cell_type": "code",
      "metadata": {
        "id": "_NDWSAWprShN",
        "colab_type": "code",
        "colab": {}
      },
      "source": [
        "import pandas as pd\n",
        "import numpy as np"
      ],
      "execution_count": 3,
      "outputs": []
    },
    {
      "cell_type": "code",
      "metadata": {
        "scrolled": true,
        "id": "3whduyAbrShU",
        "colab_type": "code",
        "outputId": "ee37d5cf-5d0f-4de2-c51b-9a622e6998a2",
        "colab": {
          "base_uri": "https://localhost:8080/",
          "height": 591
        }
      },
      "source": [
        "#make train and test datasets. Splitting labels and features happens later\n",
        "path_train = \"https://raw.githubusercontent.com/jvanelteren/housing/master/datasets/train.csv\"\n",
        "path_test = \"https://raw.githubusercontent.com/jvanelteren/housing/master/datasets/test.csv\"\n",
        "\n",
        "train = pd.read_csv(path_train)\n",
        "final_test = pd.read_csv(path_test)\n",
        "print(train.shape, final_test.shape)\n",
        "\n",
        "y_col = (set(train.columns) - set(final_test.columns)).pop()\n",
        "train[y_col] = np.log1p(train[y_col])\n",
        "\n",
        "train_x = train.drop([y_col], axis=1)\n",
        "train_y = train.loc[:,y_col]\n",
        "train_x.shape, train_y.shape"
      ],
      "execution_count": 4,
      "outputs": [
        {
          "output_type": "stream",
          "name": "stdout",
          "text": "(1460, 81) (1459, 80)\n"
        },
        {
          "output_type": "execute_result",
          "data": {
            "text/plain": "((1460, 80), (1460,))"
          },
          "metadata": {},
          "execution_count": 4
        }
      ]
    },
    {
      "cell_type": "markdown",
      "metadata": {
        "id": "BPXAZImebs9C",
        "colab_type": "text"
      },
      "source": [
        "### Preprocessing"
      ]
    },
    {
      "cell_type": "code",
      "metadata": {
        "id": "1d_1GRqKMm1t",
        "colab_type": "code",
        "colab": {}
      },
      "source": [
        "def correlation_ratio(categories, measurements):\n",
        "    fcat, _ = pd.factorize(categories)\n",
        "    cat_num = np.max(fcat)+1\n",
        "    y_avg_array = np.zeros(cat_num)\n",
        "    n_array = np.zeros(cat_num)\n",
        "    for i in range(0,cat_num):\n",
        "        cat_measures = measurements[np.argwhere(fcat == i).flatten()]\n",
        "        n_array[i] = len(cat_measures)\n",
        "        y_avg_array[i] = np.average(cat_measures)\n",
        "    y_total_avg = np.sum(np.multiply(y_avg_array,n_array))/np.sum(n_array)\n",
        "    numerator = np.sum(np.multiply(n_array,np.power(np.subtract(y_avg_array,y_total_avg),2)))\n",
        "    denominator = np.sum(np.power(np.subtract(measurements,y_total_avg),2))\n",
        "    if numerator == 0:\n",
        "        eta = 0.0\n",
        "    else:\n",
        "        eta = np.sqrt(numerator/denominator)\n",
        "    return eta\n",
        "\n",
        "cat_x = [(col,round(-correlation_ratio(train[col],train[y_col]),2)) for col in final_test.columns if final_test[col].dtype == 'object']\n",
        "cat_x.sort(key = lambda x: x[1])\n",
        "print('Categorical features with highest correlation ratio')\n",
        "cat_x[:10]"
      ],
      "execution_count": 17,
      "outputs": [
        {
          "output_type": "stream",
          "name": "stdout",
          "text": "categorical features with highest correlation ratio\n"
        },
        {
          "output_type": "execute_result",
          "data": {
            "text/plain": "[('Neighborhood', -0.76),\n ('ExterQual', -0.68),\n ('KitchenQual', -0.67),\n ('BsmtQual', -0.64),\n ('Foundation', -0.55),\n ('GarageFinish', -0.52),\n ('HeatingQC', -0.48),\n ('GarageType', -0.48),\n ('MasVnrType', -0.44),\n ('Exterior1st', -0.43)]"
          },
          "metadata": {},
          "execution_count": 17
        }
      ]
    },
    {
      "cell_type": "code",
      "metadata": {
        "id": "Xi2Hnpq0JJTT",
        "colab_type": "code",
        "colab": {}
      },
      "source": [
        "corr = train.corr()[y_col]\n",
        "corr = corr.sort_values(ascending=False)\n",
        "print('Numeric features with highest correlation')\n",
        "corr[:10]"
      ],
      "execution_count": 26,
      "outputs": [
        {
          "output_type": "stream",
          "name": "stdout",
          "text": "Numeric features with highest correlation\n"
        },
        {
          "output_type": "execute_result",
          "data": {
            "text/plain": "SalePrice       1.000000\nOverallQual     0.817185\nGrLivArea       0.700927\nGarageCars      0.680625\nGarageArea      0.650888\nTotalBsmtSF     0.612134\n1stFlrSF        0.596981\nFullBath        0.594771\nYearBuilt       0.586570\nYearRemodAdd    0.565608\nName: SalePrice, dtype: float64"
          },
          "metadata": {},
          "execution_count": 26
        }
      ]
    },
    {
      "cell_type": "markdown",
      "metadata": {
        "id": "azoNOEDFbs9F",
        "colab_type": "text"
      },
      "source": [
        "## Exploration: Quantitative Variables"
      ]
    },
    {
      "cell_type": "code",
      "metadata": {
        "id": "cR9DRWjlimFM",
        "colab_type": "code",
        "outputId": "de8670c5-df1f-4b16-8040-135c09d61adc",
        "colab": {
          "base_uri": "https://localhost:8080/",
          "height": 1000
        }
      },
      "source": [
        "from altair.expr import datum\n",
        "def gen_chart(name):\n",
        "    return alt.Chart(url).mark_point(\n",
        "        color='red',\n",
        "        opacity=0.1,\n",
        "        size=1\n",
        "    ).encode(\n",
        "        x= name+':Q',\n",
        "        y='SalePrice:Q'\n",
        "    ).properties(\n",
        "        width=150,\n",
        "        height=150\n",
        "    )\n",
        "\n",
        "#create a list of subplots\n",
        "subplts = []\n",
        "for name in num_x:\n",
        "    subplts.append(gen_chart(name))\n",
        "plots_per_row = 7\n",
        "hconcat = [alt.hconcat(*subplts[i:i+plots_per_row]) for i in range(0, len(subplts), plots_per_row)]\n",
        "alt.vconcat(*hconcat)"
      ],
      "execution_count": 0,
      "outputs": [
        {
          "output_type": "execute_result",
          "data": {
            "text/html": [
              "\n",
              "<div id=\"altair-viz-a4bbe9d0751f4af08c82c16e25aad695\"></div>\n",
              "<script type=\"text/javascript\">\n",
              "  (function(spec, embedOpt){\n",
              "    const outputDiv = document.getElementById(\"altair-viz-a4bbe9d0751f4af08c82c16e25aad695\");\n",
              "    const paths = {\n",
              "      \"vega\": \"https://cdn.jsdelivr.net/npm//vega@5?noext\",\n",
              "      \"vega-lib\": \"https://cdn.jsdelivr.net/npm//vega-lib?noext\",\n",
              "      \"vega-lite\": \"https://cdn.jsdelivr.net/npm//vega-lite@4.0.2?noext\",\n",
              "      \"vega-embed\": \"https://cdn.jsdelivr.net/npm//vega-embed@6?noext\",\n",
              "    };\n",
              "\n",
              "    function loadScript(lib) {\n",
              "      return new Promise(function(resolve, reject) {\n",
              "        var s = document.createElement('script');\n",
              "        s.src = paths[lib];\n",
              "        s.async = true;\n",
              "        s.onload = () => resolve(paths[lib]);\n",
              "        s.onerror = () => reject(`Error loading script: ${paths[lib]}`);\n",
              "        document.getElementsByTagName(\"head\")[0].appendChild(s);\n",
              "      });\n",
              "    }\n",
              "\n",
              "    function showError(err) {\n",
              "      outputDiv.innerHTML = `<div class=\"error\" style=\"color:red;\">${err}</div>`;\n",
              "      throw err;\n",
              "    }\n",
              "\n",
              "    function displayChart(vegaEmbed) {\n",
              "      vegaEmbed(outputDiv, spec, embedOpt)\n",
              "        .catch(err => showError(`Javascript Error: ${err.message}<br>This usually means there's a typo in your chart specification. See the javascript console for the full traceback.`));\n",
              "    }\n",
              "\n",
              "    if(typeof define === \"function\" && define.amd) {\n",
              "      requirejs.config({paths});\n",
              "      require([\"vega-embed\"], displayChart, err => showError(`Error loading script: ${err.message}`));\n",
              "    } else if (typeof vegaEmbed === \"function\") {\n",
              "      displayChart(vegaEmbed);\n",
              "    } else {\n",
              "      loadScript(\"vega\")\n",
              "        .then(() => loadScript(\"vega-lite\"))\n",
              "        .then(() => loadScript(\"vega-embed\"))\n",
              "        .catch(showError)\n",
              "        .then(() => displayChart(vegaEmbed));\n",
              "    }\n",
              "  })({\"config\": {\"view\": {\"continuousWidth\": 400, \"continuousHeight\": 300}}, \"vconcat\": [{\"hconcat\": [{\"mark\": {\"type\": \"point\", \"color\": \"red\", \"opacity\": 0.1, \"size\": 1}, \"encoding\": {\"x\": {\"type\": \"quantitative\", \"field\": \"SalePrice\"}, \"y\": {\"type\": \"quantitative\", \"field\": \"SalePrice\"}}, \"height\": 150, \"width\": 150}, {\"mark\": {\"type\": \"point\", \"color\": \"red\", \"opacity\": 0.1, \"size\": 1}, \"encoding\": {\"x\": {\"type\": \"quantitative\", \"field\": \"OverallQual\"}, \"y\": {\"type\": \"quantitative\", \"field\": \"SalePrice\"}}, \"height\": 150, \"width\": 150}, {\"mark\": {\"type\": \"point\", \"color\": \"red\", \"opacity\": 0.1, \"size\": 1}, \"encoding\": {\"x\": {\"type\": \"quantitative\", \"field\": \"GrLivArea\"}, \"y\": {\"type\": \"quantitative\", \"field\": \"SalePrice\"}}, \"height\": 150, \"width\": 150}, {\"mark\": {\"type\": \"point\", \"color\": \"red\", \"opacity\": 0.1, \"size\": 1}, \"encoding\": {\"x\": {\"type\": \"quantitative\", \"field\": \"GarageCars\"}, \"y\": {\"type\": \"quantitative\", \"field\": \"SalePrice\"}}, \"height\": 150, \"width\": 150}, {\"mark\": {\"type\": \"point\", \"color\": \"red\", \"opacity\": 0.1, \"size\": 1}, \"encoding\": {\"x\": {\"type\": \"quantitative\", \"field\": \"GarageArea\"}, \"y\": {\"type\": \"quantitative\", \"field\": \"SalePrice\"}}, \"height\": 150, \"width\": 150}, {\"mark\": {\"type\": \"point\", \"color\": \"red\", \"opacity\": 0.1, \"size\": 1}, \"encoding\": {\"x\": {\"type\": \"quantitative\", \"field\": \"TotalBsmtSF\"}, \"y\": {\"type\": \"quantitative\", \"field\": \"SalePrice\"}}, \"height\": 150, \"width\": 150}, {\"mark\": {\"type\": \"point\", \"color\": \"red\", \"opacity\": 0.1, \"size\": 1}, \"encoding\": {\"x\": {\"type\": \"quantitative\", \"field\": \"1stFlrSF\"}, \"y\": {\"type\": \"quantitative\", \"field\": \"SalePrice\"}}, \"height\": 150, \"width\": 150}]}, {\"hconcat\": [{\"mark\": {\"type\": \"point\", \"color\": \"red\", \"opacity\": 0.1, \"size\": 1}, \"encoding\": {\"x\": {\"type\": \"quantitative\", \"field\": \"FullBath\"}, \"y\": {\"type\": \"quantitative\", \"field\": \"SalePrice\"}}, \"height\": 150, \"width\": 150}, {\"mark\": {\"type\": \"point\", \"color\": \"red\", \"opacity\": 0.1, \"size\": 1}, \"encoding\": {\"x\": {\"type\": \"quantitative\", \"field\": \"TotRmsAbvGrd\"}, \"y\": {\"type\": \"quantitative\", \"field\": \"SalePrice\"}}, \"height\": 150, \"width\": 150}, {\"mark\": {\"type\": \"point\", \"color\": \"red\", \"opacity\": 0.1, \"size\": 1}, \"encoding\": {\"x\": {\"type\": \"quantitative\", \"field\": \"YearBuilt\"}, \"y\": {\"type\": \"quantitative\", \"field\": \"SalePrice\"}}, \"height\": 150, \"width\": 150}, {\"mark\": {\"type\": \"point\", \"color\": \"red\", \"opacity\": 0.1, \"size\": 1}, \"encoding\": {\"x\": {\"type\": \"quantitative\", \"field\": \"YearRemodAdd\"}, \"y\": {\"type\": \"quantitative\", \"field\": \"SalePrice\"}}, \"height\": 150, \"width\": 150}, {\"mark\": {\"type\": \"point\", \"color\": \"red\", \"opacity\": 0.1, \"size\": 1}, \"encoding\": {\"x\": {\"type\": \"quantitative\", \"field\": \"GarageYrBlt\"}, \"y\": {\"type\": \"quantitative\", \"field\": \"SalePrice\"}}, \"height\": 150, \"width\": 150}, {\"mark\": {\"type\": \"point\", \"color\": \"red\", \"opacity\": 0.1, \"size\": 1}, \"encoding\": {\"x\": {\"type\": \"quantitative\", \"field\": \"MasVnrArea\"}, \"y\": {\"type\": \"quantitative\", \"field\": \"SalePrice\"}}, \"height\": 150, \"width\": 150}, {\"mark\": {\"type\": \"point\", \"color\": \"red\", \"opacity\": 0.1, \"size\": 1}, \"encoding\": {\"x\": {\"type\": \"quantitative\", \"field\": \"Fireplaces\"}, \"y\": {\"type\": \"quantitative\", \"field\": \"SalePrice\"}}, \"height\": 150, \"width\": 150}]}, {\"hconcat\": [{\"mark\": {\"type\": \"point\", \"color\": \"red\", \"opacity\": 0.1, \"size\": 1}, \"encoding\": {\"x\": {\"type\": \"quantitative\", \"field\": \"BsmtFinSF1\"}, \"y\": {\"type\": \"quantitative\", \"field\": \"SalePrice\"}}, \"height\": 150, \"width\": 150}, {\"mark\": {\"type\": \"point\", \"color\": \"red\", \"opacity\": 0.1, \"size\": 1}, \"encoding\": {\"x\": {\"type\": \"quantitative\", \"field\": \"LotFrontage\"}, \"y\": {\"type\": \"quantitative\", \"field\": \"SalePrice\"}}, \"height\": 150, \"width\": 150}, {\"mark\": {\"type\": \"point\", \"color\": \"red\", \"opacity\": 0.1, \"size\": 1}, \"encoding\": {\"x\": {\"type\": \"quantitative\", \"field\": \"WoodDeckSF\"}, \"y\": {\"type\": \"quantitative\", \"field\": \"SalePrice\"}}, \"height\": 150, \"width\": 150}, {\"mark\": {\"type\": \"point\", \"color\": \"red\", \"opacity\": 0.1, \"size\": 1}, \"encoding\": {\"x\": {\"type\": \"quantitative\", \"field\": \"2ndFlrSF\"}, \"y\": {\"type\": \"quantitative\", \"field\": \"SalePrice\"}}, \"height\": 150, \"width\": 150}, {\"mark\": {\"type\": \"point\", \"color\": \"red\", \"opacity\": 0.1, \"size\": 1}, \"encoding\": {\"x\": {\"type\": \"quantitative\", \"field\": \"OpenPorchSF\"}, \"y\": {\"type\": \"quantitative\", \"field\": \"SalePrice\"}}, \"height\": 150, \"width\": 150}, {\"mark\": {\"type\": \"point\", \"color\": \"red\", \"opacity\": 0.1, \"size\": 1}, \"encoding\": {\"x\": {\"type\": \"quantitative\", \"field\": \"HalfBath\"}, \"y\": {\"type\": \"quantitative\", \"field\": \"SalePrice\"}}, \"height\": 150, \"width\": 150}, {\"mark\": {\"type\": \"point\", \"color\": \"red\", \"opacity\": 0.1, \"size\": 1}, \"encoding\": {\"x\": {\"type\": \"quantitative\", \"field\": \"LotArea\"}, \"y\": {\"type\": \"quantitative\", \"field\": \"SalePrice\"}}, \"height\": 150, \"width\": 150}]}, {\"hconcat\": [{\"mark\": {\"type\": \"point\", \"color\": \"red\", \"opacity\": 0.1, \"size\": 1}, \"encoding\": {\"x\": {\"type\": \"quantitative\", \"field\": \"BsmtFullBath\"}, \"y\": {\"type\": \"quantitative\", \"field\": \"SalePrice\"}}, \"height\": 150, \"width\": 150}, {\"mark\": {\"type\": \"point\", \"color\": \"red\", \"opacity\": 0.1, \"size\": 1}, \"encoding\": {\"x\": {\"type\": \"quantitative\", \"field\": \"BsmtUnfSF\"}, \"y\": {\"type\": \"quantitative\", \"field\": \"SalePrice\"}}, \"height\": 150, \"width\": 150}, {\"mark\": {\"type\": \"point\", \"color\": \"red\", \"opacity\": 0.1, \"size\": 1}, \"encoding\": {\"x\": {\"type\": \"quantitative\", \"field\": \"BedroomAbvGr\"}, \"y\": {\"type\": \"quantitative\", \"field\": \"SalePrice\"}}, \"height\": 150, \"width\": 150}, {\"mark\": {\"type\": \"point\", \"color\": \"red\", \"opacity\": 0.1, \"size\": 1}, \"encoding\": {\"x\": {\"type\": \"quantitative\", \"field\": \"ScreenPorch\"}, \"y\": {\"type\": \"quantitative\", \"field\": \"SalePrice\"}}, \"height\": 150, \"width\": 150}, {\"mark\": {\"type\": \"point\", \"color\": \"red\", \"opacity\": 0.1, \"size\": 1}, \"encoding\": {\"x\": {\"type\": \"quantitative\", \"field\": \"PoolArea\"}, \"y\": {\"type\": \"quantitative\", \"field\": \"SalePrice\"}}, \"height\": 150, \"width\": 150}, {\"mark\": {\"type\": \"point\", \"color\": \"red\", \"opacity\": 0.1, \"size\": 1}, \"encoding\": {\"x\": {\"type\": \"quantitative\", \"field\": \"MoSold\"}, \"y\": {\"type\": \"quantitative\", \"field\": \"SalePrice\"}}, \"height\": 150, \"width\": 150}, {\"mark\": {\"type\": \"point\", \"color\": \"red\", \"opacity\": 0.1, \"size\": 1}, \"encoding\": {\"x\": {\"type\": \"quantitative\", \"field\": \"3SsnPorch\"}, \"y\": {\"type\": \"quantitative\", \"field\": \"SalePrice\"}}, \"height\": 150, \"width\": 150}]}, {\"hconcat\": [{\"mark\": {\"type\": \"point\", \"color\": \"red\", \"opacity\": 0.1, \"size\": 1}, \"encoding\": {\"x\": {\"type\": \"quantitative\", \"field\": \"BsmtFinSF2\"}, \"y\": {\"type\": \"quantitative\", \"field\": \"SalePrice\"}}, \"height\": 150, \"width\": 150}, {\"mark\": {\"type\": \"point\", \"color\": \"red\", \"opacity\": 0.1, \"size\": 1}, \"encoding\": {\"x\": {\"type\": \"quantitative\", \"field\": \"BsmtHalfBath\"}, \"y\": {\"type\": \"quantitative\", \"field\": \"SalePrice\"}}, \"height\": 150, \"width\": 150}, {\"mark\": {\"type\": \"point\", \"color\": \"red\", \"opacity\": 0.1, \"size\": 1}, \"encoding\": {\"x\": {\"type\": \"quantitative\", \"field\": \"MiscVal\"}, \"y\": {\"type\": \"quantitative\", \"field\": \"SalePrice\"}}, \"height\": 150, \"width\": 150}, {\"mark\": {\"type\": \"point\", \"color\": \"red\", \"opacity\": 0.1, \"size\": 1}, \"encoding\": {\"x\": {\"type\": \"quantitative\", \"field\": \"Id\"}, \"y\": {\"type\": \"quantitative\", \"field\": \"SalePrice\"}}, \"height\": 150, \"width\": 150}, {\"mark\": {\"type\": \"point\", \"color\": \"red\", \"opacity\": 0.1, \"size\": 1}, \"encoding\": {\"x\": {\"type\": \"quantitative\", \"field\": \"LowQualFinSF\"}, \"y\": {\"type\": \"quantitative\", \"field\": \"SalePrice\"}}, \"height\": 150, \"width\": 150}, {\"mark\": {\"type\": \"point\", \"color\": \"red\", \"opacity\": 0.1, \"size\": 1}, \"encoding\": {\"x\": {\"type\": \"quantitative\", \"field\": \"YrSold\"}, \"y\": {\"type\": \"quantitative\", \"field\": \"SalePrice\"}}, \"height\": 150, \"width\": 150}, {\"mark\": {\"type\": \"point\", \"color\": \"red\", \"opacity\": 0.1, \"size\": 1}, \"encoding\": {\"x\": {\"type\": \"quantitative\", \"field\": \"OverallCond\"}, \"y\": {\"type\": \"quantitative\", \"field\": \"SalePrice\"}}, \"height\": 150, \"width\": 150}]}, {\"hconcat\": [{\"mark\": {\"type\": \"point\", \"color\": \"red\", \"opacity\": 0.1, \"size\": 1}, \"encoding\": {\"x\": {\"type\": \"quantitative\", \"field\": \"MSSubClass\"}, \"y\": {\"type\": \"quantitative\", \"field\": \"SalePrice\"}}, \"height\": 150, \"width\": 150}, {\"mark\": {\"type\": \"point\", \"color\": \"red\", \"opacity\": 0.1, \"size\": 1}, \"encoding\": {\"x\": {\"type\": \"quantitative\", \"field\": \"EnclosedPorch\"}, \"y\": {\"type\": \"quantitative\", \"field\": \"SalePrice\"}}, \"height\": 150, \"width\": 150}, {\"mark\": {\"type\": \"point\", \"color\": \"red\", \"opacity\": 0.1, \"size\": 1}, \"encoding\": {\"x\": {\"type\": \"quantitative\", \"field\": \"KitchenAbvGr\"}, \"y\": {\"type\": \"quantitative\", \"field\": \"SalePrice\"}}, \"height\": 150, \"width\": 150}]}], \"data\": {\"url\": \"https://raw.githubusercontent.com/jvanelteren/housing/master/datasets/train.csv\"}, \"$schema\": \"https://vega.github.io/schema/vega-lite/v4.0.2.json\"}, {\"mode\": \"vega-lite\"});\n",
              "</script>"
            ],
            "text/plain": [
              "alt.VConcatChart(...)"
            ]
          },
          "metadata": {
            "tags": []
          },
          "execution_count": 54
        }
      ]
    },
    {
      "cell_type": "markdown",
      "metadata": {},
      "source": [
        "## Exploration: Quantitative Variables interactive chart"
      ]
    },
    {
      "cell_type": "code",
      "metadata": {
        "id": "wiar5MusBq6J",
        "colab_type": "code",
        "outputId": "1c7b1059-125e-45fe-c474-9ecf3f1f0c59",
        "colab": {
          "base_uri": "https://localhost:8080/",
          "height": 1000
        }
      },
      "source": [
        "brush = alt.selection(type='interval', resolve='global')\n",
        "\n",
        "base = alt.Chart(url).mark_point(        opacity=0.1,\n",
        "        size=2).encode(\n",
        "    y='SalePrice:Q',\n",
        "    color=alt.condition(brush, alt.ColorValue('red'), alt.ColorValue('gray')),\n",
        ").add_selection(\n",
        "    brush\n",
        ").properties(\n",
        "    width=140,\n",
        "    height=140\n",
        ")\n",
        "num_x.append('SalePrice')\n",
        "subplts = []\n",
        "for name in num_x:\n",
        "    subplts.append(base.encode(x=name+':Q'))\n",
        "plots_per_row = 7\n",
        "hconcat = [alt.hconcat(*subplts[i:i+plots_per_row]) for i in range(0, len(subplts), plots_per_row)]\n",
        "alt.vconcat(*hconcat)\n",
        "\n",
        "\n"
      ],
      "execution_count": 0,
      "outputs": [
        {
          "output_type": "execute_result",
          "data": {
            "text/html": [
              "\n",
              "<div id=\"altair-viz-667bf69bdb844ab39e764403207dd486\"></div>\n",
              "<script type=\"text/javascript\">\n",
              "  (function(spec, embedOpt){\n",
              "    const outputDiv = document.getElementById(\"altair-viz-667bf69bdb844ab39e764403207dd486\");\n",
              "    const paths = {\n",
              "      \"vega\": \"https://cdn.jsdelivr.net/npm//vega@5?noext\",\n",
              "      \"vega-lib\": \"https://cdn.jsdelivr.net/npm//vega-lib?noext\",\n",
              "      \"vega-lite\": \"https://cdn.jsdelivr.net/npm//vega-lite@4.0.2?noext\",\n",
              "      \"vega-embed\": \"https://cdn.jsdelivr.net/npm//vega-embed@6?noext\",\n",
              "    };\n",
              "\n",
              "    function loadScript(lib) {\n",
              "      return new Promise(function(resolve, reject) {\n",
              "        var s = document.createElement('script');\n",
              "        s.src = paths[lib];\n",
              "        s.async = true;\n",
              "        s.onload = () => resolve(paths[lib]);\n",
              "        s.onerror = () => reject(`Error loading script: ${paths[lib]}`);\n",
              "        document.getElementsByTagName(\"head\")[0].appendChild(s);\n",
              "      });\n",
              "    }\n",
              "\n",
              "    function showError(err) {\n",
              "      outputDiv.innerHTML = `<div class=\"error\" style=\"color:red;\">${err}</div>`;\n",
              "      throw err;\n",
              "    }\n",
              "\n",
              "    function displayChart(vegaEmbed) {\n",
              "      vegaEmbed(outputDiv, spec, embedOpt)\n",
              "        .catch(err => showError(`Javascript Error: ${err.message}<br>This usually means there's a typo in your chart specification. See the javascript console for the full traceback.`));\n",
              "    }\n",
              "\n",
              "    if(typeof define === \"function\" && define.amd) {\n",
              "      requirejs.config({paths});\n",
              "      require([\"vega-embed\"], displayChart, err => showError(`Error loading script: ${err.message}`));\n",
              "    } else if (typeof vegaEmbed === \"function\") {\n",
              "      displayChart(vegaEmbed);\n",
              "    } else {\n",
              "      loadScript(\"vega\")\n",
              "        .then(() => loadScript(\"vega-lite\"))\n",
              "        .then(() => loadScript(\"vega-embed\"))\n",
              "        .catch(showError)\n",
              "        .then(() => displayChart(vegaEmbed));\n",
              "    }\n",
              "  })({\"config\": {\"view\": {\"continuousWidth\": 400, \"continuousHeight\": 300}}, \"vconcat\": [{\"hconcat\": [{\"mark\": {\"type\": \"point\", \"opacity\": 0.1, \"size\": 2}, \"encoding\": {\"color\": {\"condition\": {\"value\": \"red\", \"selection\": \"selector009\"}, \"value\": \"gray\"}, \"x\": {\"type\": \"quantitative\", \"field\": \"SalePrice\"}, \"y\": {\"type\": \"quantitative\", \"field\": \"SalePrice\"}}, \"height\": 140, \"selection\": {\"selector009\": {\"type\": \"interval\", \"resolve\": \"global\"}}, \"width\": 140}, {\"mark\": {\"type\": \"point\", \"opacity\": 0.1, \"size\": 2}, \"encoding\": {\"color\": {\"condition\": {\"value\": \"red\", \"selection\": \"selector009\"}, \"value\": \"gray\"}, \"x\": {\"type\": \"quantitative\", \"field\": \"OverallQual\"}, \"y\": {\"type\": \"quantitative\", \"field\": \"SalePrice\"}}, \"height\": 140, \"selection\": {\"selector009\": {\"type\": \"interval\", \"resolve\": \"global\"}}, \"width\": 140}, {\"mark\": {\"type\": \"point\", \"opacity\": 0.1, \"size\": 2}, \"encoding\": {\"color\": {\"condition\": {\"value\": \"red\", \"selection\": \"selector009\"}, \"value\": \"gray\"}, \"x\": {\"type\": \"quantitative\", \"field\": \"GrLivArea\"}, \"y\": {\"type\": \"quantitative\", \"field\": \"SalePrice\"}}, \"height\": 140, \"selection\": {\"selector009\": {\"type\": \"interval\", \"resolve\": \"global\"}}, \"width\": 140}, {\"mark\": {\"type\": \"point\", \"opacity\": 0.1, \"size\": 2}, \"encoding\": {\"color\": {\"condition\": {\"value\": \"red\", \"selection\": \"selector009\"}, \"value\": \"gray\"}, \"x\": {\"type\": \"quantitative\", \"field\": \"GarageCars\"}, \"y\": {\"type\": \"quantitative\", \"field\": \"SalePrice\"}}, \"height\": 140, \"selection\": {\"selector009\": {\"type\": \"interval\", \"resolve\": \"global\"}}, \"width\": 140}, {\"mark\": {\"type\": \"point\", \"opacity\": 0.1, \"size\": 2}, \"encoding\": {\"color\": {\"condition\": {\"value\": \"red\", \"selection\": \"selector009\"}, \"value\": \"gray\"}, \"x\": {\"type\": \"quantitative\", \"field\": \"GarageArea\"}, \"y\": {\"type\": \"quantitative\", \"field\": \"SalePrice\"}}, \"height\": 140, \"selection\": {\"selector009\": {\"type\": \"interval\", \"resolve\": \"global\"}}, \"width\": 140}, {\"mark\": {\"type\": \"point\", \"opacity\": 0.1, \"size\": 2}, \"encoding\": {\"color\": {\"condition\": {\"value\": \"red\", \"selection\": \"selector009\"}, \"value\": \"gray\"}, \"x\": {\"type\": \"quantitative\", \"field\": \"TotalBsmtSF\"}, \"y\": {\"type\": \"quantitative\", \"field\": \"SalePrice\"}}, \"height\": 140, \"selection\": {\"selector009\": {\"type\": \"interval\", \"resolve\": \"global\"}}, \"width\": 140}, {\"mark\": {\"type\": \"point\", \"opacity\": 0.1, \"size\": 2}, \"encoding\": {\"color\": {\"condition\": {\"value\": \"red\", \"selection\": \"selector009\"}, \"value\": \"gray\"}, \"x\": {\"type\": \"quantitative\", \"field\": \"1stFlrSF\"}, \"y\": {\"type\": \"quantitative\", \"field\": \"SalePrice\"}}, \"height\": 140, \"selection\": {\"selector009\": {\"type\": \"interval\", \"resolve\": \"global\"}}, \"width\": 140}]}, {\"hconcat\": [{\"mark\": {\"type\": \"point\", \"opacity\": 0.1, \"size\": 2}, \"encoding\": {\"color\": {\"condition\": {\"value\": \"red\", \"selection\": \"selector009\"}, \"value\": \"gray\"}, \"x\": {\"type\": \"quantitative\", \"field\": \"FullBath\"}, \"y\": {\"type\": \"quantitative\", \"field\": \"SalePrice\"}}, \"height\": 140, \"selection\": {\"selector009\": {\"type\": \"interval\", \"resolve\": \"global\"}}, \"width\": 140}, {\"mark\": {\"type\": \"point\", \"opacity\": 0.1, \"size\": 2}, \"encoding\": {\"color\": {\"condition\": {\"value\": \"red\", \"selection\": \"selector009\"}, \"value\": \"gray\"}, \"x\": {\"type\": \"quantitative\", \"field\": \"TotRmsAbvGrd\"}, \"y\": {\"type\": \"quantitative\", \"field\": \"SalePrice\"}}, \"height\": 140, \"selection\": {\"selector009\": {\"type\": \"interval\", \"resolve\": \"global\"}}, \"width\": 140}, {\"mark\": {\"type\": \"point\", \"opacity\": 0.1, \"size\": 2}, \"encoding\": {\"color\": {\"condition\": {\"value\": \"red\", \"selection\": \"selector009\"}, \"value\": \"gray\"}, \"x\": {\"type\": \"quantitative\", \"field\": \"YearBuilt\"}, \"y\": {\"type\": \"quantitative\", \"field\": \"SalePrice\"}}, \"height\": 140, \"selection\": {\"selector009\": {\"type\": \"interval\", \"resolve\": \"global\"}}, \"width\": 140}, {\"mark\": {\"type\": \"point\", \"opacity\": 0.1, \"size\": 2}, \"encoding\": {\"color\": {\"condition\": {\"value\": \"red\", \"selection\": \"selector009\"}, \"value\": \"gray\"}, \"x\": {\"type\": \"quantitative\", \"field\": \"YearRemodAdd\"}, \"y\": {\"type\": \"quantitative\", \"field\": \"SalePrice\"}}, \"height\": 140, \"selection\": {\"selector009\": {\"type\": \"interval\", \"resolve\": \"global\"}}, \"width\": 140}, {\"mark\": {\"type\": \"point\", \"opacity\": 0.1, \"size\": 2}, \"encoding\": {\"color\": {\"condition\": {\"value\": \"red\", \"selection\": \"selector009\"}, \"value\": \"gray\"}, \"x\": {\"type\": \"quantitative\", \"field\": \"GarageYrBlt\"}, \"y\": {\"type\": \"quantitative\", \"field\": \"SalePrice\"}}, \"height\": 140, \"selection\": {\"selector009\": {\"type\": \"interval\", \"resolve\": \"global\"}}, \"width\": 140}, {\"mark\": {\"type\": \"point\", \"opacity\": 0.1, \"size\": 2}, \"encoding\": {\"color\": {\"condition\": {\"value\": \"red\", \"selection\": \"selector009\"}, \"value\": \"gray\"}, \"x\": {\"type\": \"quantitative\", \"field\": \"MasVnrArea\"}, \"y\": {\"type\": \"quantitative\", \"field\": \"SalePrice\"}}, \"height\": 140, \"selection\": {\"selector009\": {\"type\": \"interval\", \"resolve\": \"global\"}}, \"width\": 140}, {\"mark\": {\"type\": \"point\", \"opacity\": 0.1, \"size\": 2}, \"encoding\": {\"color\": {\"condition\": {\"value\": \"red\", \"selection\": \"selector009\"}, \"value\": \"gray\"}, \"x\": {\"type\": \"quantitative\", \"field\": \"Fireplaces\"}, \"y\": {\"type\": \"quantitative\", \"field\": \"SalePrice\"}}, \"height\": 140, \"selection\": {\"selector009\": {\"type\": \"interval\", \"resolve\": \"global\"}}, \"width\": 140}]}, {\"hconcat\": [{\"mark\": {\"type\": \"point\", \"opacity\": 0.1, \"size\": 2}, \"encoding\": {\"color\": {\"condition\": {\"value\": \"red\", \"selection\": \"selector009\"}, \"value\": \"gray\"}, \"x\": {\"type\": \"quantitative\", \"field\": \"BsmtFinSF1\"}, \"y\": {\"type\": \"quantitative\", \"field\": \"SalePrice\"}}, \"height\": 140, \"selection\": {\"selector009\": {\"type\": \"interval\", \"resolve\": \"global\"}}, \"width\": 140}, {\"mark\": {\"type\": \"point\", \"opacity\": 0.1, \"size\": 2}, \"encoding\": {\"color\": {\"condition\": {\"value\": \"red\", \"selection\": \"selector009\"}, \"value\": \"gray\"}, \"x\": {\"type\": \"quantitative\", \"field\": \"LotFrontage\"}, \"y\": {\"type\": \"quantitative\", \"field\": \"SalePrice\"}}, \"height\": 140, \"selection\": {\"selector009\": {\"type\": \"interval\", \"resolve\": \"global\"}}, \"width\": 140}, {\"mark\": {\"type\": \"point\", \"opacity\": 0.1, \"size\": 2}, \"encoding\": {\"color\": {\"condition\": {\"value\": \"red\", \"selection\": \"selector009\"}, \"value\": \"gray\"}, \"x\": {\"type\": \"quantitative\", \"field\": \"WoodDeckSF\"}, \"y\": {\"type\": \"quantitative\", \"field\": \"SalePrice\"}}, \"height\": 140, \"selection\": {\"selector009\": {\"type\": \"interval\", \"resolve\": \"global\"}}, \"width\": 140}, {\"mark\": {\"type\": \"point\", \"opacity\": 0.1, \"size\": 2}, \"encoding\": {\"color\": {\"condition\": {\"value\": \"red\", \"selection\": \"selector009\"}, \"value\": \"gray\"}, \"x\": {\"type\": \"quantitative\", \"field\": \"2ndFlrSF\"}, \"y\": {\"type\": \"quantitative\", \"field\": \"SalePrice\"}}, \"height\": 140, \"selection\": {\"selector009\": {\"type\": \"interval\", \"resolve\": \"global\"}}, \"width\": 140}, {\"mark\": {\"type\": \"point\", \"opacity\": 0.1, \"size\": 2}, \"encoding\": {\"color\": {\"condition\": {\"value\": \"red\", \"selection\": \"selector009\"}, \"value\": \"gray\"}, \"x\": {\"type\": \"quantitative\", \"field\": \"OpenPorchSF\"}, \"y\": {\"type\": \"quantitative\", \"field\": \"SalePrice\"}}, \"height\": 140, \"selection\": {\"selector009\": {\"type\": \"interval\", \"resolve\": \"global\"}}, \"width\": 140}, {\"mark\": {\"type\": \"point\", \"opacity\": 0.1, \"size\": 2}, \"encoding\": {\"color\": {\"condition\": {\"value\": \"red\", \"selection\": \"selector009\"}, \"value\": \"gray\"}, \"x\": {\"type\": \"quantitative\", \"field\": \"HalfBath\"}, \"y\": {\"type\": \"quantitative\", \"field\": \"SalePrice\"}}, \"height\": 140, \"selection\": {\"selector009\": {\"type\": \"interval\", \"resolve\": \"global\"}}, \"width\": 140}, {\"mark\": {\"type\": \"point\", \"opacity\": 0.1, \"size\": 2}, \"encoding\": {\"color\": {\"condition\": {\"value\": \"red\", \"selection\": \"selector009\"}, \"value\": \"gray\"}, \"x\": {\"type\": \"quantitative\", \"field\": \"LotArea\"}, \"y\": {\"type\": \"quantitative\", \"field\": \"SalePrice\"}}, \"height\": 140, \"selection\": {\"selector009\": {\"type\": \"interval\", \"resolve\": \"global\"}}, \"width\": 140}]}, {\"hconcat\": [{\"mark\": {\"type\": \"point\", \"opacity\": 0.1, \"size\": 2}, \"encoding\": {\"color\": {\"condition\": {\"value\": \"red\", \"selection\": \"selector009\"}, \"value\": \"gray\"}, \"x\": {\"type\": \"quantitative\", \"field\": \"BsmtFullBath\"}, \"y\": {\"type\": \"quantitative\", \"field\": \"SalePrice\"}}, \"height\": 140, \"selection\": {\"selector009\": {\"type\": \"interval\", \"resolve\": \"global\"}}, \"width\": 140}, {\"mark\": {\"type\": \"point\", \"opacity\": 0.1, \"size\": 2}, \"encoding\": {\"color\": {\"condition\": {\"value\": \"red\", \"selection\": \"selector009\"}, \"value\": \"gray\"}, \"x\": {\"type\": \"quantitative\", \"field\": \"BsmtUnfSF\"}, \"y\": {\"type\": \"quantitative\", \"field\": \"SalePrice\"}}, \"height\": 140, \"selection\": {\"selector009\": {\"type\": \"interval\", \"resolve\": \"global\"}}, \"width\": 140}, {\"mark\": {\"type\": \"point\", \"opacity\": 0.1, \"size\": 2}, \"encoding\": {\"color\": {\"condition\": {\"value\": \"red\", \"selection\": \"selector009\"}, \"value\": \"gray\"}, \"x\": {\"type\": \"quantitative\", \"field\": \"BedroomAbvGr\"}, \"y\": {\"type\": \"quantitative\", \"field\": \"SalePrice\"}}, \"height\": 140, \"selection\": {\"selector009\": {\"type\": \"interval\", \"resolve\": \"global\"}}, \"width\": 140}, {\"mark\": {\"type\": \"point\", \"opacity\": 0.1, \"size\": 2}, \"encoding\": {\"color\": {\"condition\": {\"value\": \"red\", \"selection\": \"selector009\"}, \"value\": \"gray\"}, \"x\": {\"type\": \"quantitative\", \"field\": \"ScreenPorch\"}, \"y\": {\"type\": \"quantitative\", \"field\": \"SalePrice\"}}, \"height\": 140, \"selection\": {\"selector009\": {\"type\": \"interval\", \"resolve\": \"global\"}}, \"width\": 140}, {\"mark\": {\"type\": \"point\", \"opacity\": 0.1, \"size\": 2}, \"encoding\": {\"color\": {\"condition\": {\"value\": \"red\", \"selection\": \"selector009\"}, \"value\": \"gray\"}, \"x\": {\"type\": \"quantitative\", \"field\": \"PoolArea\"}, \"y\": {\"type\": \"quantitative\", \"field\": \"SalePrice\"}}, \"height\": 140, \"selection\": {\"selector009\": {\"type\": \"interval\", \"resolve\": \"global\"}}, \"width\": 140}, {\"mark\": {\"type\": \"point\", \"opacity\": 0.1, \"size\": 2}, \"encoding\": {\"color\": {\"condition\": {\"value\": \"red\", \"selection\": \"selector009\"}, \"value\": \"gray\"}, \"x\": {\"type\": \"quantitative\", \"field\": \"MoSold\"}, \"y\": {\"type\": \"quantitative\", \"field\": \"SalePrice\"}}, \"height\": 140, \"selection\": {\"selector009\": {\"type\": \"interval\", \"resolve\": \"global\"}}, \"width\": 140}, {\"mark\": {\"type\": \"point\", \"opacity\": 0.1, \"size\": 2}, \"encoding\": {\"color\": {\"condition\": {\"value\": \"red\", \"selection\": \"selector009\"}, \"value\": \"gray\"}, \"x\": {\"type\": \"quantitative\", \"field\": \"3SsnPorch\"}, \"y\": {\"type\": \"quantitative\", \"field\": \"SalePrice\"}}, \"height\": 140, \"selection\": {\"selector009\": {\"type\": \"interval\", \"resolve\": \"global\"}}, \"width\": 140}]}, {\"hconcat\": [{\"mark\": {\"type\": \"point\", \"opacity\": 0.1, \"size\": 2}, \"encoding\": {\"color\": {\"condition\": {\"value\": \"red\", \"selection\": \"selector009\"}, \"value\": \"gray\"}, \"x\": {\"type\": \"quantitative\", \"field\": \"BsmtFinSF2\"}, \"y\": {\"type\": \"quantitative\", \"field\": \"SalePrice\"}}, \"height\": 140, \"selection\": {\"selector009\": {\"type\": \"interval\", \"resolve\": \"global\"}}, \"width\": 140}, {\"mark\": {\"type\": \"point\", \"opacity\": 0.1, \"size\": 2}, \"encoding\": {\"color\": {\"condition\": {\"value\": \"red\", \"selection\": \"selector009\"}, \"value\": \"gray\"}, \"x\": {\"type\": \"quantitative\", \"field\": \"BsmtHalfBath\"}, \"y\": {\"type\": \"quantitative\", \"field\": \"SalePrice\"}}, \"height\": 140, \"selection\": {\"selector009\": {\"type\": \"interval\", \"resolve\": \"global\"}}, \"width\": 140}, {\"mark\": {\"type\": \"point\", \"opacity\": 0.1, \"size\": 2}, \"encoding\": {\"color\": {\"condition\": {\"value\": \"red\", \"selection\": \"selector009\"}, \"value\": \"gray\"}, \"x\": {\"type\": \"quantitative\", \"field\": \"MiscVal\"}, \"y\": {\"type\": \"quantitative\", \"field\": \"SalePrice\"}}, \"height\": 140, \"selection\": {\"selector009\": {\"type\": \"interval\", \"resolve\": \"global\"}}, \"width\": 140}, {\"mark\": {\"type\": \"point\", \"opacity\": 0.1, \"size\": 2}, \"encoding\": {\"color\": {\"condition\": {\"value\": \"red\", \"selection\": \"selector009\"}, \"value\": \"gray\"}, \"x\": {\"type\": \"quantitative\", \"field\": \"Id\"}, \"y\": {\"type\": \"quantitative\", \"field\": \"SalePrice\"}}, \"height\": 140, \"selection\": {\"selector009\": {\"type\": \"interval\", \"resolve\": \"global\"}}, \"width\": 140}, {\"mark\": {\"type\": \"point\", \"opacity\": 0.1, \"size\": 2}, \"encoding\": {\"color\": {\"condition\": {\"value\": \"red\", \"selection\": \"selector009\"}, \"value\": \"gray\"}, \"x\": {\"type\": \"quantitative\", \"field\": \"LowQualFinSF\"}, \"y\": {\"type\": \"quantitative\", \"field\": \"SalePrice\"}}, \"height\": 140, \"selection\": {\"selector009\": {\"type\": \"interval\", \"resolve\": \"global\"}}, \"width\": 140}, {\"mark\": {\"type\": \"point\", \"opacity\": 0.1, \"size\": 2}, \"encoding\": {\"color\": {\"condition\": {\"value\": \"red\", \"selection\": \"selector009\"}, \"value\": \"gray\"}, \"x\": {\"type\": \"quantitative\", \"field\": \"YrSold\"}, \"y\": {\"type\": \"quantitative\", \"field\": \"SalePrice\"}}, \"height\": 140, \"selection\": {\"selector009\": {\"type\": \"interval\", \"resolve\": \"global\"}}, \"width\": 140}, {\"mark\": {\"type\": \"point\", \"opacity\": 0.1, \"size\": 2}, \"encoding\": {\"color\": {\"condition\": {\"value\": \"red\", \"selection\": \"selector009\"}, \"value\": \"gray\"}, \"x\": {\"type\": \"quantitative\", \"field\": \"OverallCond\"}, \"y\": {\"type\": \"quantitative\", \"field\": \"SalePrice\"}}, \"height\": 140, \"selection\": {\"selector009\": {\"type\": \"interval\", \"resolve\": \"global\"}}, \"width\": 140}]}, {\"hconcat\": [{\"mark\": {\"type\": \"point\", \"opacity\": 0.1, \"size\": 2}, \"encoding\": {\"color\": {\"condition\": {\"value\": \"red\", \"selection\": \"selector009\"}, \"value\": \"gray\"}, \"x\": {\"type\": \"quantitative\", \"field\": \"MSSubClass\"}, \"y\": {\"type\": \"quantitative\", \"field\": \"SalePrice\"}}, \"height\": 140, \"selection\": {\"selector009\": {\"type\": \"interval\", \"resolve\": \"global\"}}, \"width\": 140}, {\"mark\": {\"type\": \"point\", \"opacity\": 0.1, \"size\": 2}, \"encoding\": {\"color\": {\"condition\": {\"value\": \"red\", \"selection\": \"selector009\"}, \"value\": \"gray\"}, \"x\": {\"type\": \"quantitative\", \"field\": \"EnclosedPorch\"}, \"y\": {\"type\": \"quantitative\", \"field\": \"SalePrice\"}}, \"height\": 140, \"selection\": {\"selector009\": {\"type\": \"interval\", \"resolve\": \"global\"}}, \"width\": 140}, {\"mark\": {\"type\": \"point\", \"opacity\": 0.1, \"size\": 2}, \"encoding\": {\"color\": {\"condition\": {\"value\": \"red\", \"selection\": \"selector009\"}, \"value\": \"gray\"}, \"x\": {\"type\": \"quantitative\", \"field\": \"KitchenAbvGr\"}, \"y\": {\"type\": \"quantitative\", \"field\": \"SalePrice\"}}, \"height\": 140, \"selection\": {\"selector009\": {\"type\": \"interval\", \"resolve\": \"global\"}}, \"width\": 140}, {\"mark\": {\"type\": \"point\", \"opacity\": 0.1, \"size\": 2}, \"encoding\": {\"color\": {\"condition\": {\"value\": \"red\", \"selection\": \"selector009\"}, \"value\": \"gray\"}, \"x\": {\"type\": \"quantitative\", \"field\": \"SalePrice\"}, \"y\": {\"type\": \"quantitative\", \"field\": \"SalePrice\"}}, \"height\": 140, \"selection\": {\"selector009\": {\"type\": \"interval\", \"resolve\": \"global\"}}, \"width\": 140}]}], \"data\": {\"url\": \"https://raw.githubusercontent.com/jvanelteren/housing/master/datasets/train.csv\"}, \"$schema\": \"https://vega.github.io/schema/vega-lite/v4.0.2.json\"}, {\"mode\": \"vega-lite\"});\n",
              "</script>"
            ],
            "text/plain": [
              "alt.VConcatChart(...)"
            ]
          },
          "metadata": {
            "tags": []
          },
          "execution_count": 58
        }
      ]
    },
    {
      "cell_type": "code",
      "execution_count": 6,
      "metadata": {},
      "outputs": [],
      "source": [
        "## Exploration: Categorical Variables"
      ]
    },
    {
      "cell_type": "code",
      "metadata": {
        "id": "6QGAe7F3Bqr7",
        "colab_type": "code",
        "outputId": "eba0fc94-73c6-4ef2-a5cc-741405f8116f",
        "colab": {
          "base_uri": "https://localhost:8080/",
          "height": 1000
        }
      },
      "source": [
        "def gen_chart(name):\n",
        "  chart = alt.Chart(url).mark_bar().encode(\n",
        "        x= alt.X(name+':N', bin=False),\n",
        "        y='count()',\n",
        "        color=alt.condition(brush, alt.ColorValue('red'), alt.ColorValue('gray'))\n",
        "    ).properties(\n",
        "        width=140,\n",
        "        height=30\n",
        "    ).add_selection(\n",
        "    brush)\n",
        "\n",
        "  price = alt.Chart(url).mark_boxplot().encode(\n",
        "        x= alt.X(name+':N'),\n",
        "        y='SalePrice:Q',\n",
        "        color=alt.condition(brush, alt.ColorValue('red'), alt.ColorValue('gray'))\n",
        "    ).properties(\n",
        "        width=140,\n",
        "        height=140\n",
        "    ).add_selection(\n",
        "    brush)\n",
        "  return price & chart\n",
        "\n",
        "brush = alt.selection(type='interval', resolve='global')\n",
        "#create a list of subplots\n",
        "subplts = []\n",
        "for name in cat_x:\n",
        "    subplts.append(gen_chart(name))\n",
        "plots_per_row = 7\n",
        "hconcat = [alt.hconcat(*subplts[i:i+plots_per_row]) for i in range(0, len(subplts), plots_per_row)]\n",
        "alt.vconcat(*hconcat)"
      ],
      "execution_count": 0,
      "outputs": [
        {
          "output_type": "execute_result",
          "data": {
            "text/html": [
              "\n",
              "<div id=\"altair-viz-f52117d2e3f147018f2ecc688d633c41\"></div>\n",
              "<script type=\"text/javascript\">\n",
              "  (function(spec, embedOpt){\n",
              "    const outputDiv = document.getElementById(\"altair-viz-f52117d2e3f147018f2ecc688d633c41\");\n",
              "    const paths = {\n",
              "      \"vega\": \"https://cdn.jsdelivr.net/npm//vega@5?noext\",\n",
              "      \"vega-lib\": \"https://cdn.jsdelivr.net/npm//vega-lib?noext\",\n",
              "      \"vega-lite\": \"https://cdn.jsdelivr.net/npm//vega-lite@4.0.2?noext\",\n",
              "      \"vega-embed\": \"https://cdn.jsdelivr.net/npm//vega-embed@6?noext\",\n",
              "    };\n",
              "\n",
              "    function loadScript(lib) {\n",
              "      return new Promise(function(resolve, reject) {\n",
              "        var s = document.createElement('script');\n",
              "        s.src = paths[lib];\n",
              "        s.async = true;\n",
              "        s.onload = () => resolve(paths[lib]);\n",
              "        s.onerror = () => reject(`Error loading script: ${paths[lib]}`);\n",
              "        document.getElementsByTagName(\"head\")[0].appendChild(s);\n",
              "      });\n",
              "    }\n",
              "\n",
              "    function showError(err) {\n",
              "      outputDiv.innerHTML = `<div class=\"error\" style=\"color:red;\">${err}</div>`;\n",
              "      throw err;\n",
              "    }\n",
              "\n",
              "    function displayChart(vegaEmbed) {\n",
              "      vegaEmbed(outputDiv, spec, embedOpt)\n",
              "        .catch(err => showError(`Javascript Error: ${err.message}<br>This usually means there's a typo in your chart specification. See the javascript console for the full traceback.`));\n",
              "    }\n",
              "\n",
              "    if(typeof define === \"function\" && define.amd) {\n",
              "      requirejs.config({paths});\n",
              "      require([\"vega-embed\"], displayChart, err => showError(`Error loading script: ${err.message}`));\n",
              "    } else if (typeof vegaEmbed === \"function\") {\n",
              "      displayChart(vegaEmbed);\n",
              "    } else {\n",
              "      loadScript(\"vega\")\n",
              "        .then(() => loadScript(\"vega-lite\"))\n",
              "        .then(() => loadScript(\"vega-embed\"))\n",
              "        .catch(showError)\n",
              "        .then(() => displayChart(vegaEmbed));\n",
              "    }\n",
              "  })({\"config\": {\"view\": {\"continuousWidth\": 400, \"continuousHeight\": 300}}, \"vconcat\": [{\"hconcat\": [{\"vconcat\": [{\"mark\": \"boxplot\", \"encoding\": {\"color\": {\"condition\": {\"value\": \"red\", \"selection\": \"selector008\"}, \"value\": \"gray\"}, \"x\": {\"type\": \"nominal\", \"field\": \"Neighborhood\"}, \"y\": {\"type\": \"quantitative\", \"field\": \"SalePrice\"}}, \"height\": 140, \"selection\": {\"selector008\": {\"type\": \"interval\", \"resolve\": \"global\"}}, \"width\": 140}, {\"mark\": \"bar\", \"encoding\": {\"color\": {\"condition\": {\"value\": \"red\", \"selection\": \"selector008\"}, \"value\": \"gray\"}, \"x\": {\"type\": \"nominal\", \"bin\": false, \"field\": \"Neighborhood\"}, \"y\": {\"type\": \"quantitative\", \"aggregate\": \"count\"}}, \"height\": 30, \"selection\": {\"selector008\": {\"type\": \"interval\", \"resolve\": \"global\"}}, \"width\": 140}]}, {\"vconcat\": [{\"mark\": \"boxplot\", \"encoding\": {\"color\": {\"condition\": {\"value\": \"red\", \"selection\": \"selector008\"}, \"value\": \"gray\"}, \"x\": {\"type\": \"nominal\", \"field\": \"ExterQual\"}, \"y\": {\"type\": \"quantitative\", \"field\": \"SalePrice\"}}, \"height\": 140, \"selection\": {\"selector008\": {\"type\": \"interval\", \"resolve\": \"global\"}}, \"width\": 140}, {\"mark\": \"bar\", \"encoding\": {\"color\": {\"condition\": {\"value\": \"red\", \"selection\": \"selector008\"}, \"value\": \"gray\"}, \"x\": {\"type\": \"nominal\", \"bin\": false, \"field\": \"ExterQual\"}, \"y\": {\"type\": \"quantitative\", \"aggregate\": \"count\"}}, \"height\": 30, \"selection\": {\"selector008\": {\"type\": \"interval\", \"resolve\": \"global\"}}, \"width\": 140}]}, {\"vconcat\": [{\"mark\": \"boxplot\", \"encoding\": {\"color\": {\"condition\": {\"value\": \"red\", \"selection\": \"selector008\"}, \"value\": \"gray\"}, \"x\": {\"type\": \"nominal\", \"field\": \"KitchenQual\"}, \"y\": {\"type\": \"quantitative\", \"field\": \"SalePrice\"}}, \"height\": 140, \"selection\": {\"selector008\": {\"type\": \"interval\", \"resolve\": \"global\"}}, \"width\": 140}, {\"mark\": \"bar\", \"encoding\": {\"color\": {\"condition\": {\"value\": \"red\", \"selection\": \"selector008\"}, \"value\": \"gray\"}, \"x\": {\"type\": \"nominal\", \"bin\": false, \"field\": \"KitchenQual\"}, \"y\": {\"type\": \"quantitative\", \"aggregate\": \"count\"}}, \"height\": 30, \"selection\": {\"selector008\": {\"type\": \"interval\", \"resolve\": \"global\"}}, \"width\": 140}]}, {\"vconcat\": [{\"mark\": \"boxplot\", \"encoding\": {\"color\": {\"condition\": {\"value\": \"red\", \"selection\": \"selector008\"}, \"value\": \"gray\"}, \"x\": {\"type\": \"nominal\", \"field\": \"BsmtQual\"}, \"y\": {\"type\": \"quantitative\", \"field\": \"SalePrice\"}}, \"height\": 140, \"selection\": {\"selector008\": {\"type\": \"interval\", \"resolve\": \"global\"}}, \"width\": 140}, {\"mark\": \"bar\", \"encoding\": {\"color\": {\"condition\": {\"value\": \"red\", \"selection\": \"selector008\"}, \"value\": \"gray\"}, \"x\": {\"type\": \"nominal\", \"bin\": false, \"field\": \"BsmtQual\"}, \"y\": {\"type\": \"quantitative\", \"aggregate\": \"count\"}}, \"height\": 30, \"selection\": {\"selector008\": {\"type\": \"interval\", \"resolve\": \"global\"}}, \"width\": 140}]}, {\"vconcat\": [{\"mark\": \"boxplot\", \"encoding\": {\"color\": {\"condition\": {\"value\": \"red\", \"selection\": \"selector008\"}, \"value\": \"gray\"}, \"x\": {\"type\": \"nominal\", \"field\": \"Foundation\"}, \"y\": {\"type\": \"quantitative\", \"field\": \"SalePrice\"}}, \"height\": 140, \"selection\": {\"selector008\": {\"type\": \"interval\", \"resolve\": \"global\"}}, \"width\": 140}, {\"mark\": \"bar\", \"encoding\": {\"color\": {\"condition\": {\"value\": \"red\", \"selection\": \"selector008\"}, \"value\": \"gray\"}, \"x\": {\"type\": \"nominal\", \"bin\": false, \"field\": \"Foundation\"}, \"y\": {\"type\": \"quantitative\", \"aggregate\": \"count\"}}, \"height\": 30, \"selection\": {\"selector008\": {\"type\": \"interval\", \"resolve\": \"global\"}}, \"width\": 140}]}, {\"vconcat\": [{\"mark\": \"boxplot\", \"encoding\": {\"color\": {\"condition\": {\"value\": \"red\", \"selection\": \"selector008\"}, \"value\": \"gray\"}, \"x\": {\"type\": \"nominal\", \"field\": \"GarageFinish\"}, \"y\": {\"type\": \"quantitative\", \"field\": \"SalePrice\"}}, \"height\": 140, \"selection\": {\"selector008\": {\"type\": \"interval\", \"resolve\": \"global\"}}, \"width\": 140}, {\"mark\": \"bar\", \"encoding\": {\"color\": {\"condition\": {\"value\": \"red\", \"selection\": \"selector008\"}, \"value\": \"gray\"}, \"x\": {\"type\": \"nominal\", \"bin\": false, \"field\": \"GarageFinish\"}, \"y\": {\"type\": \"quantitative\", \"aggregate\": \"count\"}}, \"height\": 30, \"selection\": {\"selector008\": {\"type\": \"interval\", \"resolve\": \"global\"}}, \"width\": 140}]}, {\"vconcat\": [{\"mark\": \"boxplot\", \"encoding\": {\"color\": {\"condition\": {\"value\": \"red\", \"selection\": \"selector008\"}, \"value\": \"gray\"}, \"x\": {\"type\": \"nominal\", \"field\": \"HeatingQC\"}, \"y\": {\"type\": \"quantitative\", \"field\": \"SalePrice\"}}, \"height\": 140, \"selection\": {\"selector008\": {\"type\": \"interval\", \"resolve\": \"global\"}}, \"width\": 140}, {\"mark\": \"bar\", \"encoding\": {\"color\": {\"condition\": {\"value\": \"red\", \"selection\": \"selector008\"}, \"value\": \"gray\"}, \"x\": {\"type\": \"nominal\", \"bin\": false, \"field\": \"HeatingQC\"}, \"y\": {\"type\": \"quantitative\", \"aggregate\": \"count\"}}, \"height\": 30, \"selection\": {\"selector008\": {\"type\": \"interval\", \"resolve\": \"global\"}}, \"width\": 140}]}]}, {\"hconcat\": [{\"vconcat\": [{\"mark\": \"boxplot\", \"encoding\": {\"color\": {\"condition\": {\"value\": \"red\", \"selection\": \"selector008\"}, \"value\": \"gray\"}, \"x\": {\"type\": \"nominal\", \"field\": \"GarageType\"}, \"y\": {\"type\": \"quantitative\", \"field\": \"SalePrice\"}}, \"height\": 140, \"selection\": {\"selector008\": {\"type\": \"interval\", \"resolve\": \"global\"}}, \"width\": 140}, {\"mark\": \"bar\", \"encoding\": {\"color\": {\"condition\": {\"value\": \"red\", \"selection\": \"selector008\"}, \"value\": \"gray\"}, \"x\": {\"type\": \"nominal\", \"bin\": false, \"field\": \"GarageType\"}, \"y\": {\"type\": \"quantitative\", \"aggregate\": \"count\"}}, \"height\": 30, \"selection\": {\"selector008\": {\"type\": \"interval\", \"resolve\": \"global\"}}, \"width\": 140}]}, {\"vconcat\": [{\"mark\": \"boxplot\", \"encoding\": {\"color\": {\"condition\": {\"value\": \"red\", \"selection\": \"selector008\"}, \"value\": \"gray\"}, \"x\": {\"type\": \"nominal\", \"field\": \"BsmtFinType1\"}, \"y\": {\"type\": \"quantitative\", \"field\": \"SalePrice\"}}, \"height\": 140, \"selection\": {\"selector008\": {\"type\": \"interval\", \"resolve\": \"global\"}}, \"width\": 140}, {\"mark\": \"bar\", \"encoding\": {\"color\": {\"condition\": {\"value\": \"red\", \"selection\": \"selector008\"}, \"value\": \"gray\"}, \"x\": {\"type\": \"nominal\", \"bin\": false, \"field\": \"BsmtFinType1\"}, \"y\": {\"type\": \"quantitative\", \"aggregate\": \"count\"}}, \"height\": 30, \"selection\": {\"selector008\": {\"type\": \"interval\", \"resolve\": \"global\"}}, \"width\": 140}]}, {\"vconcat\": [{\"mark\": \"boxplot\", \"encoding\": {\"color\": {\"condition\": {\"value\": \"red\", \"selection\": \"selector008\"}, \"value\": \"gray\"}, \"x\": {\"type\": \"nominal\", \"field\": \"MasVnrType\"}, \"y\": {\"type\": \"quantitative\", \"field\": \"SalePrice\"}}, \"height\": 140, \"selection\": {\"selector008\": {\"type\": \"interval\", \"resolve\": \"global\"}}, \"width\": 140}, {\"mark\": \"bar\", \"encoding\": {\"color\": {\"condition\": {\"value\": \"red\", \"selection\": \"selector008\"}, \"value\": \"gray\"}, \"x\": {\"type\": \"nominal\", \"bin\": false, \"field\": \"MasVnrType\"}, \"y\": {\"type\": \"quantitative\", \"aggregate\": \"count\"}}, \"height\": 30, \"selection\": {\"selector008\": {\"type\": \"interval\", \"resolve\": \"global\"}}, \"width\": 140}]}, {\"vconcat\": [{\"mark\": \"boxplot\", \"encoding\": {\"color\": {\"condition\": {\"value\": \"red\", \"selection\": \"selector008\"}, \"value\": \"gray\"}, \"x\": {\"type\": \"nominal\", \"field\": \"Exterior2nd\"}, \"y\": {\"type\": \"quantitative\", \"field\": \"SalePrice\"}}, \"height\": 140, \"selection\": {\"selector008\": {\"type\": \"interval\", \"resolve\": \"global\"}}, \"width\": 140}, {\"mark\": \"bar\", \"encoding\": {\"color\": {\"condition\": {\"value\": \"red\", \"selection\": \"selector008\"}, \"value\": \"gray\"}, \"x\": {\"type\": \"nominal\", \"bin\": false, \"field\": \"Exterior2nd\"}, \"y\": {\"type\": \"quantitative\", \"aggregate\": \"count\"}}, \"height\": 30, \"selection\": {\"selector008\": {\"type\": \"interval\", \"resolve\": \"global\"}}, \"width\": 140}]}, {\"vconcat\": [{\"mark\": \"boxplot\", \"encoding\": {\"color\": {\"condition\": {\"value\": \"red\", \"selection\": \"selector008\"}, \"value\": \"gray\"}, \"x\": {\"type\": \"nominal\", \"field\": \"Exterior1st\"}, \"y\": {\"type\": \"quantitative\", \"field\": \"SalePrice\"}}, \"height\": 140, \"selection\": {\"selector008\": {\"type\": \"interval\", \"resolve\": \"global\"}}, \"width\": 140}, {\"mark\": \"bar\", \"encoding\": {\"color\": {\"condition\": {\"value\": \"red\", \"selection\": \"selector008\"}, \"value\": \"gray\"}, \"x\": {\"type\": \"nominal\", \"bin\": false, \"field\": \"Exterior1st\"}, \"y\": {\"type\": \"quantitative\", \"aggregate\": \"count\"}}, \"height\": 30, \"selection\": {\"selector008\": {\"type\": \"interval\", \"resolve\": \"global\"}}, \"width\": 140}]}, {\"vconcat\": [{\"mark\": \"boxplot\", \"encoding\": {\"color\": {\"condition\": {\"value\": \"red\", \"selection\": \"selector008\"}, \"value\": \"gray\"}, \"x\": {\"type\": \"nominal\", \"field\": \"SaleType\"}, \"y\": {\"type\": \"quantitative\", \"field\": \"SalePrice\"}}, \"height\": 140, \"selection\": {\"selector008\": {\"type\": \"interval\", \"resolve\": \"global\"}}, \"width\": 140}, {\"mark\": \"bar\", \"encoding\": {\"color\": {\"condition\": {\"value\": \"red\", \"selection\": \"selector008\"}, \"value\": \"gray\"}, \"x\": {\"type\": \"nominal\", \"bin\": false, \"field\": \"SaleType\"}, \"y\": {\"type\": \"quantitative\", \"aggregate\": \"count\"}}, \"height\": 30, \"selection\": {\"selector008\": {\"type\": \"interval\", \"resolve\": \"global\"}}, \"width\": 140}]}, {\"vconcat\": [{\"mark\": \"boxplot\", \"encoding\": {\"color\": {\"condition\": {\"value\": \"red\", \"selection\": \"selector008\"}, \"value\": \"gray\"}, \"x\": {\"type\": \"nominal\", \"field\": \"SaleCondition\"}, \"y\": {\"type\": \"quantitative\", \"field\": \"SalePrice\"}}, \"height\": 140, \"selection\": {\"selector008\": {\"type\": \"interval\", \"resolve\": \"global\"}}, \"width\": 140}, {\"mark\": \"bar\", \"encoding\": {\"color\": {\"condition\": {\"value\": \"red\", \"selection\": \"selector008\"}, \"value\": \"gray\"}, \"x\": {\"type\": \"nominal\", \"bin\": false, \"field\": \"SaleCondition\"}, \"y\": {\"type\": \"quantitative\", \"aggregate\": \"count\"}}, \"height\": 30, \"selection\": {\"selector008\": {\"type\": \"interval\", \"resolve\": \"global\"}}, \"width\": 140}]}]}, {\"hconcat\": [{\"vconcat\": [{\"mark\": \"boxplot\", \"encoding\": {\"color\": {\"condition\": {\"value\": \"red\", \"selection\": \"selector008\"}, \"value\": \"gray\"}, \"x\": {\"type\": \"nominal\", \"field\": \"BsmtExposure\"}, \"y\": {\"type\": \"quantitative\", \"field\": \"SalePrice\"}}, \"height\": 140, \"selection\": {\"selector008\": {\"type\": \"interval\", \"resolve\": \"global\"}}, \"width\": 140}, {\"mark\": \"bar\", \"encoding\": {\"color\": {\"condition\": {\"value\": \"red\", \"selection\": \"selector008\"}, \"value\": \"gray\"}, \"x\": {\"type\": \"nominal\", \"bin\": false, \"field\": \"BsmtExposure\"}, \"y\": {\"type\": \"quantitative\", \"aggregate\": \"count\"}}, \"height\": 30, \"selection\": {\"selector008\": {\"type\": \"interval\", \"resolve\": \"global\"}}, \"width\": 140}]}, {\"vconcat\": [{\"mark\": \"boxplot\", \"encoding\": {\"color\": {\"condition\": {\"value\": \"red\", \"selection\": \"selector008\"}, \"value\": \"gray\"}, \"x\": {\"type\": \"nominal\", \"field\": \"MSZoning\"}, \"y\": {\"type\": \"quantitative\", \"field\": \"SalePrice\"}}, \"height\": 140, \"selection\": {\"selector008\": {\"type\": \"interval\", \"resolve\": \"global\"}}, \"width\": 140}, {\"mark\": \"bar\", \"encoding\": {\"color\": {\"condition\": {\"value\": \"red\", \"selection\": \"selector008\"}, \"value\": \"gray\"}, \"x\": {\"type\": \"nominal\", \"bin\": false, \"field\": \"MSZoning\"}, \"y\": {\"type\": \"quantitative\", \"aggregate\": \"count\"}}, \"height\": 30, \"selection\": {\"selector008\": {\"type\": \"interval\", \"resolve\": \"global\"}}, \"width\": 140}]}, {\"vconcat\": [{\"mark\": \"boxplot\", \"encoding\": {\"color\": {\"condition\": {\"value\": \"red\", \"selection\": \"selector008\"}, \"value\": \"gray\"}, \"x\": {\"type\": \"nominal\", \"field\": \"HouseStyle\"}, \"y\": {\"type\": \"quantitative\", \"field\": \"SalePrice\"}}, \"height\": 140, \"selection\": {\"selector008\": {\"type\": \"interval\", \"resolve\": \"global\"}}, \"width\": 140}, {\"mark\": \"bar\", \"encoding\": {\"color\": {\"condition\": {\"value\": \"red\", \"selection\": \"selector008\"}, \"value\": \"gray\"}, \"x\": {\"type\": \"nominal\", \"bin\": false, \"field\": \"HouseStyle\"}, \"y\": {\"type\": \"quantitative\", \"aggregate\": \"count\"}}, \"height\": 30, \"selection\": {\"selector008\": {\"type\": \"interval\", \"resolve\": \"global\"}}, \"width\": 140}]}, {\"vconcat\": [{\"mark\": \"boxplot\", \"encoding\": {\"color\": {\"condition\": {\"value\": \"red\", \"selection\": \"selector008\"}, \"value\": \"gray\"}, \"x\": {\"type\": \"nominal\", \"field\": \"LotShape\"}, \"y\": {\"type\": \"quantitative\", \"field\": \"SalePrice\"}}, \"height\": 140, \"selection\": {\"selector008\": {\"type\": \"interval\", \"resolve\": \"global\"}}, \"width\": 140}, {\"mark\": \"bar\", \"encoding\": {\"color\": {\"condition\": {\"value\": \"red\", \"selection\": \"selector008\"}, \"value\": \"gray\"}, \"x\": {\"type\": \"nominal\", \"bin\": false, \"field\": \"LotShape\"}, \"y\": {\"type\": \"quantitative\", \"aggregate\": \"count\"}}, \"height\": 30, \"selection\": {\"selector008\": {\"type\": \"interval\", \"resolve\": \"global\"}}, \"width\": 140}]}, {\"vconcat\": [{\"mark\": \"boxplot\", \"encoding\": {\"color\": {\"condition\": {\"value\": \"red\", \"selection\": \"selector008\"}, \"value\": \"gray\"}, \"x\": {\"type\": \"nominal\", \"field\": \"CentralAir\"}, \"y\": {\"type\": \"quantitative\", \"field\": \"SalePrice\"}}, \"height\": 140, \"selection\": {\"selector008\": {\"type\": \"interval\", \"resolve\": \"global\"}}, \"width\": 140}, {\"mark\": \"bar\", \"encoding\": {\"color\": {\"condition\": {\"value\": \"red\", \"selection\": \"selector008\"}, \"value\": \"gray\"}, \"x\": {\"type\": \"nominal\", \"bin\": false, \"field\": \"CentralAir\"}, \"y\": {\"type\": \"quantitative\", \"aggregate\": \"count\"}}, \"height\": 30, \"selection\": {\"selector008\": {\"type\": \"interval\", \"resolve\": \"global\"}}, \"width\": 140}]}, {\"vconcat\": [{\"mark\": \"boxplot\", \"encoding\": {\"color\": {\"condition\": {\"value\": \"red\", \"selection\": \"selector008\"}, \"value\": \"gray\"}, \"x\": {\"type\": \"nominal\", \"field\": \"Electrical\"}, \"y\": {\"type\": \"quantitative\", \"field\": \"SalePrice\"}}, \"height\": 140, \"selection\": {\"selector008\": {\"type\": \"interval\", \"resolve\": \"global\"}}, \"width\": 140}, {\"mark\": \"bar\", \"encoding\": {\"color\": {\"condition\": {\"value\": \"red\", \"selection\": \"selector008\"}, \"value\": \"gray\"}, \"x\": {\"type\": \"nominal\", \"bin\": false, \"field\": \"Electrical\"}, \"y\": {\"type\": \"quantitative\", \"aggregate\": \"count\"}}, \"height\": 30, \"selection\": {\"selector008\": {\"type\": \"interval\", \"resolve\": \"global\"}}, \"width\": 140}]}, {\"vconcat\": [{\"mark\": \"boxplot\", \"encoding\": {\"color\": {\"condition\": {\"value\": \"red\", \"selection\": \"selector008\"}, \"value\": \"gray\"}, \"x\": {\"type\": \"nominal\", \"field\": \"FireplaceQu\"}, \"y\": {\"type\": \"quantitative\", \"field\": \"SalePrice\"}}, \"height\": 140, \"selection\": {\"selector008\": {\"type\": \"interval\", \"resolve\": \"global\"}}, \"width\": 140}, {\"mark\": \"bar\", \"encoding\": {\"color\": {\"condition\": {\"value\": \"red\", \"selection\": \"selector008\"}, \"value\": \"gray\"}, \"x\": {\"type\": \"nominal\", \"bin\": false, \"field\": \"FireplaceQu\"}, \"y\": {\"type\": \"quantitative\", \"aggregate\": \"count\"}}, \"height\": 30, \"selection\": {\"selector008\": {\"type\": \"interval\", \"resolve\": \"global\"}}, \"width\": 140}]}]}, {\"hconcat\": [{\"vconcat\": [{\"mark\": \"boxplot\", \"encoding\": {\"color\": {\"condition\": {\"value\": \"red\", \"selection\": \"selector008\"}, \"value\": \"gray\"}, \"x\": {\"type\": \"nominal\", \"field\": \"RoofStyle\"}, \"y\": {\"type\": \"quantitative\", \"field\": \"SalePrice\"}}, \"height\": 140, \"selection\": {\"selector008\": {\"type\": \"interval\", \"resolve\": \"global\"}}, \"width\": 140}, {\"mark\": \"bar\", \"encoding\": {\"color\": {\"condition\": {\"value\": \"red\", \"selection\": \"selector008\"}, \"value\": \"gray\"}, \"x\": {\"type\": \"nominal\", \"bin\": false, \"field\": \"RoofStyle\"}, \"y\": {\"type\": \"quantitative\", \"aggregate\": \"count\"}}, \"height\": 30, \"selection\": {\"selector008\": {\"type\": \"interval\", \"resolve\": \"global\"}}, \"width\": 140}]}, {\"vconcat\": [{\"mark\": \"boxplot\", \"encoding\": {\"color\": {\"condition\": {\"value\": \"red\", \"selection\": \"selector008\"}, \"value\": \"gray\"}, \"x\": {\"type\": \"nominal\", \"field\": \"PavedDrive\"}, \"y\": {\"type\": \"quantitative\", \"field\": \"SalePrice\"}}, \"height\": 140, \"selection\": {\"selector008\": {\"type\": \"interval\", \"resolve\": \"global\"}}, \"width\": 140}, {\"mark\": \"bar\", \"encoding\": {\"color\": {\"condition\": {\"value\": \"red\", \"selection\": \"selector008\"}, \"value\": \"gray\"}, \"x\": {\"type\": \"nominal\", \"bin\": false, \"field\": \"PavedDrive\"}, \"y\": {\"type\": \"quantitative\", \"aggregate\": \"count\"}}, \"height\": 30, \"selection\": {\"selector008\": {\"type\": \"interval\", \"resolve\": \"global\"}}, \"width\": 140}]}, {\"vconcat\": [{\"mark\": \"boxplot\", \"encoding\": {\"color\": {\"condition\": {\"value\": \"red\", \"selection\": \"selector008\"}, \"value\": \"gray\"}, \"x\": {\"type\": \"nominal\", \"field\": \"BldgType\"}, \"y\": {\"type\": \"quantitative\", \"field\": \"SalePrice\"}}, \"height\": 140, \"selection\": {\"selector008\": {\"type\": \"interval\", \"resolve\": \"global\"}}, \"width\": 140}, {\"mark\": \"bar\", \"encoding\": {\"color\": {\"condition\": {\"value\": \"red\", \"selection\": \"selector008\"}, \"value\": \"gray\"}, \"x\": {\"type\": \"nominal\", \"bin\": false, \"field\": \"BldgType\"}, \"y\": {\"type\": \"quantitative\", \"aggregate\": \"count\"}}, \"height\": 30, \"selection\": {\"selector008\": {\"type\": \"interval\", \"resolve\": \"global\"}}, \"width\": 140}]}, {\"vconcat\": [{\"mark\": \"boxplot\", \"encoding\": {\"color\": {\"condition\": {\"value\": \"red\", \"selection\": \"selector008\"}, \"value\": \"gray\"}, \"x\": {\"type\": \"nominal\", \"field\": \"Condition1\"}, \"y\": {\"type\": \"quantitative\", \"field\": \"SalePrice\"}}, \"height\": 140, \"selection\": {\"selector008\": {\"type\": \"interval\", \"resolve\": \"global\"}}, \"width\": 140}, {\"mark\": \"bar\", \"encoding\": {\"color\": {\"condition\": {\"value\": \"red\", \"selection\": \"selector008\"}, \"value\": \"gray\"}, \"x\": {\"type\": \"nominal\", \"bin\": false, \"field\": \"Condition1\"}, \"y\": {\"type\": \"quantitative\", \"aggregate\": \"count\"}}, \"height\": 30, \"selection\": {\"selector008\": {\"type\": \"interval\", \"resolve\": \"global\"}}, \"width\": 140}]}, {\"vconcat\": [{\"mark\": \"boxplot\", \"encoding\": {\"color\": {\"condition\": {\"value\": \"red\", \"selection\": \"selector008\"}, \"value\": \"gray\"}, \"x\": {\"type\": \"nominal\", \"field\": \"RoofMatl\"}, \"y\": {\"type\": \"quantitative\", \"field\": \"SalePrice\"}}, \"height\": 140, \"selection\": {\"selector008\": {\"type\": \"interval\", \"resolve\": \"global\"}}, \"width\": 140}, {\"mark\": \"bar\", \"encoding\": {\"color\": {\"condition\": {\"value\": \"red\", \"selection\": \"selector008\"}, \"value\": \"gray\"}, \"x\": {\"type\": \"nominal\", \"bin\": false, \"field\": \"RoofMatl\"}, \"y\": {\"type\": \"quantitative\", \"aggregate\": \"count\"}}, \"height\": 30, \"selection\": {\"selector008\": {\"type\": \"interval\", \"resolve\": \"global\"}}, \"width\": 140}]}, {\"vconcat\": [{\"mark\": \"boxplot\", \"encoding\": {\"color\": {\"condition\": {\"value\": \"red\", \"selection\": \"selector008\"}, \"value\": \"gray\"}, \"x\": {\"type\": \"nominal\", \"field\": \"BsmtCond\"}, \"y\": {\"type\": \"quantitative\", \"field\": \"SalePrice\"}}, \"height\": 140, \"selection\": {\"selector008\": {\"type\": \"interval\", \"resolve\": \"global\"}}, \"width\": 140}, {\"mark\": \"bar\", \"encoding\": {\"color\": {\"condition\": {\"value\": \"red\", \"selection\": \"selector008\"}, \"value\": \"gray\"}, \"x\": {\"type\": \"nominal\", \"bin\": false, \"field\": \"BsmtCond\"}, \"y\": {\"type\": \"quantitative\", \"aggregate\": \"count\"}}, \"height\": 30, \"selection\": {\"selector008\": {\"type\": \"interval\", \"resolve\": \"global\"}}, \"width\": 140}]}, {\"vconcat\": [{\"mark\": \"boxplot\", \"encoding\": {\"color\": {\"condition\": {\"value\": \"red\", \"selection\": \"selector008\"}, \"value\": \"gray\"}, \"x\": {\"type\": \"nominal\", \"field\": \"LandContour\"}, \"y\": {\"type\": \"quantitative\", \"field\": \"SalePrice\"}}, \"height\": 140, \"selection\": {\"selector008\": {\"type\": \"interval\", \"resolve\": \"global\"}}, \"width\": 140}, {\"mark\": \"bar\", \"encoding\": {\"color\": {\"condition\": {\"value\": \"red\", \"selection\": \"selector008\"}, \"value\": \"gray\"}, \"x\": {\"type\": \"nominal\", \"bin\": false, \"field\": \"LandContour\"}, \"y\": {\"type\": \"quantitative\", \"aggregate\": \"count\"}}, \"height\": 30, \"selection\": {\"selector008\": {\"type\": \"interval\", \"resolve\": \"global\"}}, \"width\": 140}]}]}, {\"hconcat\": [{\"vconcat\": [{\"mark\": \"boxplot\", \"encoding\": {\"color\": {\"condition\": {\"value\": \"red\", \"selection\": \"selector008\"}, \"value\": \"gray\"}, \"x\": {\"type\": \"nominal\", \"field\": \"GarageQual\"}, \"y\": {\"type\": \"quantitative\", \"field\": \"SalePrice\"}}, \"height\": 140, \"selection\": {\"selector008\": {\"type\": \"interval\", \"resolve\": \"global\"}}, \"width\": 140}, {\"mark\": \"bar\", \"encoding\": {\"color\": {\"condition\": {\"value\": \"red\", \"selection\": \"selector008\"}, \"value\": \"gray\"}, \"x\": {\"type\": \"nominal\", \"bin\": false, \"field\": \"GarageQual\"}, \"y\": {\"type\": \"quantitative\", \"aggregate\": \"count\"}}, \"height\": 30, \"selection\": {\"selector008\": {\"type\": \"interval\", \"resolve\": \"global\"}}, \"width\": 140}]}, {\"vconcat\": [{\"mark\": \"boxplot\", \"encoding\": {\"color\": {\"condition\": {\"value\": \"red\", \"selection\": \"selector008\"}, \"value\": \"gray\"}, \"x\": {\"type\": \"nominal\", \"field\": \"GarageCond\"}, \"y\": {\"type\": \"quantitative\", \"field\": \"SalePrice\"}}, \"height\": 140, \"selection\": {\"selector008\": {\"type\": \"interval\", \"resolve\": \"global\"}}, \"width\": 140}, {\"mark\": \"bar\", \"encoding\": {\"color\": {\"condition\": {\"value\": \"red\", \"selection\": \"selector008\"}, \"value\": \"gray\"}, \"x\": {\"type\": \"nominal\", \"bin\": false, \"field\": \"GarageCond\"}, \"y\": {\"type\": \"quantitative\", \"aggregate\": \"count\"}}, \"height\": 30, \"selection\": {\"selector008\": {\"type\": \"interval\", \"resolve\": \"global\"}}, \"width\": 140}]}, {\"vconcat\": [{\"mark\": \"boxplot\", \"encoding\": {\"color\": {\"condition\": {\"value\": \"red\", \"selection\": \"selector008\"}, \"value\": \"gray\"}, \"x\": {\"type\": \"nominal\", \"field\": \"ExterCond\"}, \"y\": {\"type\": \"quantitative\", \"field\": \"SalePrice\"}}, \"height\": 140, \"selection\": {\"selector008\": {\"type\": \"interval\", \"resolve\": \"global\"}}, \"width\": 140}, {\"mark\": \"bar\", \"encoding\": {\"color\": {\"condition\": {\"value\": \"red\", \"selection\": \"selector008\"}, \"value\": \"gray\"}, \"x\": {\"type\": \"nominal\", \"bin\": false, \"field\": \"ExterCond\"}, \"y\": {\"type\": \"quantitative\", \"aggregate\": \"count\"}}, \"height\": 30, \"selection\": {\"selector008\": {\"type\": \"interval\", \"resolve\": \"global\"}}, \"width\": 140}]}, {\"vconcat\": [{\"mark\": \"boxplot\", \"encoding\": {\"color\": {\"condition\": {\"value\": \"red\", \"selection\": \"selector008\"}, \"value\": \"gray\"}, \"x\": {\"type\": \"nominal\", \"field\": \"LotConfig\"}, \"y\": {\"type\": \"quantitative\", \"field\": \"SalePrice\"}}, \"height\": 140, \"selection\": {\"selector008\": {\"type\": \"interval\", \"resolve\": \"global\"}}, \"width\": 140}, {\"mark\": \"bar\", \"encoding\": {\"color\": {\"condition\": {\"value\": \"red\", \"selection\": \"selector008\"}, \"value\": \"gray\"}, \"x\": {\"type\": \"nominal\", \"bin\": false, \"field\": \"LotConfig\"}, \"y\": {\"type\": \"quantitative\", \"aggregate\": \"count\"}}, \"height\": 30, \"selection\": {\"selector008\": {\"type\": \"interval\", \"resolve\": \"global\"}}, \"width\": 140}]}, {\"vconcat\": [{\"mark\": \"boxplot\", \"encoding\": {\"color\": {\"condition\": {\"value\": \"red\", \"selection\": \"selector008\"}, \"value\": \"gray\"}, \"x\": {\"type\": \"nominal\", \"field\": \"Functional\"}, \"y\": {\"type\": \"quantitative\", \"field\": \"SalePrice\"}}, \"height\": 140, \"selection\": {\"selector008\": {\"type\": \"interval\", \"resolve\": \"global\"}}, \"width\": 140}, {\"mark\": \"bar\", \"encoding\": {\"color\": {\"condition\": {\"value\": \"red\", \"selection\": \"selector008\"}, \"value\": \"gray\"}, \"x\": {\"type\": \"nominal\", \"bin\": false, \"field\": \"Functional\"}, \"y\": {\"type\": \"quantitative\", \"aggregate\": \"count\"}}, \"height\": 30, \"selection\": {\"selector008\": {\"type\": \"interval\", \"resolve\": \"global\"}}, \"width\": 140}]}, {\"vconcat\": [{\"mark\": \"boxplot\", \"encoding\": {\"color\": {\"condition\": {\"value\": \"red\", \"selection\": \"selector008\"}, \"value\": \"gray\"}, \"x\": {\"type\": \"nominal\", \"field\": \"Heating\"}, \"y\": {\"type\": \"quantitative\", \"field\": \"SalePrice\"}}, \"height\": 140, \"selection\": {\"selector008\": {\"type\": \"interval\", \"resolve\": \"global\"}}, \"width\": 140}, {\"mark\": \"bar\", \"encoding\": {\"color\": {\"condition\": {\"value\": \"red\", \"selection\": \"selector008\"}, \"value\": \"gray\"}, \"x\": {\"type\": \"nominal\", \"bin\": false, \"field\": \"Heating\"}, \"y\": {\"type\": \"quantitative\", \"aggregate\": \"count\"}}, \"height\": 30, \"selection\": {\"selector008\": {\"type\": \"interval\", \"resolve\": \"global\"}}, \"width\": 140}]}, {\"vconcat\": [{\"mark\": \"boxplot\", \"encoding\": {\"color\": {\"condition\": {\"value\": \"red\", \"selection\": \"selector008\"}, \"value\": \"gray\"}, \"x\": {\"type\": \"nominal\", \"field\": \"Condition2\"}, \"y\": {\"type\": \"quantitative\", \"field\": \"SalePrice\"}}, \"height\": 140, \"selection\": {\"selector008\": {\"type\": \"interval\", \"resolve\": \"global\"}}, \"width\": 140}, {\"mark\": \"bar\", \"encoding\": {\"color\": {\"condition\": {\"value\": \"red\", \"selection\": \"selector008\"}, \"value\": \"gray\"}, \"x\": {\"type\": \"nominal\", \"bin\": false, \"field\": \"Condition2\"}, \"y\": {\"type\": \"quantitative\", \"aggregate\": \"count\"}}, \"height\": 30, \"selection\": {\"selector008\": {\"type\": \"interval\", \"resolve\": \"global\"}}, \"width\": 140}]}]}, {\"hconcat\": [{\"vconcat\": [{\"mark\": \"boxplot\", \"encoding\": {\"color\": {\"condition\": {\"value\": \"red\", \"selection\": \"selector008\"}, \"value\": \"gray\"}, \"x\": {\"type\": \"nominal\", \"field\": \"BsmtFinType2\"}, \"y\": {\"type\": \"quantitative\", \"field\": \"SalePrice\"}}, \"height\": 140, \"selection\": {\"selector008\": {\"type\": \"interval\", \"resolve\": \"global\"}}, \"width\": 140}, {\"mark\": \"bar\", \"encoding\": {\"color\": {\"condition\": {\"value\": \"red\", \"selection\": \"selector008\"}, \"value\": \"gray\"}, \"x\": {\"type\": \"nominal\", \"bin\": false, \"field\": \"BsmtFinType2\"}, \"y\": {\"type\": \"quantitative\", \"aggregate\": \"count\"}}, \"height\": 30, \"selection\": {\"selector008\": {\"type\": \"interval\", \"resolve\": \"global\"}}, \"width\": 140}]}, {\"vconcat\": [{\"mark\": \"boxplot\", \"encoding\": {\"color\": {\"condition\": {\"value\": \"red\", \"selection\": \"selector008\"}, \"value\": \"gray\"}, \"x\": {\"type\": \"nominal\", \"field\": \"Fence\"}, \"y\": {\"type\": \"quantitative\", \"field\": \"SalePrice\"}}, \"height\": 140, \"selection\": {\"selector008\": {\"type\": \"interval\", \"resolve\": \"global\"}}, \"width\": 140}, {\"mark\": \"bar\", \"encoding\": {\"color\": {\"condition\": {\"value\": \"red\", \"selection\": \"selector008\"}, \"value\": \"gray\"}, \"x\": {\"type\": \"nominal\", \"bin\": false, \"field\": \"Fence\"}, \"y\": {\"type\": \"quantitative\", \"aggregate\": \"count\"}}, \"height\": 30, \"selection\": {\"selector008\": {\"type\": \"interval\", \"resolve\": \"global\"}}, \"width\": 140}]}, {\"vconcat\": [{\"mark\": \"boxplot\", \"encoding\": {\"color\": {\"condition\": {\"value\": \"red\", \"selection\": \"selector008\"}, \"value\": \"gray\"}, \"x\": {\"type\": \"nominal\", \"field\": \"PoolQC\"}, \"y\": {\"type\": \"quantitative\", \"field\": \"SalePrice\"}}, \"height\": 140, \"selection\": {\"selector008\": {\"type\": \"interval\", \"resolve\": \"global\"}}, \"width\": 140}, {\"mark\": \"bar\", \"encoding\": {\"color\": {\"condition\": {\"value\": \"red\", \"selection\": \"selector008\"}, \"value\": \"gray\"}, \"x\": {\"type\": \"nominal\", \"bin\": false, \"field\": \"PoolQC\"}, \"y\": {\"type\": \"quantitative\", \"aggregate\": \"count\"}}, \"height\": 30, \"selection\": {\"selector008\": {\"type\": \"interval\", \"resolve\": \"global\"}}, \"width\": 140}]}, {\"vconcat\": [{\"mark\": \"boxplot\", \"encoding\": {\"color\": {\"condition\": {\"value\": \"red\", \"selection\": \"selector008\"}, \"value\": \"gray\"}, \"x\": {\"type\": \"nominal\", \"field\": \"Alley\"}, \"y\": {\"type\": \"quantitative\", \"field\": \"SalePrice\"}}, \"height\": 140, \"selection\": {\"selector008\": {\"type\": \"interval\", \"resolve\": \"global\"}}, \"width\": 140}, {\"mark\": \"bar\", \"encoding\": {\"color\": {\"condition\": {\"value\": \"red\", \"selection\": \"selector008\"}, \"value\": \"gray\"}, \"x\": {\"type\": \"nominal\", \"bin\": false, \"field\": \"Alley\"}, \"y\": {\"type\": \"quantitative\", \"aggregate\": \"count\"}}, \"height\": 30, \"selection\": {\"selector008\": {\"type\": \"interval\", \"resolve\": \"global\"}}, \"width\": 140}]}, {\"vconcat\": [{\"mark\": \"boxplot\", \"encoding\": {\"color\": {\"condition\": {\"value\": \"red\", \"selection\": \"selector008\"}, \"value\": \"gray\"}, \"x\": {\"type\": \"nominal\", \"field\": \"LandSlope\"}, \"y\": {\"type\": \"quantitative\", \"field\": \"SalePrice\"}}, \"height\": 140, \"selection\": {\"selector008\": {\"type\": \"interval\", \"resolve\": \"global\"}}, \"width\": 140}, {\"mark\": \"bar\", \"encoding\": {\"color\": {\"condition\": {\"value\": \"red\", \"selection\": \"selector008\"}, \"value\": \"gray\"}, \"x\": {\"type\": \"nominal\", \"bin\": false, \"field\": \"LandSlope\"}, \"y\": {\"type\": \"quantitative\", \"aggregate\": \"count\"}}, \"height\": 30, \"selection\": {\"selector008\": {\"type\": \"interval\", \"resolve\": \"global\"}}, \"width\": 140}]}, {\"vconcat\": [{\"mark\": \"boxplot\", \"encoding\": {\"color\": {\"condition\": {\"value\": \"red\", \"selection\": \"selector008\"}, \"value\": \"gray\"}, \"x\": {\"type\": \"nominal\", \"field\": \"Street\"}, \"y\": {\"type\": \"quantitative\", \"field\": \"SalePrice\"}}, \"height\": 140, \"selection\": {\"selector008\": {\"type\": \"interval\", \"resolve\": \"global\"}}, \"width\": 140}, {\"mark\": \"bar\", \"encoding\": {\"color\": {\"condition\": {\"value\": \"red\", \"selection\": \"selector008\"}, \"value\": \"gray\"}, \"x\": {\"type\": \"nominal\", \"bin\": false, \"field\": \"Street\"}, \"y\": {\"type\": \"quantitative\", \"aggregate\": \"count\"}}, \"height\": 30, \"selection\": {\"selector008\": {\"type\": \"interval\", \"resolve\": \"global\"}}, \"width\": 140}]}, {\"vconcat\": [{\"mark\": \"boxplot\", \"encoding\": {\"color\": {\"condition\": {\"value\": \"red\", \"selection\": \"selector008\"}, \"value\": \"gray\"}, \"x\": {\"type\": \"nominal\", \"field\": \"MiscFeature\"}, \"y\": {\"type\": \"quantitative\", \"field\": \"SalePrice\"}}, \"height\": 140, \"selection\": {\"selector008\": {\"type\": \"interval\", \"resolve\": \"global\"}}, \"width\": 140}, {\"mark\": \"bar\", \"encoding\": {\"color\": {\"condition\": {\"value\": \"red\", \"selection\": \"selector008\"}, \"value\": \"gray\"}, \"x\": {\"type\": \"nominal\", \"bin\": false, \"field\": \"MiscFeature\"}, \"y\": {\"type\": \"quantitative\", \"aggregate\": \"count\"}}, \"height\": 30, \"selection\": {\"selector008\": {\"type\": \"interval\", \"resolve\": \"global\"}}, \"width\": 140}]}]}, {\"hconcat\": [{\"vconcat\": [{\"mark\": \"boxplot\", \"encoding\": {\"color\": {\"condition\": {\"value\": \"red\", \"selection\": \"selector008\"}, \"value\": \"gray\"}, \"x\": {\"type\": \"nominal\", \"field\": \"Utilities\"}, \"y\": {\"type\": \"quantitative\", \"field\": \"SalePrice\"}}, \"height\": 140, \"selection\": {\"selector008\": {\"type\": \"interval\", \"resolve\": \"global\"}}, \"width\": 140}, {\"mark\": \"bar\", \"encoding\": {\"color\": {\"condition\": {\"value\": \"red\", \"selection\": \"selector008\"}, \"value\": \"gray\"}, \"x\": {\"type\": \"nominal\", \"bin\": false, \"field\": \"Utilities\"}, \"y\": {\"type\": \"quantitative\", \"aggregate\": \"count\"}}, \"height\": 30, \"selection\": {\"selector008\": {\"type\": \"interval\", \"resolve\": \"global\"}}, \"width\": 140}]}]}], \"data\": {\"url\": \"https://raw.githubusercontent.com/jvanelteren/housing/master/datasets/train.csv\"}, \"$schema\": \"https://vega.github.io/schema/vega-lite/v4.0.2.json\"}, {\"mode\": \"vega-lite\"});\n",
              "</script>"
            ],
            "text/plain": [
              "alt.VConcatChart(...)"
            ]
          },
          "metadata": {
            "tags": []
          },
          "execution_count": 55
        }
      ]
    },
    {
      "cell_type": "code",
      "metadata": {
        "id": "S_BEY8s3Uowo",
        "colab_type": "code",
        "colab": {}
      },
      "source": [
        ""
      ],
      "execution_count": 0,
      "outputs": []
    }
  ],
  "metadata": {
    "anaconda-cloud": {},
    "kernelspec": {
      "display_name": "Python 3.7.3 64-bit ('ProgramData': virtualenv)",
      "language": "python",
      "name": "python37364bitprogramdatavirtualenv99403c2e8abd4ba0909557516bfee9d9"
    },
    "language_info": {
      "codemirror_mode": {
        "name": "ipython",
        "version": 3
      },
      "file_extension": ".py",
      "mimetype": "text/x-python",
      "name": "python",
      "nbconvert_exporter": "python",
      "pygments_lexer": "ipython3",
      "version": "3.7.3-final"
    },
    "colab": {
      "name": "Copy of Copy of Copy of rentJesse.ipynb",
      "provenance": [],
      "collapsed_sections": []
    }
  },
  "nbformat": 4,
  "nbformat_minor": 0
}