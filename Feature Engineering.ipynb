{
  "cells": [
    {
      "cell_type": "markdown",
      "metadata": {},
      "source": [
        "### Purpose of this workbook is to prepare the pandas dataframes for a preprocessing pipeline\n",
        "Conclusion that surprisingly removing outliers improved LB score. Of all the added features, only polynomials seemed to matter"
      ]
    },
    {
      "cell_type": "code",
      "metadata": {
        "id": "_NDWSAWprShN",
        "colab_type": "code",
        "colab": {}
      },
      "source": [
        "import pandas as pd\n",
        "import numpy as np\n",
        "import pickle"
      ],
      "execution_count": 1,
      "outputs": []
    },
    {
      "cell_type": "markdown",
      "metadata": {},
      "source": [
        "## Remove outliers"
      ]
    },
    {
      "cell_type": "code",
      "execution_count": 2,
      "metadata": {},
      "outputs": [],
      "source": [
        "from sklearn.neighbors import LocalOutlierFactor\n",
        "def remove_outliers(train,y_col):\n",
        "    lcf = LocalOutlierFactor()\n",
        "    corr = train.corr()[y_col]\n",
        "    corr = corr.sort_values(ascending=False)\n",
        "    num_x = list(corr.index)[1:]\n",
        "    lof_df = train[num_x].fillna(train[num_x].median())\n",
        "    pred =lcf.fit_predict(lof_df)\n",
        "    train = train[pred==1]\n",
        "    return train"
      ]
    },
    {
      "cell_type": "markdown",
      "metadata": {},
      "source": [
        "## Get dataset"
      ]
    },
    {
      "cell_type": "code",
      "metadata": {
        "scrolled": true,
        "id": "3whduyAbrShU",
        "colab_type": "code",
        "outputId": "ee37d5cf-5d0f-4de2-c51b-9a622e6998a2",
        "colab": {
          "base_uri": "https://localhost:8080/",
          "height": 591
        },
        "tags": []
      },
      "source": [
        "#make train and test datasets. Splitting labels and features happens later\n",
        "def get_dataset():\n",
        "    path_train = \"https://raw.githubusercontent.com/jvanelteren/housing/master/datasets/train.csv\"\n",
        "    path_test = \"https://raw.githubusercontent.com/jvanelteren/housing/master/datasets/test.csv\"\n",
        "\n",
        "    train = pd.read_csv(path_train)\n",
        "    final_test = pd.read_csv(path_test)\n",
        "    print(f'train shape{train.shape}\\ntest shape {final_test.shape}\\n')\n",
        "\n",
        "    y_col = (set(train.columns) - set(final_test.columns)).pop()\n",
        "\n",
        "    # train = remove_outliers(train,y_col)\n",
        "    train = train[train.GrLivArea < 4000]\n",
        "    train_x = train.drop([y_col], axis=1)\n",
        "    train_y = train.loc[:,y_col]\n",
        "    train_x.shape, train_y.shape\n",
        "    print(f'train_x shape{train_x.shape}\\ntrain_y shape {train_y.shape}')\n",
        "    return train_x, train_y, final_test\n",
        "train_x, train_y, final_test = get_dataset()"
      ],
      "execution_count": 3,
      "outputs": [
        {
          "output_type": "stream",
          "name": "stdout",
          "text": "train shape(1460, 81)\ntest shape (1459, 80)\n\ntrain_x shape(1456, 80)\ntrain_y shape (1456,)\n"
        }
      ]
    },
    {
      "cell_type": "markdown",
      "metadata": {},
      "source": [
        "## Converting Y to Log"
      ]
    },
    {
      "cell_type": "code",
      "execution_count": 4,
      "metadata": {},
      "outputs": [],
      "source": [
        "train_y = np.log1p(train_y)"
      ]
    },
    {
      "cell_type": "markdown",
      "metadata": {},
      "source": [
        "## Remove columns"
      ]
    },
    {
      "cell_type": "code",
      "execution_count": 5,
      "metadata": {},
      "outputs": [],
      "source": [
        "for df in [train_x]:\n",
        "    df = df.drop(['Id','Utilities'], axis=1,inplace=True)\n",
        "\n"
      ]
    },
    {
      "cell_type": "code",
      "execution_count": 6,
      "metadata": {},
      "outputs": [
        {
          "output_type": "error",
          "ename": "NameError",
          "evalue": "name 'full' is not defined",
          "traceback": [
            "\u001b[1;31m---------------------------------------------------------------------------\u001b[0m",
            "\u001b[1;31mNameError\u001b[0m                                 Traceback (most recent call last)",
            "\u001b[1;32m<ipython-input-6-4b96497f9c83>\u001b[0m in \u001b[0;36m<module>\u001b[1;34m\u001b[0m\n\u001b[0;32m      1\u001b[0m \u001b[1;31m#Since LotArea is a continuous feature, We use qcut to divide it into 10 parts.\u001b[0m\u001b[1;33m\u001b[0m\u001b[1;33m\u001b[0m\u001b[1;33m\u001b[0m\u001b[0m\n\u001b[1;32m----> 2\u001b[1;33m \u001b[0mfull\u001b[0m\u001b[1;33m[\u001b[0m\u001b[1;34m\"LotAreaCut\"\u001b[0m\u001b[1;33m]\u001b[0m \u001b[1;33m=\u001b[0m \u001b[0mpd\u001b[0m\u001b[1;33m.\u001b[0m\u001b[0mqcut\u001b[0m\u001b[1;33m(\u001b[0m\u001b[0mfull\u001b[0m\u001b[1;33m.\u001b[0m\u001b[0mLotArea\u001b[0m\u001b[1;33m,\u001b[0m\u001b[1;36m10\u001b[0m\u001b[1;33m)\u001b[0m\u001b[1;33m\u001b[0m\u001b[1;33m\u001b[0m\u001b[0m\n\u001b[0m\u001b[0;32m      3\u001b[0m \u001b[0mfull\u001b[0m\u001b[1;33m.\u001b[0m\u001b[0mgroupby\u001b[0m\u001b[1;33m(\u001b[0m\u001b[1;33m[\u001b[0m\u001b[1;34m'LotAreaCut'\u001b[0m\u001b[1;33m]\u001b[0m\u001b[1;33m)\u001b[0m\u001b[1;33m[\u001b[0m\u001b[1;33m[\u001b[0m\u001b[1;34m'LotFrontage'\u001b[0m\u001b[1;33m]\u001b[0m\u001b[1;33m]\u001b[0m\u001b[1;33m.\u001b[0m\u001b[0magg\u001b[0m\u001b[1;33m(\u001b[0m\u001b[1;33m[\u001b[0m\u001b[1;34m'mean'\u001b[0m\u001b[1;33m,\u001b[0m\u001b[1;34m'median'\u001b[0m\u001b[1;33m,\u001b[0m\u001b[1;34m'count'\u001b[0m\u001b[1;33m]\u001b[0m\u001b[1;33m)\u001b[0m\u001b[1;33m\u001b[0m\u001b[1;33m\u001b[0m\u001b[0m\n\u001b[0;32m      4\u001b[0m \u001b[1;31m#filling the LotFrontage with its median\u001b[0m\u001b[1;33m\u001b[0m\u001b[1;33m\u001b[0m\u001b[1;33m\u001b[0m\u001b[0m\n\u001b[0;32m      5\u001b[0m \u001b[0mfull\u001b[0m\u001b[1;33m[\u001b[0m\u001b[1;34m'LotFrontage'\u001b[0m\u001b[1;33m]\u001b[0m\u001b[1;33m=\u001b[0m\u001b[0mfull\u001b[0m\u001b[1;33m.\u001b[0m\u001b[0mgroupby\u001b[0m\u001b[1;33m(\u001b[0m\u001b[1;33m[\u001b[0m\u001b[1;34m'LotAreaCut'\u001b[0m\u001b[1;33m,\u001b[0m\u001b[1;34m'Neighborhood'\u001b[0m\u001b[1;33m]\u001b[0m\u001b[1;33m)\u001b[0m\u001b[1;33m[\u001b[0m\u001b[1;34m'LotFrontage'\u001b[0m\u001b[1;33m]\u001b[0m\u001b[1;33m.\u001b[0m\u001b[0mtransform\u001b[0m\u001b[1;33m(\u001b[0m\u001b[1;32mlambda\u001b[0m \u001b[0mx\u001b[0m\u001b[1;33m:\u001b[0m \u001b[0mx\u001b[0m\u001b[1;33m.\u001b[0m\u001b[0mfillna\u001b[0m\u001b[1;33m(\u001b[0m\u001b[0mx\u001b[0m\u001b[1;33m.\u001b[0m\u001b[0mmedian\u001b[0m\u001b[1;33m(\u001b[0m\u001b[1;33m)\u001b[0m\u001b[1;33m)\u001b[0m\u001b[1;33m)\u001b[0m\u001b[1;33m\u001b[0m\u001b[1;33m\u001b[0m\u001b[0m\n",
            "\u001b[1;31mNameError\u001b[0m: name 'full' is not defined"
          ]
        }
      ],
      "source": [
        "#Since LotArea is a continuous feature, We use qcut to divide it into 10 parts.\n",
        "full[\"LotAreaCut\"] = pd.qcut(full.LotArea,10)\n",
        "full.groupby(['LotAreaCut'])[['LotFrontage']].agg(['mean','median','count'])\n",
        "#filling the LotFrontage with its median\n",
        "full['LotFrontage']=full.groupby(['LotAreaCut','Neighborhood'])['LotFrontage'].transform(lambda x: x.fillna(x.median()))\n",
        "full['LotFrontage']=full.groupby(['LotAreaCut'])['LotFrontage'].transform(lambda x: x.fillna(x.median()))\n"
      ]
    },
    {
      "cell_type": "code",
      "execution_count": null,
      "metadata": {},
      "outputs": [],
      "source": [
        "b"
      ]
    },
    {
      "cell_type": "markdown",
      "metadata": {},
      "source": [
        "## Order categoricals"
      ]
    },
    {
      "cell_type": "code",
      "execution_count": 7,
      "metadata": {},
      "outputs": [],
      "source": [
        "\n",
        "for df in (train_x,final_test): \n",
        "    df.replace({\"Alley\" : {\"Grvl\" : 1, \"Pave\" : 2},\n",
        "                       \"BsmtCond\" : {\"No\" : 0, \"Po\" : 1, \"Fa\" : 2, \"TA\" : 3, \"Gd\" : 4, \"Ex\" : 5},\n",
        "                       \"BsmtExposure\" : {\"No\" : 0, \"Mn\" : 1, \"Av\": 2, \"Gd\" : 3},\n",
        "                       \"BsmtFinType1\" : {\"No\" : 0, \"Unf\" : 1, \"LwQ\": 2, \"Rec\" : 3, \"BLQ\" : 4, \n",
        "                                         \"ALQ\" : 5, \"GLQ\" : 6},\n",
        "                       \"BsmtFinType2\" : {\"No\" : 0, \"Unf\" : 1, \"LwQ\": 2, \"Rec\" : 3, \"BLQ\" : 4, \n",
        "                                         \"ALQ\" : 5, \"GLQ\" : 6},\n",
        "                       \"BsmtQual\" : {\"No\" : 0, \"Po\" : 1, \"Fa\" : 2, \"TA\": 3, \"Gd\" : 4, \"Ex\" : 5},\n",
        "                       \"ExterCond\" : {\"Po\" : 1, \"Fa\" : 2, \"TA\": 3, \"Gd\": 4, \"Ex\" : 5},\n",
        "                       \"ExterQual\" : {\"Po\" : 1, \"Fa\" : 2, \"TA\": 3, \"Gd\": 4, \"Ex\" : 5},\n",
        "                       \"FireplaceQu\" : {\"No\" : 0, \"Po\" : 1, \"Fa\" : 2, \"TA\" : 3, \"Gd\" : 4, \"Ex\" : 5},\n",
        "                       \"Functional\" : {\"Sal\" : 1, \"Sev\" : 2, \"Maj2\" : 3, \"Maj1\" : 4, \"Mod\": 5, \n",
        "                                       \"Min2\" : 6, \"Min1\" : 7, \"Typ\" : 8},\n",
        "                       \"GarageCond\" : {\"No\" : 0, \"Po\" : 1, \"Fa\" : 2, \"TA\" : 3, \"Gd\" : 4, \"Ex\" : 5},\n",
        "                       \"GarageQual\" : {\"No\" : 0, \"Po\" : 1, \"Fa\" : 2, \"TA\" : 3, \"Gd\" : 4, \"Ex\" : 5},\n",
        "                       \"HeatingQC\" : {\"Po\" : 1, \"Fa\" : 2, \"TA\" : 3, \"Gd\" : 4, \"Ex\" : 5},\n",
        "                       \"KitchenQual\" : {\"Po\" : 1, \"Fa\" : 2, \"TA\" : 3, \"Gd\" : 4, \"Ex\" : 5},\n",
        "                       \"LandSlope\" : {\"Sev\" : 1, \"Mod\" : 2, \"Gtl\" : 3},\n",
        "                       \"LotShape\" : {\"IR3\" : 1, \"IR2\" : 2, \"IR1\" : 3, \"Reg\" : 4},\n",
        "                       \"PavedDrive\" : {\"N\" : 0, \"P\" : 1, \"Y\" : 2},\n",
        "                       \"PoolQC\" : {\"No\" : 0, \"Fa\" : 1, \"TA\" : 2, \"Gd\" : 3, \"Ex\" : 4},\n",
        "                       \"Street\" : {\"Grvl\" : 1, \"Pave\" : 2},\n",
        "                       \"Utilities\" : {\"ELO\" : 1, \"NoSeWa\" : 2, \"NoSewr\" : 3, \"AllPub\" : 4}},inplace=True)"
      ]
    },
    {
      "cell_type": "markdown",
      "metadata": {},
      "source": [
        "## Add simplification features"
      ]
    },
    {
      "cell_type": "code",
      "execution_count": 8,
      "metadata": {},
      "outputs": [],
      "source": [
        "ten_to_three = {1 : 1, 2 : 1, 3 : 1, # bad\n",
        "                                                        4 : 2, 5 : 2, 6 : 2, # average\n",
        "                                                        7 : 3, 8 : 3, 9 : 3, 10 : 3 # good\n",
        "                                                        }\n",
        "five_to_three = {1 : 1, # bad\n",
        "                                                        2 : 1, 3 : 1, # average\n",
        "                                                        4 : 2, 5 : 2 # good\n",
        "                                                        }\n",
        "\n",
        "eight_to_four =                                         {1 : 1, 2 : 1, # bad\n",
        "                                                        3 : 2, 4 : 2, # major\n",
        "                                                        5 : 3, 6 : 3, 7 : 3, # minor\n",
        "                                                        8 : 4 # typical\n",
        "                                                        }\n",
        "\n",
        "six_to_three = {1 : 1, # unfinished\n",
        "                                                            2 : 1, 3 : 1, # rec room\n",
        "                                                            4 : 2, 5 : 2, 6 : 2 # living quarters\n",
        "                                                            }\n",
        "\n",
        "for df in (train_x,final_test):\n",
        "    df[\"SimplOverallQual\"] = df.OverallQual.replace(ten_to_three)\n",
        "    df[\"SimplOverallCond\"] = df.OverallCond.replace(ten_to_three)\n",
        "    df[\"SimplPoolQC\"] = df.PoolQC.replace(five_to_three)\n",
        "    df[\"SimplGarageCond\"] = df.GarageCond.replace(five_to_three)\n",
        "    df[\"SimplGarageQual\"] = df.GarageQual.replace(five_to_three)\n",
        "    df[\"SimplFireplaceQu\"] = df.FireplaceQu.replace(five_to_three)\n",
        "    df[\"SimplFireplaceQu\"] = df.FireplaceQu.replace(five_to_three)\n",
        "    df[\"SimplFunctional\"] = df.Functional.replace(eight_to_four)\n",
        "    df[\"SimplKitchenQual\"] = df.KitchenQual.replace(five_to_three)\n",
        "    df[\"SimplHeatingQC\"] = df.HeatingQC.replace(five_to_three)\n",
        "    df[\"SimplBsmtFinType1\"] = df.BsmtFinType1.replace(six_to_three)\n",
        "    df[\"SimplBsmtFinType2\"] = df.BsmtFinType2.replace(six_to_three)\n",
        "    df[\"SimplBsmtCond\"] = df.BsmtCond.replace(five_to_three)\n",
        "    df[\"SimplBsmtQual\"] = df.BsmtQual.replace(five_to_three)\n",
        "    df[\"SimplExterCond\"] = df.ExterCond.replace(five_to_three)\n",
        "    df[\"SimplExterQual\"] = df.ExterQual.replace(five_to_three)\n"
      ]
    },
    {
      "cell_type": "markdown",
      "metadata": {},
      "source": [
        "## Add Totalizer features"
      ]
    },
    {
      "cell_type": "code",
      "execution_count": 9,
      "metadata": {},
      "outputs": [],
      "source": [
        "for df in (train_x,final_test):    \n",
        "    # Overall quality of the house\n",
        "    df[\"OverallGrade\"] = df[\"OverallQual\"] * df[\"OverallCond\"]\n",
        "    # Overall quality of the garage\n",
        "    df[\"GarageGrade\"] = df[\"GarageQual\"] * df[\"GarageCond\"]\n",
        "    # Overall quality of the exterior\n",
        "    df[\"ExterGrade\"] = df[\"ExterQual\"] * df[\"ExterCond\"]\n",
        "    # Overall kitchen score\n",
        "    df[\"KitchenScore\"] = df[\"KitchenAbvGr\"] * df[\"KitchenQual\"]\n",
        "    # Overall fireplace score\n",
        "    df[\"FireplaceScore\"] = df[\"Fireplaces\"] * df[\"FireplaceQu\"]\n",
        "    # Overall garage score\n",
        "    df[\"GarageScore\"] = df[\"GarageArea\"] * df[\"GarageQual\"]\n",
        "    # Overall pool score\n",
        "    df[\"PoolScore\"] = df[\"PoolArea\"] * df[\"PoolQC\"]\n",
        "    # Simplified overall quality of the house\n",
        "    df[\"SimplOverallGrade\"] = df[\"SimplOverallQual\"] * df[\"SimplOverallCond\"]\n",
        "    # Simplified overall quality of the exterior\n",
        "    df[\"SimplExterGrade\"] = df[\"SimplExterQual\"] * df[\"SimplExterCond\"]\n",
        "    # Simplified overall pool score\n",
        "    df[\"SimplPoolScore\"] = df[\"PoolArea\"] * df[\"SimplPoolQC\"]\n",
        "    # Simplified overall garage score\n",
        "    df[\"SimplGarageScore\"] = df[\"GarageArea\"] * df[\"SimplGarageQual\"]\n",
        "    # Simplified overall fireplace score\n",
        "    df[\"SimplFireplaceScore\"] = df[\"Fireplaces\"] * df[\"SimplFireplaceQu\"]\n",
        "    # Simplified overall kitchen score\n",
        "    df[\"SimplKitchenScore\"] = df[\"KitchenAbvGr\"] * df[\"SimplKitchenQual\"]\n",
        "    # Total number of bathrooms\n",
        "    df[\"TotalBath\"] = df[\"BsmtFullBath\"] + (0.5 * df[\"BsmtHalfBath\"]) + \\\n",
        "    df[\"FullBath\"] + (0.5 * df[\"HalfBath\"])\n",
        "    # Total SF for house (incl. basement)\n",
        "    df[\"AllSF\"] = df[\"GrLivArea\"] + df[\"TotalBsmtSF\"]\n",
        "    # Total SF for 1st + 2nd floors\n",
        "    df[\"AllFlrsSF\"] = df[\"1stFlrSF\"] + df[\"2ndFlrSF\"]\n",
        "    # Total SF for porch\n",
        "    df[\"AllPorchSF\"] = df[\"OpenPorchSF\"] + df[\"EnclosedPorch\"] + \\\n",
        "    df[\"3SsnPorch\"] + df[\"ScreenPorch\"]\n",
        "    # Has masonry veneer or not\n",
        "    df[\"HasMasVnr\"] = df.MasVnrType.replace({\"BrkCmn\" : 1, \"BrkFace\" : 1, \"CBlock\" : 1, \n",
        "                                                \"Stone\" : 1, \"None\" : 0})\n",
        "    # House completed before sale or not\n",
        "    df[\"BoughtOffPlan\"] = df.SaleCondition.replace({\"Abnorml\" : 0, \"Alloca\" : 0, \"AdjLand\" : 0, \n",
        "                                                        \"Family\" : 0, \"Normal\" : 0, \"Partial\" : 1})"
      ]
    },
    {
      "cell_type": "code",
      "execution_count": 10,
      "metadata": {},
      "outputs": [],
      "source": [
        "for df in (train_x,final_test): \n",
        "    df['haspool'] = df['PoolArea'].apply(lambda x: 1 if x > 0 else 0)\n",
        "    df['has2ndfloor'] = df['2ndFlrSF'].apply(lambda x: 1 if x > 0 else 0)\n",
        "    df['hasgarage'] = df['GarageArea'].apply(lambda x: 1 if x > 0 else 0)\n",
        "    df['hasbsmt'] = df['TotalBsmtSF'].apply(lambda x: 1 if x > 0 else 0)\n",
        "    df['hasfireplace'] = df['Fireplaces'].apply(lambda x: 1 if x > 0 else 0)"
      ]
    },
    {
      "cell_type": "markdown",
      "metadata": {},
      "source": [
        "## Add Polynomial features"
      ]
    },
    {
      "cell_type": "code",
      "execution_count": 11,
      "metadata": {},
      "outputs": [],
      "source": [
        "\n",
        "feat1 = [\"OverallQual\",\"AllSF\",\"AllFlrsSF\",\"GrLivArea\",\"SimplOverallQual\",\"ExterQual\",\"GarageCars\",\"TotalBath\",\"KitchenQual\",\"GarageScore\",]\n",
        "\n",
        "for df in (train_x,final_test):\n",
        "    for feat in feat1:\n",
        "\n",
        "        df[feat+'_2'] =  df[feat] ** 2\n",
        "        df[feat+'_3'] =  df[feat] ** 3\n",
        "        df[feat+'_sq'] =  np.sqrt(df[feat])\n",
        "\n",
        " "
      ]
    },
    {
      "cell_type": "code",
      "execution_count": 12,
      "metadata": {},
      "outputs": [],
      "source": [
        "log_features = ['LotFrontage','LotArea','MasVnrArea','BsmtFinSF1','BsmtFinSF2','BsmtUnfSF',\n",
        "                 'TotalBsmtSF','1stFlrSF','2ndFlrSF','LowQualFinSF','GrLivArea',\n",
        "                 'BsmtFullBath','BsmtHalfBath','FullBath','HalfBath','BedroomAbvGr','KitchenAbvGr',\n",
        "                 'TotRmsAbvGrd','Fireplaces','GarageCars','GarageArea','WoodDeckSF','OpenPorchSF',\n",
        "                 'EnclosedPorch','3SsnPorch','ScreenPorch','PoolArea','MiscVal','YearRemodAdd','AllSF','LotFrontage']\n",
        "# log_features = set(feat1+log_features)\n",
        "for df in (train_x,final_test):\n",
        "    for feat in log_features:\n",
        "        df[feat+'_log'] =  np.log1p(df[feat])\n",
        "        # df[feat+'_2'] =  df[feat] ** 2\n",
        "        # df[feat+'_3'] =  df[feat] ** 3\n",
        "        # df[feat+'_sq'] =  np.sqrt(df[feat])\n",
        "\n",
        "\n"
      ]
    },
    {
      "cell_type": "markdown",
      "metadata": {
        "id": "BPXAZImebs9C",
        "colab_type": "text"
      },
      "source": [
        "## Categorify"
      ]
    },
    {
      "cell_type": "code",
      "execution_count": 13,
      "metadata": {},
      "outputs": [],
      "source": [
        "corr = train_x.corr()\n",
        "num_x = list(corr.index)\n",
        "\n",
        "cat_x = [col for col in train_x.columns if train_x[col].dtype == 'object']\n",
        "assert len(train_x.columns) == len(num_x) + len(cat_x)"
      ]
    },
    {
      "cell_type": "code",
      "execution_count": 14,
      "metadata": {},
      "outputs": [],
      "source": [
        "cat_x_ind = [ind for ind,name in enumerate(train_x.columns) if name in cat_x] # the original indices\n",
        "cat_x_ind = list(range(len(num_x),len(train_x.columns))) # in the pipeline categorical comes after numeric\n",
        "assert len(cat_x_ind) == len(cat_x)"
      ]
    },
    {
      "cell_type": "code",
      "execution_count": 15,
      "metadata": {},
      "outputs": [],
      "source": [
        "# for name in train_x.columns:\n",
        "#     if name in cat_x:\n",
        "#         train_x[name] = train_x[name].astype(str)\n",
        "#         train_x[name].apply(str)\n",
        "\n",
        "for df in (train_x,final_test):\n",
        "    df[cat_x].apply(str)\n",
        "    df[cat_x] = df[cat_x].astype('category')"
      ]
    },
    {
      "cell_type": "markdown",
      "metadata": {},
      "source": []
    },
    {
      "cell_type": "markdown",
      "metadata": {},
      "source": [
        "## Skewness doesn't seem to help"
      ]
    },
    {
      "cell_type": "code",
      "execution_count": 16,
      "metadata": {},
      "outputs": [],
      "source": [
        "# from scipy.stats import skew\n",
        "# from scipy.special import boxcox1p\n",
        "# # Find skewed numerical features\n",
        "# skew_features = train_x[num_x].apply(lambda x: skew(x)).sort_values(ascending=False)\n",
        "\n",
        "# high_skew = skew_features[skew_features > 0.75]\n",
        "# skew_index = high_skew.index\n",
        "\n",
        "# print(\"There are {} numerical features with Skew > 0.5 :\".format(high_skew.shape[0]))\n",
        "# skewness = pd.DataFrame({'Skew' :high_skew})\n",
        "# skew_features.head(10)\n",
        "# # Normalize skewed features\n",
        "# for df in (train_x,final_test):\n",
        "#     for i in skew_index:\n",
        "#         df[i] = boxcox1p(df[i], boxcox_normmax(df[i] + 1))\n",
        "\n"
      ]
    },
    {
      "cell_type": "markdown",
      "metadata": {
        "colab": {},
        "colab_type": "code",
        "id": "hLsUZ1ZnBp5P"
      },
      "source": [
        "## Saving"
      ]
    },
    {
      "cell_type": "code",
      "execution_count": 17,
      "metadata": {},
      "outputs": [],
      "source": [
        "def save(train_info, filename='engineered_datasets.pickle'):\n",
        "    with open('output/'+filename, 'wb') as handle:\n",
        "        pickle.dump(train_info, handle, protocol=pickle.HIGHEST_PROTOCOL)\n",
        "\n",
        "train_info = (train_x, train_y, final_test, num_x, cat_x, cat_x_ind)\n",
        "save(train_info)"
      ]
    },
    {
      "cell_type": "code",
      "execution_count": null,
      "metadata": {},
      "outputs": [],
      "source": []
    },
    {
      "cell_type": "code",
      "execution_count": null,
      "metadata": {},
      "outputs": [],
      "source": []
    },
    {
      "cell_type": "code",
      "execution_count": null,
      "metadata": {},
      "outputs": [],
      "source": []
    },
    {
      "cell_type": "code",
      "execution_count": null,
      "metadata": {},
      "outputs": [],
      "source": []
    },
    {
      "cell_type": "code",
      "execution_count": null,
      "metadata": {},
      "outputs": [],
      "source": []
    },
    {
      "cell_type": "code",
      "execution_count": null,
      "metadata": {},
      "outputs": [],
      "source": []
    },
    {
      "cell_type": "code",
      "execution_count": null,
      "metadata": {},
      "outputs": [],
      "source": []
    },
    {
      "cell_type": "code",
      "execution_count": null,
      "metadata": {},
      "outputs": [],
      "source": []
    },
    {
      "cell_type": "code",
      "execution_count": null,
      "metadata": {},
      "outputs": [],
      "source": []
    },
    {
      "cell_type": "code",
      "execution_count": null,
      "metadata": {},
      "outputs": [],
      "source": []
    },
    {
      "cell_type": "code",
      "execution_count": null,
      "metadata": {},
      "outputs": [],
      "source": []
    },
    {
      "cell_type": "code",
      "execution_count": null,
      "metadata": {},
      "outputs": [],
      "source": []
    },
    {
      "cell_type": "code",
      "execution_count": null,
      "metadata": {},
      "outputs": [],
      "source": []
    }
  ],
  "metadata": {
    "anaconda-cloud": {},
    "kernelspec": {
      "display_name": "Python 3.7.3 64-bit ('ProgramData': virtualenv)",
      "language": "python",
      "name": "python37364bitprogramdatavirtualenv99403c2e8abd4ba0909557516bfee9d9"
    },
    "language_info": {
      "codemirror_mode": {
        "name": "ipython",
        "version": 3
      },
      "file_extension": ".py",
      "mimetype": "text/x-python",
      "name": "python",
      "nbconvert_exporter": "python",
      "pygments_lexer": "ipython3",
      "version": "3.7.3-final"
    },
    "colab": {
      "name": "Copy of Copy of Copy of rentJesse.ipynb",
      "provenance": [],
      "collapsed_sections": []
    }
  },
  "nbformat": 4,
  "nbformat_minor": 0
}