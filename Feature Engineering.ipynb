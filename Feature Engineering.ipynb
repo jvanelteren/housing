{
  "cells": [
    {
      "cell_type": "markdown",
      "metadata": {},
      "source": [
        "### Purpose of this workbook is to prepare the pandas dataframes for a preprocessing pipeline\n",
        "Conclusion that surprisingly removing outliers improved LB score. Of all the added features, only polynomials seemed to matter"
      ]
    },
    {
      "cell_type": "code",
      "metadata": {
        "id": "_NDWSAWprShN",
        "colab_type": "code",
        "colab": {}
      },
      "source": [
        "import pandas as pd\n",
        "import numpy as np\n",
        "import pickle"
      ],
      "execution_count": 1,
      "outputs": []
    },
    {
      "cell_type": "markdown",
      "metadata": {},
      "source": [
        "## Remove outliers"
      ]
    },
    {
      "cell_type": "code",
      "execution_count": 2,
      "metadata": {},
      "outputs": [],
      "source": [
        "from sklearn.neighbors import LocalOutlierFactor\n",
        "def remove_outliers(train,y_col):\n",
        "    lcf = LocalOutlierFactor()\n",
        "    corr = train.corr()[y_col]\n",
        "    corr = corr.sort_values(ascending=False)\n",
        "    num_x = list(corr.index)[1:]\n",
        "    lof_df = train[num_x].fillna(train[num_x].median())\n",
        "    pred =lcf.fit_predict(lof_df)\n",
        "    train = train[pred==1]\n",
        "    return train"
      ]
    },
    {
      "cell_type": "markdown",
      "metadata": {},
      "source": [
        "## Get dataset"
      ]
    },
    {
      "cell_type": "code",
      "metadata": {
        "scrolled": true,
        "id": "3whduyAbrShU",
        "colab_type": "code",
        "outputId": "ee37d5cf-5d0f-4de2-c51b-9a622e6998a2",
        "colab": {
          "base_uri": "https://localhost:8080/",
          "height": 591
        }
      },
      "source": [
        "#make train and test datasets. Splitting labels and features happens later\n",
        "def get_dataset():\n",
        "    path_train = \"https://raw.githubusercontent.com/jvanelteren/housing/master/datasets/train.csv\"\n",
        "    path_test = \"https://raw.githubusercontent.com/jvanelteren/housing/master/datasets/test.csv\"\n",
        "\n",
        "    train = pd.read_csv(path_train)\n",
        "    final_test = pd.read_csv(path_test)\n",
        "    print(f'train shape{train.shape}\\ntest shape {final_test.shape}\\n')\n",
        "\n",
        "    y_col = (set(train.columns) - set(final_test.columns)).pop()\n",
        "\n",
        "    train = remove_outliers(train,y_col)\n",
        "    train = train[train.GrLivArea < 4000]\n",
        "    train_x = train.drop([y_col], axis=1)\n",
        "    train_y = train.loc[:,y_col]\n",
        "    train_x.shape, train_y.shape\n",
        "    print(f'train_x shape{train_x.shape}\\ntrain_y shape {train_y.shape}')\n",
        "    return train_x, train_y, final_test\n",
        "train_x, train_y, final_test = get_dataset()"
      ],
      "execution_count": 3,
      "outputs": [
        {
          "output_type": "stream",
          "name": "stdout",
          "text": "train shape(1460, 81)\ntest shape (1459, 80)\n\ntrain_x shape(1414, 80)\ntrain_y shape (1414,)\n"
        }
      ]
    },
    {
      "cell_type": "markdown",
      "metadata": {},
      "source": [
        "## Converting Y to Log"
      ]
    },
    {
      "cell_type": "code",
      "execution_count": 4,
      "metadata": {},
      "outputs": [],
      "source": [
        "train_y = np.log1p(train_y)"
      ]
    },
    {
      "cell_type": "markdown",
      "metadata": {},
      "source": [
        "## Remove outliers"
      ]
    },
    {
      "cell_type": "code",
      "execution_count": 279,
      "metadata": {},
      "outputs": [],
      "source": [
        "\n",
        "\n"
      ]
    },
    {
      "cell_type": "markdown",
      "metadata": {},
      "source": [
        "## Order categoricals"
      ]
    },
    {
      "cell_type": "code",
      "execution_count": 280,
      "metadata": {},
      "outputs": [],
      "source": [
        "\n",
        "for df in (train_x,final_test): \n",
        "    df.replace({\"Alley\" : {\"Grvl\" : 1, \"Pave\" : 2},\n",
        "                       \"BsmtCond\" : {\"No\" : 0, \"Po\" : 1, \"Fa\" : 2, \"TA\" : 3, \"Gd\" : 4, \"Ex\" : 5},\n",
        "                       \"BsmtExposure\" : {\"No\" : 0, \"Mn\" : 1, \"Av\": 2, \"Gd\" : 3},\n",
        "                       \"BsmtFinType1\" : {\"No\" : 0, \"Unf\" : 1, \"LwQ\": 2, \"Rec\" : 3, \"BLQ\" : 4, \n",
        "                                         \"ALQ\" : 5, \"GLQ\" : 6},\n",
        "                       \"BsmtFinType2\" : {\"No\" : 0, \"Unf\" : 1, \"LwQ\": 2, \"Rec\" : 3, \"BLQ\" : 4, \n",
        "                                         \"ALQ\" : 5, \"GLQ\" : 6},\n",
        "                       \"BsmtQual\" : {\"No\" : 0, \"Po\" : 1, \"Fa\" : 2, \"TA\": 3, \"Gd\" : 4, \"Ex\" : 5},\n",
        "                       \"ExterCond\" : {\"Po\" : 1, \"Fa\" : 2, \"TA\": 3, \"Gd\": 4, \"Ex\" : 5},\n",
        "                       \"ExterQual\" : {\"Po\" : 1, \"Fa\" : 2, \"TA\": 3, \"Gd\": 4, \"Ex\" : 5},\n",
        "                       \"FireplaceQu\" : {\"No\" : 0, \"Po\" : 1, \"Fa\" : 2, \"TA\" : 3, \"Gd\" : 4, \"Ex\" : 5},\n",
        "                       \"Functional\" : {\"Sal\" : 1, \"Sev\" : 2, \"Maj2\" : 3, \"Maj1\" : 4, \"Mod\": 5, \n",
        "                                       \"Min2\" : 6, \"Min1\" : 7, \"Typ\" : 8},\n",
        "                       \"GarageCond\" : {\"No\" : 0, \"Po\" : 1, \"Fa\" : 2, \"TA\" : 3, \"Gd\" : 4, \"Ex\" : 5},\n",
        "                       \"GarageQual\" : {\"No\" : 0, \"Po\" : 1, \"Fa\" : 2, \"TA\" : 3, \"Gd\" : 4, \"Ex\" : 5},\n",
        "                       \"HeatingQC\" : {\"Po\" : 1, \"Fa\" : 2, \"TA\" : 3, \"Gd\" : 4, \"Ex\" : 5},\n",
        "                       \"KitchenQual\" : {\"Po\" : 1, \"Fa\" : 2, \"TA\" : 3, \"Gd\" : 4, \"Ex\" : 5},\n",
        "                       \"LandSlope\" : {\"Sev\" : 1, \"Mod\" : 2, \"Gtl\" : 3},\n",
        "                       \"LotShape\" : {\"IR3\" : 1, \"IR2\" : 2, \"IR1\" : 3, \"Reg\" : 4},\n",
        "                       \"PavedDrive\" : {\"N\" : 0, \"P\" : 1, \"Y\" : 2},\n",
        "                       \"PoolQC\" : {\"No\" : 0, \"Fa\" : 1, \"TA\" : 2, \"Gd\" : 3, \"Ex\" : 4},\n",
        "                       \"Street\" : {\"Grvl\" : 1, \"Pave\" : 2},\n",
        "                       \"Utilities\" : {\"ELO\" : 1, \"NoSeWa\" : 2, \"NoSewr\" : 3, \"AllPub\" : 4}},inplace=True)"
      ]
    },
    {
      "cell_type": "markdown",
      "metadata": {},
      "source": [
        "## Add simplification features"
      ]
    },
    {
      "cell_type": "code",
      "execution_count": 281,
      "metadata": {},
      "outputs": [],
      "source": [
        "ten_to_three = {1 : 1, 2 : 1, 3 : 1, # bad\n",
        "                                                        4 : 2, 5 : 2, 6 : 2, # average\n",
        "                                                        7 : 3, 8 : 3, 9 : 3, 10 : 3 # good\n",
        "                                                        }\n",
        "five_to_three = {1 : 1, # bad\n",
        "                                                        2 : 1, 3 : 1, # average\n",
        "                                                        4 : 2, 5 : 2 # good\n",
        "                                                        }\n",
        "\n",
        "eight_to_four =                                         {1 : 1, 2 : 1, # bad\n",
        "                                                        3 : 2, 4 : 2, # major\n",
        "                                                        5 : 3, 6 : 3, 7 : 3, # minor\n",
        "                                                        8 : 4 # typical\n",
        "                                                        }\n",
        "\n",
        "six_to_three = {1 : 1, # unfinished\n",
        "                                                            2 : 1, 3 : 1, # rec room\n",
        "                                                            4 : 2, 5 : 2, 6 : 2 # living quarters\n",
        "                                                            }\n",
        "\n",
        "for df in (train_x,final_test):\n",
        "    df[\"SimplOverallQual\"] = df.OverallQual.replace(ten_to_three)\n",
        "    df[\"SimplOverallCond\"] = df.OverallCond.replace(ten_to_three)\n",
        "    df[\"SimplPoolQC\"] = df.PoolQC.replace(five_to_three)\n",
        "    df[\"SimplGarageCond\"] = df.GarageCond.replace(five_to_three)\n",
        "    df[\"SimplGarageQual\"] = df.GarageQual.replace(five_to_three)\n",
        "    df[\"SimplFireplaceQu\"] = df.FireplaceQu.replace(five_to_three)\n",
        "    df[\"SimplFireplaceQu\"] = df.FireplaceQu.replace(five_to_three)\n",
        "    df[\"SimplFunctional\"] = df.Functional.replace(eight_to_four)\n",
        "    df[\"SimplKitchenQual\"] = df.KitchenQual.replace(five_to_three)\n",
        "    df[\"SimplHeatingQC\"] = df.HeatingQC.replace(five_to_three)\n",
        "    df[\"SimplBsmtFinType1\"] = df.BsmtFinType1.replace(six_to_three)\n",
        "    df[\"SimplBsmtFinType2\"] = df.BsmtFinType2.replace(six_to_three)\n",
        "    df[\"SimplBsmtCond\"] = df.BsmtCond.replace(five_to_three)\n",
        "    df[\"SimplBsmtQual\"] = df.BsmtQual.replace(five_to_three)\n",
        "    df[\"SimplExterCond\"] = df.ExterCond.replace(five_to_three)\n",
        "    df[\"SimplExterQual\"] = df.ExterQual.replace(five_to_three)\n"
      ]
    },
    {
      "cell_type": "markdown",
      "metadata": {},
      "source": [
        "## Add Totalizer features"
      ]
    },
    {
      "cell_type": "code",
      "execution_count": 282,
      "metadata": {},
      "outputs": [],
      "source": [
        "for df in (train_x,final_test):    \n",
        "    # Overall quality of the house\n",
        "    df[\"OverallGrade\"] = df[\"OverallQual\"] * df[\"OverallCond\"]\n",
        "    # Overall quality of the garage\n",
        "    df[\"GarageGrade\"] = df[\"GarageQual\"] * df[\"GarageCond\"]\n",
        "    # Overall quality of the exterior\n",
        "    df[\"ExterGrade\"] = df[\"ExterQual\"] * df[\"ExterCond\"]\n",
        "    # Overall kitchen score\n",
        "    df[\"KitchenScore\"] = df[\"KitchenAbvGr\"] * df[\"KitchenQual\"]\n",
        "    # Overall fireplace score\n",
        "    df[\"FireplaceScore\"] = df[\"Fireplaces\"] * df[\"FireplaceQu\"]\n",
        "    # Overall garage score\n",
        "    df[\"GarageScore\"] = df[\"GarageArea\"] * df[\"GarageQual\"]\n",
        "    # Overall pool score\n",
        "    df[\"PoolScore\"] = df[\"PoolArea\"] * df[\"PoolQC\"]\n",
        "    # Simplified overall quality of the house\n",
        "    df[\"SimplOverallGrade\"] = df[\"SimplOverallQual\"] * df[\"SimplOverallCond\"]\n",
        "    # Simplified overall quality of the exterior\n",
        "    df[\"SimplExterGrade\"] = df[\"SimplExterQual\"] * df[\"SimplExterCond\"]\n",
        "    # Simplified overall pool score\n",
        "    df[\"SimplPoolScore\"] = df[\"PoolArea\"] * df[\"SimplPoolQC\"]\n",
        "    # Simplified overall garage score\n",
        "    df[\"SimplGarageScore\"] = df[\"GarageArea\"] * df[\"SimplGarageQual\"]\n",
        "    # Simplified overall fireplace score\n",
        "    df[\"SimplFireplaceScore\"] = df[\"Fireplaces\"] * df[\"SimplFireplaceQu\"]\n",
        "    # Simplified overall kitchen score\n",
        "    df[\"SimplKitchenScore\"] = df[\"KitchenAbvGr\"] * df[\"SimplKitchenQual\"]\n",
        "    # Total number of bathrooms\n",
        "    df[\"TotalBath\"] = df[\"BsmtFullBath\"] + (0.5 * df[\"BsmtHalfBath\"]) + \\\n",
        "    df[\"FullBath\"] + (0.5 * df[\"HalfBath\"])\n",
        "    # Total SF for house (incl. basement)\n",
        "    df[\"AllSF\"] = df[\"GrLivArea\"] + df[\"TotalBsmtSF\"]\n",
        "    # Total SF for 1st + 2nd floors\n",
        "    df[\"AllFlrsSF\"] = df[\"1stFlrSF\"] + df[\"2ndFlrSF\"]\n",
        "    # Total SF for porch\n",
        "    df[\"AllPorchSF\"] = df[\"OpenPorchSF\"] + df[\"EnclosedPorch\"] + \\\n",
        "    df[\"3SsnPorch\"] + df[\"ScreenPorch\"]\n",
        "    # Has masonry veneer or not\n",
        "    df[\"HasMasVnr\"] = df.MasVnrType.replace({\"BrkCmn\" : 1, \"BrkFace\" : 1, \"CBlock\" : 1, \n",
        "                                                \"Stone\" : 1, \"None\" : 0})\n",
        "    # House completed before sale or not\n",
        "    df[\"BoughtOffPlan\"] = df.SaleCondition.replace({\"Abnorml\" : 0, \"Alloca\" : 0, \"AdjLand\" : 0, \n",
        "                                                        \"Family\" : 0, \"Normal\" : 0, \"Partial\" : 1})"
      ]
    },
    {
      "cell_type": "markdown",
      "metadata": {},
      "source": [
        "## Add Polynomial features"
      ]
    },
    {
      "cell_type": "code",
      "execution_count": 283,
      "metadata": {},
      "outputs": [],
      "source": [
        "for df in (train_x,final_test): \n",
        "    df[\"OverallQual-s2\"] = df[\"OverallQual\"] ** 2\n",
        "    df[\"OverallQual-s3\"] = df[\"OverallQual\"] ** 3\n",
        "    df[\"OverallQual-Sq\"] = np.sqrt(df[\"OverallQual\"])\n",
        "    df[\"AllSF-2\"] = df[\"AllSF\"] ** 2\n",
        "    df[\"AllSF-3\"] = df[\"AllSF\"] ** 3\n",
        "    df[\"AllSF-Sq\"] = np.sqrt(df[\"AllSF\"])\n",
        "    df[\"AllFlrsSF-2\"] = df[\"AllFlrsSF\"] ** 2\n",
        "    df[\"AllFlrsSF-3\"] = df[\"AllFlrsSF\"] ** 3\n",
        "    df[\"AllFlrsSF-Sq\"] = np.sqrt(df[\"AllFlrsSF\"])\n",
        "    df[\"GrLivArea-2\"] = df[\"GrLivArea\"] ** 2\n",
        "    df[\"GrLivArea-3\"] = df[\"GrLivArea\"] ** 3\n",
        "    df[\"GrLivArea-Sq\"] = np.sqrt(df[\"GrLivArea\"])\n",
        "    df[\"SimplOverallQual-s2\"] = df[\"SimplOverallQual\"] ** 2\n",
        "    df[\"SimplOverallQual-s3\"] = df[\"SimplOverallQual\"] ** 3\n",
        "    df[\"SimplOverallQual-Sq\"] = np.sqrt(df[\"SimplOverallQual\"])\n",
        "    df[\"ExterQual-2\"] = df[\"ExterQual\"] ** 2\n",
        "    df[\"ExterQual-3\"] = df[\"ExterQual\"] ** 3\n",
        "    df[\"ExterQual-Sq\"] = np.sqrt(df[\"ExterQual\"])\n",
        "    df[\"GarageCars-2\"] = df[\"GarageCars\"] ** 2\n",
        "    df[\"GarageCars-3\"] = df[\"GarageCars\"] ** 3\n",
        "    df[\"GarageCars-Sq\"] = np.sqrt(df[\"GarageCars\"])\n",
        "    df[\"TotalBath-2\"] = df[\"TotalBath\"] ** 2\n",
        "    df[\"TotalBath-3\"] = df[\"TotalBath\"] ** 3\n",
        "    df[\"TotalBath-Sq\"] = np.sqrt(df[\"TotalBath\"])\n",
        "    df[\"KitchenQual-2\"] = df[\"KitchenQual\"] ** 2\n",
        "    df[\"KitchenQual-3\"] = df[\"KitchenQual\"] ** 3\n",
        "    df[\"KitchenQual-Sq\"] = np.sqrt(df[\"KitchenQual\"])\n",
        "    df[\"GarageScore-2\"] = df[\"GarageScore\"] ** 2\n",
        "    df[\"GarageScore-3\"] = df[\"GarageScore\"] ** 3\n",
        "    df[\"GarageScore-Sq\"] = np.sqrt(df[\"GarageScore\"])"
      ]
    },
    {
      "cell_type": "markdown",
      "metadata": {
        "id": "BPXAZImebs9C",
        "colab_type": "text"
      },
      "source": [
        "## Categorify"
      ]
    },
    {
      "cell_type": "code",
      "execution_count": 284,
      "metadata": {},
      "outputs": [],
      "source": [
        "corr = train_x.corr()\n",
        "num_x = list(corr.index)\n",
        "\n",
        "cat_x = [col for col in train_x.columns if train_x[col].dtype == 'object']\n",
        "assert len(train_x.columns) == len(num_x) + len(cat_x)"
      ]
    },
    {
      "cell_type": "code",
      "execution_count": 285,
      "metadata": {},
      "outputs": [],
      "source": [
        "cat_x_ind = [ind for ind,name in enumerate(train_x.columns) if name in cat_x] # the original indices\n",
        "cat_x_ind = list(range(len(num_x),len(train_x.columns))) # in the pipeline categorical comes after numeric\n",
        "assert len(cat_x_ind) == len(cat_x)"
      ]
    },
    {
      "cell_type": "code",
      "execution_count": 286,
      "metadata": {},
      "outputs": [],
      "source": [
        "# for name in train_x.columns:\n",
        "#     if name in cat_x:\n",
        "#         train_x[name] = train_x[name].astype(str)\n",
        "#         train_x[name].apply(str)\n",
        "\n",
        "for df in (train_x,final_test):\n",
        "    df[cat_x].apply(str)\n",
        "    df[cat_x] = df[cat_x].astype('category')"
      ]
    },
    {
      "cell_type": "markdown",
      "metadata": {},
      "source": []
    },
    {
      "cell_type": "markdown",
      "metadata": {},
      "source": [
        "## Skewness doesn't seem to help"
      ]
    },
    {
      "cell_type": "code",
      "execution_count": 287,
      "metadata": {},
      "outputs": [],
      "source": [
        "# from scipy.stats import skew\n",
        "# # Log transform of the skewed numerical features to lessen impact of outliers\n",
        "# # Inspired by Alexandru Papiu's script : https://www.kaggle.com/apapiu/house-prices-advanced-regression-techniques/regularized-linear-models\n",
        "# # As a general rule of thumb, a skewness with an absolute value > 0.5 is considered at least moderately skewed\n",
        "# skewness = train_x[num_x].apply(lambda x: skew(x))\n",
        "# skewness = skewness[abs(skewness) > 0.5]\n",
        "# print(str(skewness.shape[0]) + \" skewed numerical features to log transform\")\n",
        "# skewed_features = skewness.index\n",
        "# train_x[num_x][skewed_features] = np.log1p(train_x[num_x][skewed_features])"
      ]
    },
    {
      "cell_type": "code",
      "execution_count": 289,
      "metadata": {},
      "outputs": [
        {
          "output_type": "execute_result",
          "data": {
            "text/plain": "144"
          },
          "metadata": {},
          "execution_count": 289
        }
      ],
      "source": [
        "len(train_x.columns)"
      ]
    },
    {
      "cell_type": "markdown",
      "metadata": {
        "colab": {},
        "colab_type": "code",
        "id": "hLsUZ1ZnBp5P"
      },
      "source": [
        "## Saving"
      ]
    },
    {
      "cell_type": "code",
      "execution_count": 290,
      "metadata": {},
      "outputs": [],
      "source": [
        "def save(train_info, filename='engineered_datasets.pickle'):\n",
        "    with open('output/'+filename, 'wb') as handle:\n",
        "        pickle.dump(train_info, handle, protocol=pickle.HIGHEST_PROTOCOL)\n",
        "\n",
        "train_info = (train_x, train_y, final_test, num_x, cat_x, cat_x_ind)\n",
        "save(train_info)"
      ]
    },
    {
      "cell_type": "code",
      "execution_count": null,
      "metadata": {},
      "outputs": [],
      "source": []
    },
    {
      "cell_type": "code",
      "execution_count": null,
      "metadata": {},
      "outputs": [],
      "source": []
    },
    {
      "cell_type": "code",
      "execution_count": null,
      "metadata": {},
      "outputs": [],
      "source": []
    },
    {
      "cell_type": "code",
      "execution_count": null,
      "metadata": {},
      "outputs": [],
      "source": []
    },
    {
      "cell_type": "code",
      "execution_count": null,
      "metadata": {},
      "outputs": [],
      "source": []
    },
    {
      "cell_type": "code",
      "execution_count": null,
      "metadata": {},
      "outputs": [],
      "source": []
    },
    {
      "cell_type": "code",
      "execution_count": null,
      "metadata": {},
      "outputs": [],
      "source": []
    },
    {
      "cell_type": "code",
      "execution_count": null,
      "metadata": {},
      "outputs": [],
      "source": []
    },
    {
      "cell_type": "code",
      "execution_count": null,
      "metadata": {},
      "outputs": [],
      "source": []
    },
    {
      "cell_type": "code",
      "execution_count": null,
      "metadata": {},
      "outputs": [],
      "source": []
    },
    {
      "cell_type": "code",
      "execution_count": null,
      "metadata": {},
      "outputs": [],
      "source": []
    },
    {
      "cell_type": "code",
      "execution_count": null,
      "metadata": {},
      "outputs": [],
      "source": []
    },
    {
      "cell_type": "code",
      "execution_count": null,
      "metadata": {},
      "outputs": [],
      "source": []
    },
    {
      "cell_type": "code",
      "execution_count": null,
      "metadata": {},
      "outputs": [],
      "source": []
    }
  ],
  "metadata": {
    "anaconda-cloud": {},
    "kernelspec": {
      "display_name": "Python 3.7.3 64-bit ('ProgramData': virtualenv)",
      "language": "python",
      "name": "python37364bitprogramdatavirtualenv99403c2e8abd4ba0909557516bfee9d9"
    },
    "language_info": {
      "codemirror_mode": {
        "name": "ipython",
        "version": 3
      },
      "file_extension": ".py",
      "mimetype": "text/x-python",
      "name": "python",
      "nbconvert_exporter": "python",
      "pygments_lexer": "ipython3",
      "version": "3.7.3-final"
    },
    "colab": {
      "name": "Copy of Copy of Copy of rentJesse.ipynb",
      "provenance": [],
      "collapsed_sections": []
    }
  },
  "nbformat": 4,
  "nbformat_minor": 0
}