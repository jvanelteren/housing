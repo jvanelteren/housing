{
 "cells": [
  {
   "cell_type": "code",
   "execution_count": 1,
   "metadata": {
    "Collapsed": "false",
    "colab": {},
    "colab_type": "code",
    "id": "_NDWSAWprShN",
    "tags": []
   },
   "outputs": [],
   "source": [
    "import pandas as pd\n",
    "import numpy as np\n",
    "import pickle\n",
    "import altair as alt\n",
    "from aoc import timeit\n",
    "%load_ext autoreload\n",
    "%autoreload 2\n",
    "np.random.seed(112)\n",
    " \n",
    "def load(filename):\n",
    "    f = open(filename,\"rb\")\n",
    "    return pickle.load(f)\n",
    "    \n",
    "def save(model, filename='bestmodel.pickle'):\n",
    "    with open('output/'+filename, 'wb') as handle:\n",
    "        pickle.dump(model, handle, protocol=pickle.HIGHEST_PROTOCOL)\n",
    "\n",
    "def save_feature_selection(cols, filename='feat_selection.pickle'):\n",
    "    with open('output/'+filename, 'wb') as handle:\n",
    "        pickle.dump(cols, handle, protocol=pickle.HIGHEST_PROTOCOL)\n",
    "\n",
    "def submit(model, filename='submission.csv'):\n",
    "    pred = model.predict(final_test)\n",
    "    final_test['SalePrice'] = np.exp(pred)\n",
    "    final_test[['Id','SalePrice']].to_csv('output/'+filename, index=False)"
   ]
  },
  {
   "cell_type": "markdown",
   "metadata": {
    "Collapsed": "false"
   },
   "source": [
    "## Import data"
   ]
  },
  {
   "cell_type": "code",
   "execution_count": 2,
   "metadata": {
    "Collapsed": "false",
    "colab": {
     "base_uri": "https://localhost:8080/",
     "height": 591
    },
    "colab_type": "code",
    "id": "3whduyAbrShU",
    "outputId": "ee37d5cf-5d0f-4de2-c51b-9a622e6998a2",
    "scrolled": true
   },
   "outputs": [],
   "source": [
    "train_x, train_y, final_test, num_x, cat_x, cat_x_ind = load(\"output/engineered_datasets.pickle\")\n",
    "cols = load(\"output/feat_selection.pickle\")\n",
    "feat_selector = load('output/feat_selector.pickle')\n",
    "results = load(\"output/hyperparam_tuning41selected1800.pickle\")"
   ]
  },
  {
   "cell_type": "markdown",
   "metadata": {
    "Collapsed": "false",
    "colab_type": "text",
    "id": "BPXAZImebs9C"
   },
   "source": [
    "## Import preprocessing pipelines & models"
   ]
  },
  {
   "cell_type": "code",
   "execution_count": 4,
   "metadata": {
    "tags": []
   },
   "outputs": [],
   "source": [
    "\n",
    "from utils.sklearn_custom_steps import DFSimpleImputer, DFOneHotEncoder,DFMinMaxScaler,DFColumnTransformer,DFOutlierExtractor,DFOutlierExtractor,DFStandardScaler,DFRobustScaler,DFSmartImputer, DFUnSkewer, DFPowerTransformer\n",
    "from utils.sklearn_custom_steps import get_pipeline\n",
    "from utils.model_hyperparameters import models,AutoCatBoostRegressor\n",
    "\n",
    "from sklearn.linear_model import LinearRegression, Ridge, RidgeCV, Lasso, LassoCV, ElasticNet,SGDRegressor\n",
    "from sklearn.neighbors import KNeighborsRegressor\n",
    "from sklearn import svm\n",
    "from sklearn.neural_network import MLPRegressor\n",
    "from sklearn.kernel_ridge import KernelRidge\n",
    "from sklearn.model_selection import cross_validate,cross_val_score,KFold,GridSearchCV\n",
    "from sklearn.preprocessing import MinMaxScaler,StandardScaler,RobustScaler\n",
    "\n",
    "import lightgbm as lgb\n",
    "import xgboost as xgb\n",
    "from catboost import CatBoostRegressor"
   ]
  },
  {
   "cell_type": "markdown",
   "metadata": {},
   "source": [
    "## CV methods"
   ]
  },
  {
   "cell_type": "code",
   "execution_count": 5,
   "metadata": {},
   "outputs": [],
   "source": [
    "def cross_val_models(to_test,train_x=train_x,**kwargs):\n",
    "    for name in to_test:\n",
    "        print(f\"{name.ljust(20)}\", end = ': ')\n",
    "        pipe = get_pipeline(models[name].model, **models[name].preprocess, **kwargs)\n",
    "        test_pipeline(pipe, train_x = train_x)\n",
    "         \n",
    "def test_model(model,train_x = train_x,param=None):\n",
    "    if not param: param = {}\n",
    "    pipe = get_pipeline(model,**param)\n",
    "    return test_pipeline(pipe, train_x=train_x)\n",
    "\n",
    "def test_pipeline(pipe,train_x = train_x):\n",
    "    # print(train_x.shape)\n",
    "    n_fold = 5\n",
    "    scores = cross_validate(pipe, train_x, train_y, scoring='neg_root_mean_squared_error', cv= KFold(n_splits=n_fold,shuffle=True,random_state=112), return_train_score=True)\n",
    "    print(f\"test {-1 * sum(scores['test_score'])/n_fold:.7f}, train {-1 * sum(scores['train_score'])/n_fold:.7f}\")\n",
    "    return pipe"
   ]
  },
  {
   "cell_type": "markdown",
   "metadata": {},
   "source": [
    "## Trying to hyperparameter search on preprocessing pipeline"
   ]
  },
  {
   "cell_type": "code",
   "execution_count": 6,
   "metadata": {},
   "outputs": [],
   "source": [
    "def get_estimator(model_name, results):\n",
    "    model = get_pipeline(models[model_name].model, **models[model_name].preprocess)\n",
    "    model.set_params(**results[model_name].best_params_)\n",
    "    return model"
   ]
  },
  {
   "cell_type": "code",
   "execution_count": 7,
   "metadata": {
    "tags": []
   },
   "outputs": [
    {
     "output_type": "stream",
     "name": "stdout",
     "text": "start AutoCatBoostRegressor\nFitting 5 folds for each of 24 candidates, totalling 120 fits\n[Parallel(n_jobs=1)]: Using backend SequentialBackend with 1 concurrent workers.\n[Parallel(n_jobs=1)]: Done 120 out of 120 | elapsed: 11.6min finished\nstart ElasticNet\nFitting 5 folds for each of 24 candidates, totalling 120 fits\n[Parallel(n_jobs=1)]: Using backend SequentialBackend with 1 concurrent workers.\n[Parallel(n_jobs=1)]: Done 120 out of 120 | elapsed:  1.8min finished\nstart KernelRidge\nFitting 5 folds for each of 24 candidates, totalling 120 fits\n[Parallel(n_jobs=1)]: Using backend SequentialBackend with 1 concurrent workers.\n[Parallel(n_jobs=1)]: Done 120 out of 120 | elapsed:  1.7min finished\nstart Lasso\nFitting 5 folds for each of 24 candidates, totalling 120 fits\n[Parallel(n_jobs=1)]: Using backend SequentialBackend with 1 concurrent workers.\n[Parallel(n_jobs=1)]: Done 120 out of 120 | elapsed:  1.3min finished\nstart xgb.XGBRegressor\nFitting 5 folds for each of 24 candidates, totalling 120 fits\n[Parallel(n_jobs=1)]: Using backend SequentialBackend with 1 concurrent workers.\n[Parallel(n_jobs=1)]: Done 120 out of 120 | elapsed: 23.3min finished\nstart lgb.LGBMRegressor\nFitting 5 folds for each of 24 candidates, totalling 120 fits\n[Parallel(n_jobs=1)]: Using backend SequentialBackend with 1 concurrent workers.\n[Parallel(n_jobs=1)]: Done 120 out of 120 | elapsed:  2.9min finished\n"
    }
   ],
   "source": [
    "def hyperparam_search_pipeline(model_name, pipe):\n",
    "   print('start', model_name)\n",
    "   param_grid = {\n",
    "      'preprocess__col_trans__numeric__scale_num' : [DFStandardScaler(),DFRobustScaler(),DFMinMaxScaler(),DFPowerTransformer()],\n",
    "      'preprocess__col_trans__numeric__impute_num__strategy': ['mean','median','most_frequent'],\n",
    "      'preprocess__col_trans__category__impute_cat__strategy': ['most_frequent','constant']}\n",
    "   search = GridSearchCV(pipe, param_grid, cv=KFold(n_splits=5,shuffle=True,random_state=112),scoring='neg_root_mean_squared_error',verbose=1).fit                               (train_x[cols], train_y)\n",
    "   frame =pd.DataFrame(search.cv_results_)\n",
    "   frame.sort_values(by='rank_test_score', inplace=True)\n",
    "   return frame\n",
    "pipe_search = dict()\n",
    "for model_name in results:\n",
    "   pipe_search[model_name] = hyperparam_search_pipeline(model_name, get_estimator(model_name, results))\n",
    "   save(pipe_search,  'hyperparam_pipe.pickle')\n"
   ]
  },
  {
   "cell_type": "code",
   "execution_count": 8,
   "metadata": {
    "tags": []
   },
   "outputs": [
    {
     "output_type": "stream",
     "name": "stdout",
     "text": "AutoCatBoostRegressor\nbest score -0.12049625587082247\nbest params most_frequent median DFStandardScaler\nElasticNet\nbest score -0.12908311231449535\nbest params most_frequent median DFStandardScaler\nKernelRidge\nbest score -0.12911514458159468\nbest params most_frequent median DFRobustScaler\nLasso\nbest score -0.12758131071494794\nbest params most_frequent median DFMinMaxScaler\nxgb.XGBRegressor\nbest score -0.12316985608032516\nbest params most_frequent mean DFStandardScaler\nlgb.LGBMRegressor\nbest score -0.12499353543393807\nbest params constant median DFRobustScaler\n"
    }
   ],
   "source": [
    "pipe_search = load('output/hyperparam_pipe.pickle')\n",
    "for model_name, res in pipe_search.items():\n",
    "    res = res.reset_index()\n",
    "    print(model_name)\n",
    "    print('best score', res['mean_test_score'][0])\n",
    "    print('best params', \n",
    "        res['param_preprocess__col_trans__category__impute_cat__strategy'][0],\n",
    "        res['param_preprocess__col_trans__numeric__impute_num__strategy'][0],\n",
    "        res['param_preprocess__col_trans__numeric__scale_num'][0],\n",
    "    )"
   ]
  },
  {
   "cell_type": "code",
   "execution_count": null,
   "metadata": {},
   "outputs": [],
   "source": [
    "AutoCatBoostRegressor\n",
    "best score -0.1153902521105318\n",
    "best params constant mean DFMinMaxScaler\n",
    "            most frequent, median, DFStandard\n",
    "ElasticNet\n",
    "best score -0.11587168950921545\n",
    "best params most_frequent median DFStandardScaler\n",
    "\n",
    "\n",
    "KernelRidge\n",
    "best score -0.11674511912812666\n",
    "best params most_frequent median DFStandardScaler\n",
    "                                 DFRobust\n",
    "Lasso\n",
    "best score -0.1158660391027462\n",
    "best params most_frequent median DFStandardScaler\n",
    "                                 MinMax\n",
    "xgb.XGBRegressor\n",
    "best score -0.11712434284626357\n",
    "best params most_frequent most_frequent DFMinMaxScaler\n",
    "                          mean          DFstandard\n",
    "lgb.LGBMRegressor\n",
    "best score -0.11844457036420222\n",
    "best params constant median DFRobustScaler\n"
   ]
  },
  {
   "cell_type": "code",
   "execution_count": 9,
   "metadata": {},
   "outputs": [
    {
     "output_type": "execute_result",
     "data": {
      "text/plain": "    mean_fit_time  std_fit_time  mean_score_time  std_score_time  \\\n4        6.658980      1.222525         0.048600        0.004751   \n5        7.309394      1.064434         0.070800        0.022595   \n6        7.119582      1.049703         0.071397        0.039832   \n18       7.754680      0.535469         0.059803        0.011988   \n17       8.017480      1.090508         0.070892        0.029152   \n16       7.190931      0.872688         0.085801        0.016415   \n8        6.977011      0.587341         0.076999        0.040770   \n9        8.363065      0.464970         0.087203        0.031453   \n10       6.715616      0.873299         0.058599        0.015968   \n20       6.962792      0.761446         0.053400        0.008162   \n21       7.172400      0.882831         0.064601        0.015212   \n22       6.845830      0.959926         0.082400        0.033365   \n13       7.906099      0.732163         0.088999        0.012571   \n12       6.931793      0.500955         0.067006        0.017921   \n14       7.449006      0.526523         0.076805        0.029683   \n2        5.369083      0.638710         0.049802        0.011447   \n0        5.462420      1.534169         0.056399        0.024896   \n1        7.317759      0.783670         0.132499        0.046047   \n19       1.866368      0.414520         0.000000        0.000000   \n11       1.706331      0.378095         0.000000        0.000000   \n7        1.195426      0.504193         0.000000        0.000000   \n3        2.005926      0.333644         0.000000        0.000000   \n15       1.616710      0.250580         0.000000        0.000000   \n23       1.716957      0.264567         0.000000        0.000000   \n\n   param_preprocess__col_trans__category__impute_cat__strategy  \\\n4                                       most_frequent            \n5                                       most_frequent            \n6                                       most_frequent            \n18                                           constant            \n17                                           constant            \n16                                           constant            \n8                                       most_frequent            \n9                                       most_frequent            \n10                                      most_frequent            \n20                                           constant            \n21                                           constant            \n22                                           constant            \n13                                           constant            \n12                                           constant            \n14                                           constant            \n2                                       most_frequent            \n0                                       most_frequent            \n1                                       most_frequent            \n19                                           constant            \n11                                      most_frequent            \n7                                       most_frequent            \n3                                       most_frequent            \n15                                           constant            \n23                                           constant            \n\n   param_preprocess__col_trans__numeric__impute_num__strategy  \\\n4                                              median           \n5                                              median           \n6                                              median           \n18                                             median           \n17                                             median           \n16                                             median           \n8                                       most_frequent           \n9                                       most_frequent           \n10                                      most_frequent           \n20                                      most_frequent           \n21                                      most_frequent           \n22                                      most_frequent           \n13                                               mean           \n12                                               mean           \n14                                               mean           \n2                                                mean           \n0                                                mean           \n1                                                mean           \n19                                             median           \n11                                      most_frequent           \n7                                              median           \n3                                                mean           \n15                                               mean           \n23                                      most_frequent           \n\n   param_preprocess__col_trans__numeric__scale_num  \\\n4                                 DFStandardScaler   \n5                                   DFRobustScaler   \n6                                   DFMinMaxScaler   \n18                                  DFMinMaxScaler   \n17                                  DFRobustScaler   \n16                                DFStandardScaler   \n8                                 DFStandardScaler   \n9                                   DFRobustScaler   \n10                                  DFMinMaxScaler   \n20                                DFStandardScaler   \n21                                  DFRobustScaler   \n22                                  DFMinMaxScaler   \n13                                  DFRobustScaler   \n12                                DFStandardScaler   \n14                                  DFMinMaxScaler   \n2                                   DFMinMaxScaler   \n0                                 DFStandardScaler   \n1                                   DFRobustScaler   \n19                              DFPowerTransformer   \n11                              DFPowerTransformer   \n7                               DFPowerTransformer   \n3                               DFPowerTransformer   \n15                              DFPowerTransformer   \n23                              DFPowerTransformer   \n\n                                               params  split0_test_score  \\\n4   {'preprocess__col_trans__category__impute_cat_...          -0.109297   \n5   {'preprocess__col_trans__category__impute_cat_...          -0.109297   \n6   {'preprocess__col_trans__category__impute_cat_...          -0.109297   \n18  {'preprocess__col_trans__category__impute_cat_...          -0.110001   \n17  {'preprocess__col_trans__category__impute_cat_...          -0.110001   \n16  {'preprocess__col_trans__category__impute_cat_...          -0.110001   \n8   {'preprocess__col_trans__category__impute_cat_...          -0.109272   \n9   {'preprocess__col_trans__category__impute_cat_...          -0.109272   \n10  {'preprocess__col_trans__category__impute_cat_...          -0.109272   \n20  {'preprocess__col_trans__category__impute_cat_...          -0.112492   \n21  {'preprocess__col_trans__category__impute_cat_...          -0.112492   \n22  {'preprocess__col_trans__category__impute_cat_...          -0.112492   \n13  {'preprocess__col_trans__category__impute_cat_...          -0.108623   \n12  {'preprocess__col_trans__category__impute_cat_...          -0.108619   \n14  {'preprocess__col_trans__category__impute_cat_...          -0.108628   \n2   {'preprocess__col_trans__category__impute_cat_...          -0.114740   \n0   {'preprocess__col_trans__category__impute_cat_...          -0.114740   \n1   {'preprocess__col_trans__category__impute_cat_...          -0.114739   \n19  {'preprocess__col_trans__category__impute_cat_...                NaN   \n11  {'preprocess__col_trans__category__impute_cat_...                NaN   \n7   {'preprocess__col_trans__category__impute_cat_...                NaN   \n3   {'preprocess__col_trans__category__impute_cat_...                NaN   \n15  {'preprocess__col_trans__category__impute_cat_...                NaN   \n23  {'preprocess__col_trans__category__impute_cat_...                NaN   \n\n    split1_test_score  split2_test_score  split3_test_score  \\\n4           -0.099115          -0.165491          -0.103332   \n5           -0.099119          -0.165494          -0.103332   \n6           -0.099116          -0.165495          -0.103331   \n18          -0.096812          -0.166659          -0.105505   \n17          -0.096815          -0.166657          -0.105507   \n16          -0.096812          -0.166667          -0.105503   \n8           -0.098369          -0.165912          -0.104519   \n9           -0.098369          -0.165923          -0.104523   \n10          -0.098370          -0.165922          -0.104521   \n20          -0.097233          -0.165408          -0.107448   \n21          -0.097253          -0.165408          -0.107453   \n22          -0.097258          -0.165408          -0.107452   \n13          -0.100631          -0.166195          -0.107570   \n12          -0.100640          -0.166193          -0.107569   \n14          -0.100631          -0.166206          -0.107570   \n2           -0.099201          -0.163829          -0.105445   \n0           -0.099199          -0.163835          -0.105444   \n1           -0.099201          -0.163835          -0.105445   \n19                NaN                NaN                NaN   \n11                NaN                NaN                NaN   \n7                 NaN                NaN                NaN   \n3                 NaN                NaN                NaN   \n15                NaN                NaN                NaN   \n23                NaN                NaN                NaN   \n\n    split4_test_score  mean_test_score  std_test_score  rank_test_score  \n4           -0.125246        -0.120496        0.024184                1  \n5           -0.125244        -0.120497        0.024184                2  \n6           -0.125256        -0.120499        0.024186                3  \n18          -0.124610        -0.120717        0.024672                4  \n17          -0.124610        -0.120718        0.024671                5  \n16          -0.124610        -0.120719        0.024675                6  \n8           -0.125627        -0.120740        0.024329                7  \n9           -0.125625        -0.120743        0.024332                8  \n10          -0.125634        -0.120744        0.024332                9  \n20          -0.122473        -0.121011        0.023644               10  \n21          -0.122472        -0.121016        0.023639               11  \n22          -0.122472        -0.121016        0.023638               12  \n13          -0.126310        -0.121866        0.023730               13  \n12          -0.126311        -0.121866        0.023728               14  \n14          -0.126318        -0.121871        0.023734               15  \n2           -0.127072        -0.122057        0.022900               16  \n0           -0.127069        -0.122058        0.022902               17  \n1           -0.127070        -0.122058        0.022902               18  \n19                NaN              NaN             NaN               19  \n11                NaN              NaN             NaN               20  \n7                 NaN              NaN             NaN               21  \n3                 NaN              NaN             NaN               22  \n15                NaN              NaN             NaN               23  \n23                NaN              NaN             NaN               24  ",
      "text/html": "<div>\n<style scoped>\n    .dataframe tbody tr th:only-of-type {\n        vertical-align: middle;\n    }\n\n    .dataframe tbody tr th {\n        vertical-align: top;\n    }\n\n    .dataframe thead th {\n        text-align: right;\n    }\n</style>\n<table border=\"1\" class=\"dataframe\">\n  <thead>\n    <tr style=\"text-align: right;\">\n      <th></th>\n      <th>mean_fit_time</th>\n      <th>std_fit_time</th>\n      <th>mean_score_time</th>\n      <th>std_score_time</th>\n      <th>param_preprocess__col_trans__category__impute_cat__strategy</th>\n      <th>param_preprocess__col_trans__numeric__impute_num__strategy</th>\n      <th>param_preprocess__col_trans__numeric__scale_num</th>\n      <th>params</th>\n      <th>split0_test_score</th>\n      <th>split1_test_score</th>\n      <th>split2_test_score</th>\n      <th>split3_test_score</th>\n      <th>split4_test_score</th>\n      <th>mean_test_score</th>\n      <th>std_test_score</th>\n      <th>rank_test_score</th>\n    </tr>\n  </thead>\n  <tbody>\n    <tr>\n      <th>4</th>\n      <td>6.658980</td>\n      <td>1.222525</td>\n      <td>0.048600</td>\n      <td>0.004751</td>\n      <td>most_frequent</td>\n      <td>median</td>\n      <td>DFStandardScaler</td>\n      <td>{'preprocess__col_trans__category__impute_cat_...</td>\n      <td>-0.109297</td>\n      <td>-0.099115</td>\n      <td>-0.165491</td>\n      <td>-0.103332</td>\n      <td>-0.125246</td>\n      <td>-0.120496</td>\n      <td>0.024184</td>\n      <td>1</td>\n    </tr>\n    <tr>\n      <th>5</th>\n      <td>7.309394</td>\n      <td>1.064434</td>\n      <td>0.070800</td>\n      <td>0.022595</td>\n      <td>most_frequent</td>\n      <td>median</td>\n      <td>DFRobustScaler</td>\n      <td>{'preprocess__col_trans__category__impute_cat_...</td>\n      <td>-0.109297</td>\n      <td>-0.099119</td>\n      <td>-0.165494</td>\n      <td>-0.103332</td>\n      <td>-0.125244</td>\n      <td>-0.120497</td>\n      <td>0.024184</td>\n      <td>2</td>\n    </tr>\n    <tr>\n      <th>6</th>\n      <td>7.119582</td>\n      <td>1.049703</td>\n      <td>0.071397</td>\n      <td>0.039832</td>\n      <td>most_frequent</td>\n      <td>median</td>\n      <td>DFMinMaxScaler</td>\n      <td>{'preprocess__col_trans__category__impute_cat_...</td>\n      <td>-0.109297</td>\n      <td>-0.099116</td>\n      <td>-0.165495</td>\n      <td>-0.103331</td>\n      <td>-0.125256</td>\n      <td>-0.120499</td>\n      <td>0.024186</td>\n      <td>3</td>\n    </tr>\n    <tr>\n      <th>18</th>\n      <td>7.754680</td>\n      <td>0.535469</td>\n      <td>0.059803</td>\n      <td>0.011988</td>\n      <td>constant</td>\n      <td>median</td>\n      <td>DFMinMaxScaler</td>\n      <td>{'preprocess__col_trans__category__impute_cat_...</td>\n      <td>-0.110001</td>\n      <td>-0.096812</td>\n      <td>-0.166659</td>\n      <td>-0.105505</td>\n      <td>-0.124610</td>\n      <td>-0.120717</td>\n      <td>0.024672</td>\n      <td>4</td>\n    </tr>\n    <tr>\n      <th>17</th>\n      <td>8.017480</td>\n      <td>1.090508</td>\n      <td>0.070892</td>\n      <td>0.029152</td>\n      <td>constant</td>\n      <td>median</td>\n      <td>DFRobustScaler</td>\n      <td>{'preprocess__col_trans__category__impute_cat_...</td>\n      <td>-0.110001</td>\n      <td>-0.096815</td>\n      <td>-0.166657</td>\n      <td>-0.105507</td>\n      <td>-0.124610</td>\n      <td>-0.120718</td>\n      <td>0.024671</td>\n      <td>5</td>\n    </tr>\n    <tr>\n      <th>16</th>\n      <td>7.190931</td>\n      <td>0.872688</td>\n      <td>0.085801</td>\n      <td>0.016415</td>\n      <td>constant</td>\n      <td>median</td>\n      <td>DFStandardScaler</td>\n      <td>{'preprocess__col_trans__category__impute_cat_...</td>\n      <td>-0.110001</td>\n      <td>-0.096812</td>\n      <td>-0.166667</td>\n      <td>-0.105503</td>\n      <td>-0.124610</td>\n      <td>-0.120719</td>\n      <td>0.024675</td>\n      <td>6</td>\n    </tr>\n    <tr>\n      <th>8</th>\n      <td>6.977011</td>\n      <td>0.587341</td>\n      <td>0.076999</td>\n      <td>0.040770</td>\n      <td>most_frequent</td>\n      <td>most_frequent</td>\n      <td>DFStandardScaler</td>\n      <td>{'preprocess__col_trans__category__impute_cat_...</td>\n      <td>-0.109272</td>\n      <td>-0.098369</td>\n      <td>-0.165912</td>\n      <td>-0.104519</td>\n      <td>-0.125627</td>\n      <td>-0.120740</td>\n      <td>0.024329</td>\n      <td>7</td>\n    </tr>\n    <tr>\n      <th>9</th>\n      <td>8.363065</td>\n      <td>0.464970</td>\n      <td>0.087203</td>\n      <td>0.031453</td>\n      <td>most_frequent</td>\n      <td>most_frequent</td>\n      <td>DFRobustScaler</td>\n      <td>{'preprocess__col_trans__category__impute_cat_...</td>\n      <td>-0.109272</td>\n      <td>-0.098369</td>\n      <td>-0.165923</td>\n      <td>-0.104523</td>\n      <td>-0.125625</td>\n      <td>-0.120743</td>\n      <td>0.024332</td>\n      <td>8</td>\n    </tr>\n    <tr>\n      <th>10</th>\n      <td>6.715616</td>\n      <td>0.873299</td>\n      <td>0.058599</td>\n      <td>0.015968</td>\n      <td>most_frequent</td>\n      <td>most_frequent</td>\n      <td>DFMinMaxScaler</td>\n      <td>{'preprocess__col_trans__category__impute_cat_...</td>\n      <td>-0.109272</td>\n      <td>-0.098370</td>\n      <td>-0.165922</td>\n      <td>-0.104521</td>\n      <td>-0.125634</td>\n      <td>-0.120744</td>\n      <td>0.024332</td>\n      <td>9</td>\n    </tr>\n    <tr>\n      <th>20</th>\n      <td>6.962792</td>\n      <td>0.761446</td>\n      <td>0.053400</td>\n      <td>0.008162</td>\n      <td>constant</td>\n      <td>most_frequent</td>\n      <td>DFStandardScaler</td>\n      <td>{'preprocess__col_trans__category__impute_cat_...</td>\n      <td>-0.112492</td>\n      <td>-0.097233</td>\n      <td>-0.165408</td>\n      <td>-0.107448</td>\n      <td>-0.122473</td>\n      <td>-0.121011</td>\n      <td>0.023644</td>\n      <td>10</td>\n    </tr>\n    <tr>\n      <th>21</th>\n      <td>7.172400</td>\n      <td>0.882831</td>\n      <td>0.064601</td>\n      <td>0.015212</td>\n      <td>constant</td>\n      <td>most_frequent</td>\n      <td>DFRobustScaler</td>\n      <td>{'preprocess__col_trans__category__impute_cat_...</td>\n      <td>-0.112492</td>\n      <td>-0.097253</td>\n      <td>-0.165408</td>\n      <td>-0.107453</td>\n      <td>-0.122472</td>\n      <td>-0.121016</td>\n      <td>0.023639</td>\n      <td>11</td>\n    </tr>\n    <tr>\n      <th>22</th>\n      <td>6.845830</td>\n      <td>0.959926</td>\n      <td>0.082400</td>\n      <td>0.033365</td>\n      <td>constant</td>\n      <td>most_frequent</td>\n      <td>DFMinMaxScaler</td>\n      <td>{'preprocess__col_trans__category__impute_cat_...</td>\n      <td>-0.112492</td>\n      <td>-0.097258</td>\n      <td>-0.165408</td>\n      <td>-0.107452</td>\n      <td>-0.122472</td>\n      <td>-0.121016</td>\n      <td>0.023638</td>\n      <td>12</td>\n    </tr>\n    <tr>\n      <th>13</th>\n      <td>7.906099</td>\n      <td>0.732163</td>\n      <td>0.088999</td>\n      <td>0.012571</td>\n      <td>constant</td>\n      <td>mean</td>\n      <td>DFRobustScaler</td>\n      <td>{'preprocess__col_trans__category__impute_cat_...</td>\n      <td>-0.108623</td>\n      <td>-0.100631</td>\n      <td>-0.166195</td>\n      <td>-0.107570</td>\n      <td>-0.126310</td>\n      <td>-0.121866</td>\n      <td>0.023730</td>\n      <td>13</td>\n    </tr>\n    <tr>\n      <th>12</th>\n      <td>6.931793</td>\n      <td>0.500955</td>\n      <td>0.067006</td>\n      <td>0.017921</td>\n      <td>constant</td>\n      <td>mean</td>\n      <td>DFStandardScaler</td>\n      <td>{'preprocess__col_trans__category__impute_cat_...</td>\n      <td>-0.108619</td>\n      <td>-0.100640</td>\n      <td>-0.166193</td>\n      <td>-0.107569</td>\n      <td>-0.126311</td>\n      <td>-0.121866</td>\n      <td>0.023728</td>\n      <td>14</td>\n    </tr>\n    <tr>\n      <th>14</th>\n      <td>7.449006</td>\n      <td>0.526523</td>\n      <td>0.076805</td>\n      <td>0.029683</td>\n      <td>constant</td>\n      <td>mean</td>\n      <td>DFMinMaxScaler</td>\n      <td>{'preprocess__col_trans__category__impute_cat_...</td>\n      <td>-0.108628</td>\n      <td>-0.100631</td>\n      <td>-0.166206</td>\n      <td>-0.107570</td>\n      <td>-0.126318</td>\n      <td>-0.121871</td>\n      <td>0.023734</td>\n      <td>15</td>\n    </tr>\n    <tr>\n      <th>2</th>\n      <td>5.369083</td>\n      <td>0.638710</td>\n      <td>0.049802</td>\n      <td>0.011447</td>\n      <td>most_frequent</td>\n      <td>mean</td>\n      <td>DFMinMaxScaler</td>\n      <td>{'preprocess__col_trans__category__impute_cat_...</td>\n      <td>-0.114740</td>\n      <td>-0.099201</td>\n      <td>-0.163829</td>\n      <td>-0.105445</td>\n      <td>-0.127072</td>\n      <td>-0.122057</td>\n      <td>0.022900</td>\n      <td>16</td>\n    </tr>\n    <tr>\n      <th>0</th>\n      <td>5.462420</td>\n      <td>1.534169</td>\n      <td>0.056399</td>\n      <td>0.024896</td>\n      <td>most_frequent</td>\n      <td>mean</td>\n      <td>DFStandardScaler</td>\n      <td>{'preprocess__col_trans__category__impute_cat_...</td>\n      <td>-0.114740</td>\n      <td>-0.099199</td>\n      <td>-0.163835</td>\n      <td>-0.105444</td>\n      <td>-0.127069</td>\n      <td>-0.122058</td>\n      <td>0.022902</td>\n      <td>17</td>\n    </tr>\n    <tr>\n      <th>1</th>\n      <td>7.317759</td>\n      <td>0.783670</td>\n      <td>0.132499</td>\n      <td>0.046047</td>\n      <td>most_frequent</td>\n      <td>mean</td>\n      <td>DFRobustScaler</td>\n      <td>{'preprocess__col_trans__category__impute_cat_...</td>\n      <td>-0.114739</td>\n      <td>-0.099201</td>\n      <td>-0.163835</td>\n      <td>-0.105445</td>\n      <td>-0.127070</td>\n      <td>-0.122058</td>\n      <td>0.022902</td>\n      <td>18</td>\n    </tr>\n    <tr>\n      <th>19</th>\n      <td>1.866368</td>\n      <td>0.414520</td>\n      <td>0.000000</td>\n      <td>0.000000</td>\n      <td>constant</td>\n      <td>median</td>\n      <td>DFPowerTransformer</td>\n      <td>{'preprocess__col_trans__category__impute_cat_...</td>\n      <td>NaN</td>\n      <td>NaN</td>\n      <td>NaN</td>\n      <td>NaN</td>\n      <td>NaN</td>\n      <td>NaN</td>\n      <td>NaN</td>\n      <td>19</td>\n    </tr>\n    <tr>\n      <th>11</th>\n      <td>1.706331</td>\n      <td>0.378095</td>\n      <td>0.000000</td>\n      <td>0.000000</td>\n      <td>most_frequent</td>\n      <td>most_frequent</td>\n      <td>DFPowerTransformer</td>\n      <td>{'preprocess__col_trans__category__impute_cat_...</td>\n      <td>NaN</td>\n      <td>NaN</td>\n      <td>NaN</td>\n      <td>NaN</td>\n      <td>NaN</td>\n      <td>NaN</td>\n      <td>NaN</td>\n      <td>20</td>\n    </tr>\n    <tr>\n      <th>7</th>\n      <td>1.195426</td>\n      <td>0.504193</td>\n      <td>0.000000</td>\n      <td>0.000000</td>\n      <td>most_frequent</td>\n      <td>median</td>\n      <td>DFPowerTransformer</td>\n      <td>{'preprocess__col_trans__category__impute_cat_...</td>\n      <td>NaN</td>\n      <td>NaN</td>\n      <td>NaN</td>\n      <td>NaN</td>\n      <td>NaN</td>\n      <td>NaN</td>\n      <td>NaN</td>\n      <td>21</td>\n    </tr>\n    <tr>\n      <th>3</th>\n      <td>2.005926</td>\n      <td>0.333644</td>\n      <td>0.000000</td>\n      <td>0.000000</td>\n      <td>most_frequent</td>\n      <td>mean</td>\n      <td>DFPowerTransformer</td>\n      <td>{'preprocess__col_trans__category__impute_cat_...</td>\n      <td>NaN</td>\n      <td>NaN</td>\n      <td>NaN</td>\n      <td>NaN</td>\n      <td>NaN</td>\n      <td>NaN</td>\n      <td>NaN</td>\n      <td>22</td>\n    </tr>\n    <tr>\n      <th>15</th>\n      <td>1.616710</td>\n      <td>0.250580</td>\n      <td>0.000000</td>\n      <td>0.000000</td>\n      <td>constant</td>\n      <td>mean</td>\n      <td>DFPowerTransformer</td>\n      <td>{'preprocess__col_trans__category__impute_cat_...</td>\n      <td>NaN</td>\n      <td>NaN</td>\n      <td>NaN</td>\n      <td>NaN</td>\n      <td>NaN</td>\n      <td>NaN</td>\n      <td>NaN</td>\n      <td>23</td>\n    </tr>\n    <tr>\n      <th>23</th>\n      <td>1.716957</td>\n      <td>0.264567</td>\n      <td>0.000000</td>\n      <td>0.000000</td>\n      <td>constant</td>\n      <td>most_frequent</td>\n      <td>DFPowerTransformer</td>\n      <td>{'preprocess__col_trans__category__impute_cat_...</td>\n      <td>NaN</td>\n      <td>NaN</td>\n      <td>NaN</td>\n      <td>NaN</td>\n      <td>NaN</td>\n      <td>NaN</td>\n      <td>NaN</td>\n      <td>24</td>\n    </tr>\n  </tbody>\n</table>\n</div>"
     },
     "metadata": {},
     "execution_count": 9
    }
   ],
   "source": [
    "pipe_search['AutoCatBoostRegressor']"
   ]
  },
  {
   "cell_type": "markdown",
   "metadata": {
    "Collapsed": "false"
   },
   "source": [
    "## Test of all models"
   ]
  },
  {
   "cell_type": "code",
   "execution_count": 32,
   "metadata": {
    "tags": []
   },
   "outputs": [
    {
     "output_type": "stream",
     "name": "stdout",
     "text": "AutoCatBoostRegressor\ntest 0.1210077, train 0.0497454\nElasticNet\ntest 0.1294588, train 0.1032053\nKernelRidge\ntest 0.1306891, train 0.1062492\nLasso\ntest 0.1321611, train 0.1046623\nxgb.XGBRegressor\ntest 0.1240356, train 0.0472714\nlgb.LGBMRegressor\ntest 0.1256687, train 0.0652470\n"
    }
   ],
   "source": [
    "# selected columns dataset\n",
    "for model_name in results:\n",
    "    print(model_name)\n",
    "    test_pipeline(get_estimator(model_name, results),train_x=train_x[cols])"
   ]
  },
  {
   "cell_type": "markdown",
   "metadata": {
    "Collapsed": "false",
    "colab": {},
    "colab_type": "code",
    "id": "wO5qirPMBqGX"
   },
   "source": [
    "## Hyperparameter tuning"
   ]
  },
  {
   "cell_type": "code",
   "execution_count": 33,
   "metadata": {
    "Collapsed": "false",
    "tags": []
   },
   "outputs": [],
   "source": [
    "from skopt import BayesSearchCV, callbacks\n",
    "from skopt.space import Real, Categorical, Integer\n",
    "\n",
    "NUM_ITERATIONS = 150\n",
    "NO_IMPROVEMENT_STOP_THRES = 25\n",
    "\n",
    "def gen_opt_settings(model_name):\n",
    "    model = {'model': [models[model_name].model]}\n",
    "    for k,v in models[model_name].hyper.items():\n",
    "        model['model__'+k] = v\n",
    "    if models[model_name].hyper:\n",
    "        return (model, NUM_ITERATIONS)\n",
    "    else:\n",
    "        return (model, 1)\n",
    "\n",
    "def optimize_model(model_name,train_x = train_x, train_time = 600):\n",
    "    print('running', model_name)\n",
    "    def no_improvement_detector(optim_result):\n",
    "        score = opt.best_score_\n",
    "        # print(optim_result.x)\n",
    "        print(f\"{'best score':15}{score}\")\n",
    "        if score > opt.train_status['current_score']:\n",
    "            opt.train_status['current_score'] = score\n",
    "            opt.train_status['not_improving'] = 0\n",
    "        else:\n",
    "            opt.train_status['not_improving'] += 1\n",
    "            if opt.train_status['not_improving'] == opt.train_status['stop_thres']: return True\n",
    "    checkpointsaver = callbacks.CheckpointSaver(\"output/\" + model_name + \"_skopt.pkl\")\n",
    "    deadlinestopper = callbacks.DeadlineStopper(train_time)\n",
    "\n",
    "    opt = BayesSearchCV(\n",
    "        get_pipeline(models[model_name].model, **models[model_name].preprocess),\n",
    "        [gen_opt_settings(model_name)],\n",
    "        cv=KFold(n_splits=5,shuffle=True,random_state=112), \n",
    "        scoring = 'neg_root_mean_squared_error',\n",
    "        return_train_score = True,\n",
    "        random_state = 112,\n",
    "        refit=False\n",
    "        )\n",
    "    opt.train_status = { 'current_score': -100, 'not_improving': 0, 'stop_thres' :NO_IMPROVEMENT_STOP_THRES}\n",
    "    opt.fit(train_x,train_y, callback = [no_improvement_detector,checkpointsaver,deadlinestopper])\n",
    "    return opt\n",
    "\n",
    "def hashing(self): return 8398398478478 \n",
    "CatBoostRegressor.__hash__ = hashing # otherwise skopt flips"
   ]
  },
  {
   "cell_type": "code",
   "execution_count": 17,
   "metadata": {
    "tags": []
   },
   "outputs": [
    {
     "output_type": "stream",
     "name": "stdout",
     "text": "AutoCatBoostRegressor          Best score 0.1129 std 0.0077 train 0.0496 time 0.0332\nElasticNet                     Best score 0.1159 std 0.0111 train 0.1034 time 0.1005\nKernelRidge                    Best score 0.1162 std 0.0100 train 0.1065 time 0.1085\nLasso                          Best score 0.1153 std 0.0112 train 0.1050 time 0.1251\nxgb.XGBRegressor               Best score 0.1160 std 0.0105 train 0.0474 time 0.0592\nlgb.LGBMRegressor              Best score 0.1184 std 0.0088 train 0.0665 time 0.0650\n"
    }
   ],
   "source": [
    "results = load(\"output/hyperparam_tuning41selected1800\")\n",
    "print_results(results)"
   ]
  },
  {
   "cell_type": "code",
   "execution_count": 10,
   "metadata": {
    "tags": []
   },
   "outputs": [],
   "source": [
    "#summarize tuning results\n",
    "def print_results(results):\n",
    "    for model in results:\n",
    "        best_run = results[model].cv_results_['rank_test_score'].index(1)\n",
    "        mean_test_score = -1 * results[model].cv_results_['mean_test_score'][best_run]\n",
    "        std_test_score = results[model].cv_results_['std_test_score'][best_run]\n",
    "        mean_train_score = -1 * results[model].cv_results_['mean_train_score'][best_run]\n",
    "        mean_score_time = results[model].cv_results_['mean_score_time'][best_run]\n",
    "        best_params = results[model].best_params_\n",
    "        print(f\"{model:<30} Best score {mean_test_score:.4f} std {std_test_score:.4f} train {mean_train_score:.4f} time {mean_score_time:.4f}\")"
   ]
  },
  {
   "cell_type": "markdown",
   "metadata": {
    "Collapsed": "false"
   },
   "source": [
    "## Stacking best models from hyperparam"
   ]
  },
  {
   "cell_type": "code",
   "execution_count": 34,
   "metadata": {
    "Collapsed": "false",
    "tags": []
   },
   "outputs": [],
   "source": [
    "from sklearn.ensemble import StackingRegressor\n",
    "\n",
    "def get_estimator(model_name, results):\n",
    "    model = get_pipeline(models[model_name].model, **models[model_name].preprocess)\n",
    "    model.set_params(**results[model_name].best_params_)\n",
    "    return model\n",
    "\n",
    "def get_stacked_model(results,train_x=train_x):\n",
    "    to_stack_list = [\n",
    "        'AutoCatBoostRegressor',\n",
    "        'ElasticNet',\n",
    "        'KernelRidge',\n",
    "        'Lasso',\n",
    "        'xgb.XGBRegressor',\n",
    "        'lgb.LGBMRegressor']\n",
    "\n",
    "    # to_stack_list = to_test\n",
    "    # to_stack = [(model_name, results[model_name].best_estimator_) for model_name in to_stack_list]\n",
    "    # to_stack = [(model_name, results[model_name].best_estimator_) for model_name in results]\n",
    "    to_stack = [(model_name, get_estimator(model_name, results)) for model_name in to_stack_list]\n",
    "    model = StackingRegressor(to_stack, final_estimator = (LinearRegression()), passthrough = False)\n",
    "    scores = cross_validate(model, train_x, train_y, scoring='neg_root_mean_squared_error', cv=KFold(n_splits=5,shuffle=True,random_state=112), return_train_score=True)\n",
    "    print(f\"stacking model train {-1 * sum(scores['train_score'])/5:.4f}, test {-1 * sum(scores['test_score'])/5:.4f}\")\n",
    "    model.fit(train_x,train_y)\n",
    "    return model"
   ]
  },
  {
   "cell_type": "markdown",
   "metadata": {},
   "source": [
    "## Blending, to get rid of some of the overfitting"
   ]
  },
  {
   "cell_type": "code",
   "execution_count": 35,
   "metadata": {
    "tags": []
   },
   "outputs": [],
   "source": [
    "def blend(model, filename):\n",
    "    preds = [estimator.predict(final_test) for estimator in model.estimators_]\n",
    "    # weights = np.array([0.2]*len(preds) + [(1-len(preds)*0.2)])\n",
    "    weights = np.array([1/6]*len(preds))\n",
    "    print(weights)\n",
    "    # preds.append(model.predict(final_test))\n",
    "    print(len(preds))\n",
    "    # weigh the individual models with 0.1 and the stacked regressor with the remainder\n",
    "    weighted_preds = preds * weights[:, None]\n",
    "    final_preds = np.sum(weighted_preds,axis=0)\n",
    "    final_test['SalePrice'] = np.exp(final_preds)\n",
    "    final_test[['Id','SalePrice']].to_csv('output/'+filename, index=False)"
   ]
  },
  {
   "cell_type": "markdown",
   "metadata": {
    "Collapsed": "false",
    "colab": {},
    "colab_type": "code",
    "id": "hLsUZ1ZnBp5P"
   },
   "source": [
    "## Experiment with combination of the amount of runs from feature selection and hyperparameter tune tune"
   ]
  },
  {
   "cell_type": "code",
   "execution_count": 36,
   "metadata": {
    "tags": []
   },
   "outputs": [
    {
     "output_type": "stream",
     "name": "stdout",
     "text": "starting,41,selected,1800\nlen col 100\nrunning AutoCatBoostRegressor\nbest score     -0.12098699789403443\nbest score     -0.12098699789403443\nbest score     -0.12098699789403443\nbest score     -0.12098699789403443\nbest score     -0.12098699789403443\nbest score     -0.12098699789403443\nbest score     -0.12098699789403443\nbest score     -0.12098699789403443\nbest score     -0.12035311172818344\nbest score     -0.12035311172818344\nbest score     -0.12035311172818344\nbest score     -0.12035311172818344\nbest score     -0.12035311172818344\nbest score     -0.12035311172818344\nbest score     -0.12035311172818344\nbest score     -0.12035311172818344\nbest score     -0.12035311172818344\nbest score     -0.12035311172818344\nbest score     -0.12035311172818344\nbest score     -0.12035311172818344\nbest score     -0.12035311172818344\nbest score     -0.12035311172818344\nbest score     -0.12035311172818344\nbest score     -0.12024815523158199\nbest score     -0.12024815523158199\nbest score     -0.12024815523158199\nbest score     -0.12024815523158199\nbest score     -0.12024815523158199\nbest score     -0.12024815523158199\nrunning ElasticNet\nbest score     -0.15663481936683113\nbest score     -0.1457076289811415\nbest score     -0.1340641072009646\nbest score     -0.1340641072009646\nbest score     -0.13393123653379932\nbest score     -0.13393123653379932\nbest score     -0.13314128370475312\nbest score     -0.13314128370475312\nbest score     -0.13314128370475312\nbest score     -0.13314128370475312\nbest score     -0.13314128370475312\nbest score     -0.13314128370475312\nbest score     -0.129827775157673\nbest score     -0.129827775157673\nbest score     -0.129827775157673\nbest score     -0.129827775157673\nbest score     -0.129827775157673\nbest score     -0.129827775157673\nbest score     -0.129827775157673\nbest score     -0.129827775157673\nbest score     -0.129827775157673\nbest score     -0.129827775157673\nbest score     -0.129827775157673\nbest score     -0.129827775157673\nbest score     -0.129827775157673\nbest score     -0.129827775157673\nbest score     -0.129827775157673\nbest score     -0.129827775157673\nbest score     -0.129827775157673\nbest score     -0.129827775157673\nbest score     -0.129827775157673\nbest score     -0.129827775157673\nbest score     -0.129827775157673\nbest score     -0.129827775157673\nbest score     -0.129827775157673\nbest score     -0.129827775157673\nbest score     -0.129827775157673\nbest score     -0.129827775157673\nrunning KernelRidge\nbest score     -0.13177395623699525\nbest score     -0.13177395623699525\nbest score     -0.13089873500531465\nbest score     -0.13089873500531465\nbest score     -0.13089873500531465\nbest score     -0.13089873500531465\nbest score     -0.13089873500531465\nbest score     -0.13089873500531465\nbest score     -0.13089873500531465\nbest score     -0.13089873500531465\nbest score     -0.13089873500531465\nbest score     -0.1306937824375028\nbest score     -0.1306937824375028\nbest score     -0.1306937824375028\nbest score     -0.1306937824375028\nbest score     -0.13068912737885527\nbest score     -0.13068912737885527\nbest score     -0.13068912737885527\nbest score     -0.13068912737885527\nbest score     -0.13068912737885527\nbest score     -0.13068912737885527\nbest score     -0.13068912737885527\nbest score     -0.13068912737885527\nbest score     -0.13068912737885527\nbest score     -0.13068912737885527\nbest score     -0.13068912737885527\nbest score     -0.13068912737885527\nbest score     -0.13068912737885527\nbest score     -0.13068912737885527\nbest score     -0.13068912737885527\nbest score     -0.13068912737885527\nbest score     -0.13068912737885527\nbest score     -0.13068912737885527\nbest score     -0.13068912737885527\nbest score     -0.13068912737885527\nbest score     -0.13068912737885527\nbest score     -0.13068912737885527\nbest score     -0.13068912737885527\nbest score     -0.13068912737885527\nbest score     -0.13068912737885527\nbest score     -0.13068912737885527\nrunning Lasso\nbest score     -0.14354957883016806\nbest score     -0.14354957883016806\nbest score     -0.14218413066425656\nbest score     -0.14218413066425656\nbest score     -0.1341765532792878\nbest score     -0.1341765532792878\nbest score     -0.13228258704339876\nbest score     -0.13228258704339876\nbest score     -0.13228258704339876\nbest score     -0.13228258704339876\nbest score     -0.13228258704339876\nbest score     -0.13228258704339876\nbest score     -0.13228258704339876\nbest score     -0.13228258704339876\nbest score     -0.13228258704339876\nbest score     -0.13228258704339876\nbest score     -0.13228258704339876\nbest score     -0.13228258704339876\nbest score     -0.13121843465263627\nbest score     -0.13121843465263627\nbest score     -0.13121843465263627\nbest score     -0.13121843465263627\nbest score     -0.13121843465263627\nbest score     -0.13121843465263627\nbest score     -0.13121843465263627\nbest score     -0.13121843465263627\nbest score     -0.13121843465263627\nbest score     -0.13121843465263627\nbest score     -0.13121843465263627\nbest score     -0.13121843465263627\nbest score     -0.13121843465263627\nbest score     -0.13121843465263627\nbest score     -0.13121843465263627\nbest score     -0.13121843465263627\nbest score     -0.13121843465263627\nbest score     -0.13121843465263627\nbest score     -0.13121843465263627\nbest score     -0.13121843465263627\nbest score     -0.13121843465263627\nbest score     -0.13121843465263627\nbest score     -0.13121843465263627\nbest score     -0.13121843465263627\nbest score     -0.13121843465263627\nbest score     -0.13121843465263627\nrunning xgb.XGBRegressor\nbest score     -0.12189156472780532\nbest score     -0.12189156472780532\nbest score     -0.12189156472780532\nbest score     -0.12189156472780532\nbest score     -0.12189156472780532\nbest score     -0.12189156472780532\nbest score     -0.12177841049436376\nbest score     -0.12177841049436376\nbest score     -0.12177841049436376\nbest score     -0.12177841049436376\nbest score     -0.12177841049436376\nbest score     -0.12177841049436376\nbest score     -0.12177841049436376\nbest score     -0.12177841049436376\nbest score     -0.12177841049436376\nbest score     -0.12177841049436376\nbest score     -0.12177841049436376\nbest score     -0.12177841049436376\nbest score     -0.12177841049436376\nbest score     -0.12177841049436376\nbest score     -0.12177841049436376\nbest score     -0.12177841049436376\nbest score     -0.12177841049436376\nbest score     -0.12177841049436376\nbest score     -0.12177841049436376\nbest score     -0.12177841049436376\nrunning lgb.LGBMRegressor\nbest score     -0.1278762850694768\nbest score     -0.12484417486031349\nbest score     -0.12484417486031349\nbest score     -0.12484417486031349\nbest score     -0.12484417486031349\nbest score     -0.12484417486031349\nbest score     -0.12484417486031349\nbest score     -0.12484417486031349\nbest score     -0.12484417486031349\nbest score     -0.12484417486031349\nbest score     -0.12484417486031349\nbest score     -0.12484417486031349\nbest score     -0.12484417486031349\nbest score     -0.12484417486031349\nbest score     -0.12484417486031349\nbest score     -0.12484417486031349\nbest score     -0.12484417486031349\nbest score     -0.12484417486031349\nbest score     -0.12484417486031349\nbest score     -0.12484417486031349\nbest score     -0.12484417486031349\nbest score     -0.12484417486031349\nbest score     -0.12484417486031349\nbest score     -0.12484417486031349\nbest score     -0.12484417486031349\nbest score     -0.12484417486031349\nbest score     -0.12484417486031349\nhyperparameter tuning done\nAutoCatBoostRegressor          Best score 0.1202 std 0.0217 train 0.0640 time 0.0576\nElasticNet                     Best score 0.1298 std 0.0426 train 0.1038 time 0.1048\nKernelRidge                    Best score 0.1307 std 0.0421 train 0.1062 time 0.1414\nLasso                          Best score 0.1312 std 0.0468 train 0.1028 time 0.1096\nxgb.XGBRegressor               Best score 0.1218 std 0.0182 train 0.0590 time 0.0686\nlgb.LGBMRegressor              Best score 0.1248 std 0.0210 train 0.0798 time 0.0724\nNone\nstacking model train 0.0817, test 0.1258\n[0.16666667 0.16666667 0.16666667 0.16666667 0.16666667 0.16666667]\n6\n"
    }
   ],
   "source": [
    "feat_selector = load('output/feat_selector.pickle')\n",
    "for run_amount, strictness in [(41,'selected')]:\n",
    "    for train_time in [1800]:\n",
    "        print(f'starting,{run_amount},{strictness},{train_time}')\n",
    "        cols = set(feat_selector.named_steps['model'].runs[run_amount][strictness])\n",
    "        print('len col', len(cols))\n",
    "        to_test = [k for k in models]\n",
    "        to_test = [\n",
    "            'AutoCatBoostRegressor',\n",
    "            'ElasticNet',\n",
    "            'KernelRidge',\n",
    "            'Lasso',\n",
    "            'xgb.XGBRegressor',\n",
    "            'lgb.LGBMRegressor']\n",
    "        results = {}\n",
    "        for name in to_test:\n",
    "            results[name] = optimize_model(name, train_x[cols], train_time)\n",
    "        save(results,'hyperparam_tuning'+str(run_amount)+strictness+str(train_time))\n",
    "        print('hyperparameter tuning done')\n",
    "        print(print_results(results))\n",
    "        model = get_stacked_model(results,train_x=train_x[cols])\n",
    "        submit(model, 'submission'+str(run_amount)+strictness+str(train_time)+'csv')\n",
    "        save(model, 'ensemble'+str(run_amount)+strictness+str(train_time)+'pickle')\n",
    "        blend(model,'blend'+str(run_amount)+strictness+str(train_time)+'.csv')"
   ]
  }
 ],
 "metadata": {
  "anaconda-cloud": {},
  "colab": {
   "collapsed_sections": [],
   "name": "Copy of Copy of Copy of rentJesse.ipynb",
   "provenance": []
  },
  "kernelspec": {
   "display_name": "Python 3.7.3 64-bit ('ProgramData': virtualenv)",
   "language": "python",
   "name": "python37364bitprogramdatavirtualenv99403c2e8abd4ba0909557516bfee9d9"
  },
  "language_info": {
   "codemirror_mode": {
    "name": "ipython",
    "version": 3
   },
   "file_extension": ".py",
   "mimetype": "text/x-python",
   "name": "python",
   "nbconvert_exporter": "python",
   "pygments_lexer": "ipython3",
   "version": "3.7.3-final"
  }
 },
 "nbformat": 4,
 "nbformat_minor": 4
}