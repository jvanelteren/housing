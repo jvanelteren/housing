{
 "metadata": {
  "language_info": {
   "codemirror_mode": {
    "name": "ipython",
    "version": 3
   },
   "file_extension": ".py",
   "mimetype": "text/x-python",
   "name": "python",
   "nbconvert_exporter": "python",
   "pygments_lexer": "ipython3",
   "version": "3.7.3-final"
  },
  "orig_nbformat": 2,
  "kernelspec": {
   "name": "python37364bitprogramdatavirtualenv99403c2e8abd4ba0909557516bfee9d9",
   "display_name": "Python 3.7.3 64-bit ('ProgramData': virtualenv)"
  }
 },
 "nbformat": 4,
 "nbformat_minor": 2,
 "cells": [
  {
   "cell_type": "markdown",
   "metadata": {},
   "source": [
    "Notebook to tryout categorical embeddings \n",
    "https://github.com/Shivanandroy/CategoricalEmbedder/blob/master/example_notebook/Example%20Notebook.ipynb\n",
    "\n",
    "Conclusion: didn't work better than onehot encoding (0.118 vs 0.115). Try later again maybe."
   ]
  },
  {
   "cell_type": "code",
   "execution_count": 1,
   "metadata": {
    "tags": []
   },
   "outputs": [],
   "source": [
    "import pandas as pd\n",
    "import numpy as np\n",
    "import pickle\n",
    "import altair as alt\n",
    "%load_ext autoreload\n",
    "%autoreload 2\n",
    "\n",
    "from utils.sklearn_custom_steps import DFSimpleImputer, DFOneHotEncoder,DFMinMaxScaler,DFColumnTransformer,DFOutlierExtractor,DFOutlierExtractor,DFStandardScaler,DFRobustScaler,DFSmartImputer, DFUnSkewer, DFPowerTransformer\n",
    "from utils.sklearn_custom_steps import get_pipeline\n",
    "from utils.model_hyperparameters import models\n",
    "\n",
    "from sklearn.linear_model import LinearRegression, Ridge, RidgeCV, Lasso, LassoCV, ElasticNet,SGDRegressor\n",
    "from sklearn.neighbors import KNeighborsRegressor\n",
    "from sklearn import svm\n",
    "from sklearn.neural_network import MLPRegressor\n",
    "from sklearn.kernel_ridge import KernelRidge\n",
    "import lightgbm as lgb\n",
    "import xgboost as xgb\n",
    "from sklearn.model_selection import cross_validate\n",
    "from catboost import CatBoostRegressor\n",
    "from sklearn.model_selection import cross_val_score\n",
    "from sklearn.model_selection import GridSearchCV\n",
    "from sklearn.preprocessing import MinMaxScaler,StandardScaler,RobustScaler\n",
    "from utils.model_hyperparameters import AutoCatBoostRegressor\n",
    "\n",
    "def load(filename):\n",
    "    f = open(filename,\"rb\")\n",
    "    return pickle.load(f)\n",
    "    \n",
    "def save(model, filename='bestmodel.pickle'):\n",
    "    with open('output/'+filename, 'wb') as handle:\n",
    "        pickle.dump(model, handle, protocol=pickle.HIGHEST_PROTOCOL)\n",
    "\n",
    "def save_feature_selection(cols, filename='feat_selection.pickle'):\n",
    "    with open('output/'+filename, 'wb') as handle:\n",
    "        pickle.dump(cols, handle, protocol=pickle.HIGHEST_PROTOCOL)\n",
    "\n",
    "def submit(model, filename='submission.csv'):\n",
    "    pred = model.predict(final_test)\n",
    "    final_test['SalePrice'] = np.exp(pred)\n",
    "    final_test[['Id','SalePrice']].to_csv('output/'+filename, index=False)"
   ]
  },
  {
   "cell_type": "code",
   "execution_count": 2,
   "metadata": {
    "tags": []
   },
   "outputs": [],
   "source": [
    "import categorical_embedder as ce\n",
    "import numpy as np\n",
    "import pandas as pd\n",
    "from sklearn.model_selection import train_test_split"
   ]
  },
  {
   "cell_type": "code",
   "execution_count": 3,
   "metadata": {},
   "outputs": [],
   "source": [
    "f = open(\"output/engineered_datasets.pickle\",\"rb\")\n",
    "train_x, train_y, final_test, _,_,_ = pickle.load(f)\n",
    "\n",
    "#imputing manually\n",
    "for col in train_x.columns:\n",
    "    if train_x[col].dtype.name == 'category':\n",
    "        train_x[col] = train_x[col].cat.add_categories('Unknown')\n",
    "        train_x[col].fillna('Unknown',inplace=True)\n",
    "    else:\n",
    "        train_x[col].fillna(0,inplace=True)\n",
    "# select categorical columns for embedding\n",
    "from sklearn.compose import make_column_selector\n",
    "num_x = make_column_selector(dtype_include=np.number)(train_x)\n",
    "cat_x = make_column_selector(dtype_exclude=np.number)(train_x)\n",
    "\n",
    "def cross_val_models(to_test,train_x=train_x,**kwargs):\n",
    "    for name in to_test:\n",
    "        print(f\"{name.ljust(20)}\", end = ': ')\n",
    "        pipe = get_pipeline(models[name].model, **models[name].preprocess, **kwargs)\n",
    "        test_pipeline(pipe, train_x = train_x)\n",
    "         \n",
    "def test_model(model,train_x = train_x,param=None):\n",
    "    if not param: param = {}\n",
    "    pipe = get_pipeline(model,**param)\n",
    "    return test_pipeline(pipe, train_x=train_x)\n",
    "\n",
    "def test_pipeline(pipe,train_x = train_x):\n",
    "    # print(train_x.shape)\n",
    "    num_fold = 5\n",
    "    \n",
    "    scores = cross_validate(pipe, train_x, train_y, scoring='neg_root_mean_squared_error', cv=num_fold, return_train_score=True)\n",
    "    print(f\"test {-1 * sum(scores['test_score'])/num_fold:.7f}, train {-1 * sum(scores['train_score'])/num_fold:.7f}\")\n",
    "    return pipe"
   ]
  },
  {
   "cell_type": "code",
   "execution_count": 4,
   "metadata": {},
   "outputs": [],
   "source": [
    "# ce.get_embedding_info identifies the categorical variables, # of unique values and embedding size and returns a dictionary\n",
    "embedding_info = ce.get_embedding_info(train_x,categorical_variables=cat_x)"
   ]
  },
  {
   "cell_type": "code",
   "execution_count": 5,
   "metadata": {},
   "outputs": [],
   "source": [
    "# ce.get_label_encoded_data integer encodes the categorical variables and prepares it to feed it to neural network\n",
    "X_encoded,encoders = ce.get_label_encoded_data(train_x,categorical_variables=cat_x)"
   ]
  },
  {
   "cell_type": "code",
   "execution_count": 6,
   "metadata": {
    "tags": []
   },
   "outputs": [
    {
     "output_type": "stream",
     "name": "stdout",
     "text": "Epoch 1/200\n5/5 [==============================] - 3s 665ms/step - loss: 2534782208.0000 - mean_absolute_error: 2534782208.0000 - val_loss: 654931008.0000 - val_mean_absolute_error: 654931008.0000\nEpoch 2/200\n5/5 [==============================] - 1s 174ms/step - loss: 320620768.0000 - mean_absolute_error: 320620768.0000 - val_loss: 38221344.0000 - val_mean_absolute_error: 38221344.0000\nEpoch 3/200\n5/5 [==============================] - 1s 161ms/step - loss: 111956352.0000 - mean_absolute_error: 111956352.0000 - val_loss: 97389752.0000 - val_mean_absolute_error: 97389752.0000\nEpoch 4/200\n5/5 [==============================] - 0s 79ms/step - loss: 81844696.0000 - mean_absolute_error: 81844696.0000 - val_loss: 214066784.0000 - val_mean_absolute_error: 214066784.0000\nEpoch 5/200\n5/5 [==============================] - 0s 91ms/step - loss: 151299728.0000 - mean_absolute_error: 151299728.0000 - val_loss: 207280416.0000 - val_mean_absolute_error: 207280416.0000\nEpoch 6/200\n5/5 [==============================] - 1s 106ms/step - loss: 107338752.0000 - mean_absolute_error: 107338752.0000 - val_loss: 128748976.0000 - val_mean_absolute_error: 128748976.0000\nEpoch 7/200\n5/5 [==============================] - 0s 91ms/step - loss: 65188992.0000 - mean_absolute_error: 65188992.0000 - val_loss: 31234154.0000 - val_mean_absolute_error: 31234154.0000\nEpoch 8/200\n5/5 [==============================] - 1s 102ms/step - loss: 43534884.0000 - mean_absolute_error: 43534884.0000 - val_loss: 41053244.0000 - val_mean_absolute_error: 41053244.0000\nEpoch 9/200\n5/5 [==============================] - 1s 131ms/step - loss: 32353358.0000 - mean_absolute_error: 32353358.0000 - val_loss: 55356328.0000 - val_mean_absolute_error: 55356328.0000\nEpoch 10/200\n5/5 [==============================] - 0s 82ms/step - loss: 26258540.0000 - mean_absolute_error: 26258540.0000 - val_loss: 24084506.0000 - val_mean_absolute_error: 24084506.0000\nEpoch 11/200\n5/5 [==============================] - 1s 123ms/step - loss: 12116388.0000 - mean_absolute_error: 12116388.0000 - val_loss: 18260988.0000 - val_mean_absolute_error: 18260988.0000\nEpoch 12/200\n5/5 [==============================] - 1s 121ms/step - loss: 14143382.0000 - mean_absolute_error: 14143382.0000 - val_loss: 27350344.0000 - val_mean_absolute_error: 27350344.0000\nEpoch 13/200\n5/5 [==============================] - ETA: 0s - loss: 12746422.0000 - mean_absolute_error: 12746422.0005/5 [==============================] - 0s 100ms/step - loss: 12746422.0000 - mean_absolute_error: 12746422.0000 - val_loss: 13197805.0000 - val_mean_absolute_error: 13197805.0000\nEpoch 14/200\n5/5 [==============================] - 1s 104ms/step - loss: 8387631.5000 - mean_absolute_error: 8387631.5000 - val_loss: 9009537.0000 - val_mean_absolute_error: 9009537.0000\nEpoch 15/200\n5/5 [==============================] - 1s 128ms/step - loss: 5235288.0000 - mean_absolute_error: 5235288.0000 - val_loss: 2724061.2500 - val_mean_absolute_error: 2724061.2500\nEpoch 16/200\n5/5 [==============================] - 0s 95ms/step - loss: 2293976.0000 - mean_absolute_error: 2293976.0000 - val_loss: 3153880.2500 - val_mean_absolute_error: 3153880.2500\nEpoch 17/200\n5/5 [==============================] - 1s 124ms/step - loss: 1857187.7500 - mean_absolute_error: 1857187.7500 - val_loss: 2207564.7500 - val_mean_absolute_error: 2207564.7500\nEpoch 18/200\n5/5 [==============================] - 1s 103ms/step - loss: 1356642.7500 - mean_absolute_error: 1356642.7500 - val_loss: 1431973.8750 - val_mean_absolute_error: 1431973.8750\nEpoch 19/200\n5/5 [==============================] - 1s 128ms/step - loss: 1044980.5000 - mean_absolute_error: 1044980.5000 - val_loss: 1566008.5000 - val_mean_absolute_error: 1566008.5000\nEpoch 20/200\n5/5 [==============================] - 0s 82ms/step - loss: 1258836.6250 - mean_absolute_error: 1258836.6250 - val_loss: 1544070.2500 - val_mean_absolute_error: 1544070.2500\nEpoch 21/200\n5/5 [==============================] - 1s 110ms/step - loss: 1961801.3750 - mean_absolute_error: 1961801.3750 - val_loss: 2360252.0000 - val_mean_absolute_error: 2360252.0000\nEpoch 22/200\n5/5 [==============================] - 0s 67ms/step - loss: 1598400.0000 - mean_absolute_error: 1598400.0000 - val_loss: 1683195.3750 - val_mean_absolute_error: 1683195.3750\nEpoch 23/200\n5/5 [==============================] - 0s 75ms/step - loss: 1003826.8750 - mean_absolute_error: 1003826.8750 - val_loss: 577535.5625 - val_mean_absolute_error: 577535.5625\nEpoch 24/200\n5/5 [==============================] - 0s 64ms/step - loss: 849717.3750 - mean_absolute_error: 849717.3750 - val_loss: 954452.5000 - val_mean_absolute_error: 954452.5000\nEpoch 25/200\n5/5 [==============================] - 0s 58ms/step - loss: 974398.0000 - mean_absolute_error: 974398.0000 - val_loss: 1923497.0000 - val_mean_absolute_error: 1923497.0000\nEpoch 26/200\n5/5 [==============================] - 0s 73ms/step - loss: 1250443.6250 - mean_absolute_error: 1250443.6250 - val_loss: 3146158.7500 - val_mean_absolute_error: 3146158.7500\nEpoch 27/200\n5/5 [==============================] - 0s 67ms/step - loss: 1720436.8750 - mean_absolute_error: 1720436.8750 - val_loss: 1540593.1250 - val_mean_absolute_error: 1540593.1250\nEpoch 28/200\n5/5 [==============================] - 0s 79ms/step - loss: 2264100.0000 - mean_absolute_error: 2264100.0000 - val_loss: 2200213.2500 - val_mean_absolute_error: 2200213.2500\nEpoch 29/200\n5/5 [==============================] - 0s 81ms/step - loss: 1968752.2500 - mean_absolute_error: 1968752.2500 - val_loss: 1408367.1250 - val_mean_absolute_error: 1408367.1250\nEpoch 30/200\n5/5 [==============================] - 0s 64ms/step - loss: 879751.3125 - mean_absolute_error: 879751.3125 - val_loss: 1886304.5000 - val_mean_absolute_error: 1886304.5000\nEpoch 31/200\n5/5 [==============================] - 0s 86ms/step - loss: 1122518.7500 - mean_absolute_error: 1122518.7500 - val_loss: 1335138.3750 - val_mean_absolute_error: 1335138.3750\nEpoch 32/200\n5/5 [==============================] - 0s 70ms/step - loss: 1360975.0000 - mean_absolute_error: 1360975.0000 - val_loss: 854771.1250 - val_mean_absolute_error: 854771.1250\nEpoch 33/200\n5/5 [==============================] - 0s 95ms/step - loss: 766785.5000 - mean_absolute_error: 766785.5000 - val_loss: 542072.5000 - val_mean_absolute_error: 542072.5000\nEpoch 34/200\n5/5 [==============================] - 0s 76ms/step - loss: 549470.0000 - mean_absolute_error: 549470.0000 - val_loss: 755555.5625 - val_mean_absolute_error: 755555.5625\nEpoch 35/200\n5/5 [==============================] - 1s 102ms/step - loss: 474162.2500 - mean_absolute_error: 474162.2500 - val_loss: 826625.0000 - val_mean_absolute_error: 826625.0000\nEpoch 36/200\n5/5 [==============================] - 0s 68ms/step - loss: 643115.3125 - mean_absolute_error: 643115.3125 - val_loss: 458225.4688 - val_mean_absolute_error: 458225.4688\nEpoch 37/200\n5/5 [==============================] - 0s 71ms/step - loss: 1021921.7500 - mean_absolute_error: 1021921.7500 - val_loss: 1219335.6250 - val_mean_absolute_error: 1219335.6250\nEpoch 38/200\n5/5 [==============================] - 1s 101ms/step - loss: 961021.6875 - mean_absolute_error: 961021.6875 - val_loss: 1261414.7500 - val_mean_absolute_error: 1261414.7500\nEpoch 39/200\n5/5 [==============================] - 0s 65ms/step - loss: 939085.8125 - mean_absolute_error: 939085.8125 - val_loss: 2599443.7500 - val_mean_absolute_error: 2599443.7500\nEpoch 40/200\n5/5 [==============================] - 0s 74ms/step - loss: 1291295.5000 - mean_absolute_error: 1291295.5000 - val_loss: 1591803.6250 - val_mean_absolute_error: 1591803.6250\nEpoch 41/200\n5/5 [==============================] - 0s 68ms/step - loss: 973785.4375 - mean_absolute_error: 973785.4375 - val_loss: 1036026.0625 - val_mean_absolute_error: 1036026.0625\nEpoch 42/200\n5/5 [==============================] - 0s 98ms/step - loss: 676153.3125 - mean_absolute_error: 676153.3125 - val_loss: 803625.5000 - val_mean_absolute_error: 803625.5000\nEpoch 43/200\n5/5 [==============================] - 0s 89ms/step - loss: 639201.1250 - mean_absolute_error: 639201.1250 - val_loss: 1650994.0000 - val_mean_absolute_error: 1650994.0000\nEpoch 44/200\n5/5 [==============================] - 0s 100ms/step - loss: 902126.8750 - mean_absolute_error: 902126.8750 - val_loss: 1606080.3750 - val_mean_absolute_error: 1606080.3750\nEpoch 45/200\n5/5 [==============================] - 0s 74ms/step - loss: 883375.2500 - mean_absolute_error: 883375.2500 - val_loss: 908823.6875 - val_mean_absolute_error: 908823.6875\nEpoch 46/200\n5/5 [==============================] - 0s 79ms/step - loss: 765253.6250 - mean_absolute_error: 765253.6250 - val_loss: 1096674.8750 - val_mean_absolute_error: 1096674.8750\nEpoch 47/200\n5/5 [==============================] - 0s 73ms/step - loss: 762357.0000 - mean_absolute_error: 762357.0000 - val_loss: 546537.7500 - val_mean_absolute_error: 546537.7500\nEpoch 48/200\n5/5 [==============================] - 0s 85ms/step - loss: 677112.5625 - mean_absolute_error: 677112.5625 - val_loss: 1217735.2500 - val_mean_absolute_error: 1217735.2500\nEpoch 49/200\n5/5 [==============================] - 0s 71ms/step - loss: 778503.2500 - mean_absolute_error: 778503.2500 - val_loss: 1089997.6250 - val_mean_absolute_error: 1089997.6250\nEpoch 50/200\n5/5 [==============================] - 0s 88ms/step - loss: 573145.3125 - mean_absolute_error: 573145.3125 - val_loss: 648121.3125 - val_mean_absolute_error: 648121.3125\nEpoch 51/200\n5/5 [==============================] - 1s 111ms/step - loss: 677124.5625 - mean_absolute_error: 677124.5625 - val_loss: 589095.0625 - val_mean_absolute_error: 589095.0625\nEpoch 52/200\n5/5 [==============================] - 1s 107ms/step - loss: 456707.0000 - mean_absolute_error: 456707.0000 - val_loss: 609461.4375 - val_mean_absolute_error: 609461.4375\nEpoch 53/200\n5/5 [==============================] - 0s 98ms/step - loss: 435275.1250 - mean_absolute_error: 435275.1250 - val_loss: 589708.2500 - val_mean_absolute_error: 589708.2500\nEpoch 54/200\n5/5 [==============================] - 1s 138ms/step - loss: 564309.6250 - mean_absolute_error: 564309.6250 - val_loss: 603177.5000 - val_mean_absolute_error: 603177.5000\nEpoch 55/200\n5/5 [==============================] - 1s 151ms/step - loss: 474199.2188 - mean_absolute_error: 474199.2188 - val_loss: 363750.3125 - val_mean_absolute_error: 363750.3125\nEpoch 56/200\n5/5 [==============================] - 1s 129ms/step - loss: 338238.1562 - mean_absolute_error: 338238.1562 - val_loss: 932939.3125 - val_mean_absolute_error: 932939.3125\nEpoch 57/200\n5/5 [==============================] - 1s 141ms/step - loss: 586691.8750 - mean_absolute_error: 586691.8750 - val_loss: 457243.3438 - val_mean_absolute_error: 457243.3438\nEpoch 58/200\n5/5 [==============================] - 1s 124ms/step - loss: 756065.8750 - mean_absolute_error: 756065.8750 - val_loss: 372360.2812 - val_mean_absolute_error: 372360.2812\nEpoch 59/200\n5/5 [==============================] - 1s 106ms/step - loss: 582194.3125 - mean_absolute_error: 582194.3125 - val_loss: 1149837.3750 - val_mean_absolute_error: 1149837.3750\nEpoch 60/200\n5/5 [==============================] - 1s 147ms/step - loss: 713114.2500 - mean_absolute_error: 713114.2500 - val_loss: 820912.6250 - val_mean_absolute_error: 820912.6250\nEpoch 61/200\n5/5 [==============================] - 1s 112ms/step - loss: 912815.1875 - mean_absolute_error: 912815.1875 - val_loss: 496737.4688 - val_mean_absolute_error: 496737.4688\nEpoch 62/200\n5/5 [==============================] - 0s 88ms/step - loss: 485506.7500 - mean_absolute_error: 485506.7500 - val_loss: 563328.7500 - val_mean_absolute_error: 563328.7500\nEpoch 63/200\n5/5 [==============================] - 0s 94ms/step - loss: 382825.0000 - mean_absolute_error: 382825.0000 - val_loss: 634631.6875 - val_mean_absolute_error: 634631.6875\nEpoch 64/200\n5/5 [==============================] - 0s 74ms/step - loss: 377995.8750 - mean_absolute_error: 377995.8750 - val_loss: 832679.6875 - val_mean_absolute_error: 832679.6875\nEpoch 65/200\n5/5 [==============================] - 0s 83ms/step - loss: 646593.8750 - mean_absolute_error: 646593.8750 - val_loss: 881046.8750 - val_mean_absolute_error: 881046.8750\nEpoch 66/200\n5/5 [==============================] - 0s 74ms/step - loss: 493215.1875 - mean_absolute_error: 493215.1875 - val_loss: 482416.7188 - val_mean_absolute_error: 482416.7188\nEpoch 67/200\n5/5 [==============================] - 0s 88ms/step - loss: 312173.0625 - mean_absolute_error: 312173.0625 - val_loss: 512974.9062 - val_mean_absolute_error: 512974.9062\nEpoch 68/200\n5/5 [==============================] - 0s 94ms/step - loss: 386849.0938 - mean_absolute_error: 386849.0938 - val_loss: 901883.5000 - val_mean_absolute_error: 901883.5000\nEpoch 69/200\n5/5 [==============================] - 0s 88ms/step - loss: 472590.9062 - mean_absolute_error: 472590.9062 - val_loss: 681184.6250 - val_mean_absolute_error: 681184.6250\nEpoch 70/200\n5/5 [==============================] - 0s 94ms/step - loss: 456218.0312 - mean_absolute_error: 456218.0312 - val_loss: 612306.3750 - val_mean_absolute_error: 612306.3750\nEpoch 71/200\n5/5 [==============================] - 1s 119ms/step - loss: 360470.0938 - mean_absolute_error: 360470.0938 - val_loss: 528044.1875 - val_mean_absolute_error: 528044.1875\nEpoch 72/200\n5/5 [==============================] - 0s 81ms/step - loss: 437779.3750 - mean_absolute_error: 437779.3750 - val_loss: 384976.4688 - val_mean_absolute_error: 384976.4688\nEpoch 73/200\n5/5 [==============================] - 0s 94ms/step - loss: 384021.2500 - mean_absolute_error: 384021.2500 - val_loss: 571413.6250 - val_mean_absolute_error: 571413.6250\nEpoch 74/200\n5/5 [==============================] - 0s 81ms/step - loss: 482606.4062 - mean_absolute_error: 482606.4062 - val_loss: 658891.8125 - val_mean_absolute_error: 658891.8125\nEpoch 75/200\n5/5 [==============================] - 0s 91ms/step - loss: 418429.4375 - mean_absolute_error: 418429.4375 - val_loss: 630326.6875 - val_mean_absolute_error: 630326.6875\nEpoch 76/200\n5/5 [==============================] - 0s 76ms/step - loss: 293283.9375 - mean_absolute_error: 293283.9375 - val_loss: 1103624.1250 - val_mean_absolute_error: 1103624.1250\nEpoch 77/200\n5/5 [==============================] - 0s 74ms/step - loss: 513861.6562 - mean_absolute_error: 513861.6562 - val_loss: 1098455.6250 - val_mean_absolute_error: 1098455.6250\nEpoch 78/200\n5/5 [==============================] - 0s 87ms/step - loss: 572946.5625 - mean_absolute_error: 572946.5625 - val_loss: 757053.1875 - val_mean_absolute_error: 757053.1875\nEpoch 79/200\n5/5 [==============================] - 0s 87ms/step - loss: 539407.3125 - mean_absolute_error: 539407.3125 - val_loss: 802773.1875 - val_mean_absolute_error: 802773.1875\nEpoch 80/200\n5/5 [==============================] - 0s 93ms/step - loss: 524276.5000 - mean_absolute_error: 524276.5000 - val_loss: 760083.7500 - val_mean_absolute_error: 760083.7500\nEpoch 81/200\n5/5 [==============================] - 0s 77ms/step - loss: 486472.5938 - mean_absolute_error: 486472.5938 - val_loss: 342909.8750 - val_mean_absolute_error: 342909.8750\nEpoch 82/200\n5/5 [==============================] - 1s 101ms/step - loss: 332340.5625 - mean_absolute_error: 332340.5625 - val_loss: 480005.6562 - val_mean_absolute_error: 480005.6562\nEpoch 83/200\n5/5 [==============================] - 0s 99ms/step - loss: 345318.9062 - mean_absolute_error: 345318.9062 - val_loss: 356537.2500 - val_mean_absolute_error: 356537.2500\nEpoch 84/200\n5/5 [==============================] - 0s 77ms/step - loss: 376962.0938 - mean_absolute_error: 376962.0938 - val_loss: 329349.8750 - val_mean_absolute_error: 329349.8750\nEpoch 85/200\n5/5 [==============================] - 0s 85ms/step - loss: 210675.7656 - mean_absolute_error: 210675.7656 - val_loss: 300826.0312 - val_mean_absolute_error: 300826.0312\nEpoch 86/200\n5/5 [==============================] - 0s 80ms/step - loss: 273450.5625 - mean_absolute_error: 273450.5625 - val_loss: 585126.0000 - val_mean_absolute_error: 585126.0000\nEpoch 87/200\n5/5 [==============================] - 0s 95ms/step - loss: 356553.0000 - mean_absolute_error: 356553.0000 - val_loss: 314411.4062 - val_mean_absolute_error: 314411.4062\nEpoch 88/200\n5/5 [==============================] - 0s 94ms/step - loss: 236231.8906 - mean_absolute_error: 236231.8906 - val_loss: 458387.7812 - val_mean_absolute_error: 458387.7812\nEpoch 89/200\n5/5 [==============================] - 1s 108ms/step - loss: 268159.9375 - mean_absolute_error: 268159.9375 - val_loss: 266525.2812 - val_mean_absolute_error: 266525.2812\nEpoch 90/200\n5/5 [==============================] - 0s 82ms/step - loss: 312543.2812 - mean_absolute_error: 312543.2812 - val_loss: 496692.7188 - val_mean_absolute_error: 496692.7188\nEpoch 91/200\n5/5 [==============================] - 0s 91ms/step - loss: 268783.4375 - mean_absolute_error: 268783.4375 - val_loss: 427712.1562 - val_mean_absolute_error: 427712.1562\nEpoch 92/200\n5/5 [==============================] - 0s 77ms/step - loss: 270962.5625 - mean_absolute_error: 270962.5625 - val_loss: 433249.1250 - val_mean_absolute_error: 433249.1250\nEpoch 93/200\n5/5 [==============================] - 0s 80ms/step - loss: 344003.1250 - mean_absolute_error: 344003.1250 - val_loss: 1241037.3750 - val_mean_absolute_error: 1241037.3750\nEpoch 94/200\n5/5 [==============================] - 0s 75ms/step - loss: 656437.9375 - mean_absolute_error: 656437.9375 - val_loss: 821100.6875 - val_mean_absolute_error: 821100.6875\nEpoch 95/200\n5/5 [==============================] - 0s 85ms/step - loss: 740770.8750 - mean_absolute_error: 740770.8750 - val_loss: 1193643.8750 - val_mean_absolute_error: 1193643.8750\nEpoch 96/200\n5/5 [==============================] - 0s 88ms/step - loss: 659015.4375 - mean_absolute_error: 659015.4375 - val_loss: 1945110.3750 - val_mean_absolute_error: 1945110.3750\nEpoch 97/200\n5/5 [==============================] - 0s 77ms/step - loss: 798588.2500 - mean_absolute_error: 798588.2500 - val_loss: 1605587.3750 - val_mean_absolute_error: 1605587.3750\nEpoch 98/200\n5/5 [==============================] - 0s 82ms/step - loss: 1242223.2500 - mean_absolute_error: 1242223.2500 - val_loss: 2288814.2500 - val_mean_absolute_error: 2288814.2500\nEpoch 99/200\n5/5 [==============================] - 0s 77ms/step - loss: 997641.6250 - mean_absolute_error: 997641.6250 - val_loss: 443164.6562 - val_mean_absolute_error: 443164.6562\nEpoch 100/200\n5/5 [==============================] - 0s 83ms/step - loss: 542466.0625 - mean_absolute_error: 542466.0625 - val_loss: 1283517.3750 - val_mean_absolute_error: 1283517.3750\nEpoch 101/200\n5/5 [==============================] - 0s 73ms/step - loss: 901027.6250 - mean_absolute_error: 901027.6250 - val_loss: 766039.3125 - val_mean_absolute_error: 766039.3125\nEpoch 102/200\n5/5 [==============================] - 0s 87ms/step - loss: 530264.9375 - mean_absolute_error: 530264.9375 - val_loss: 778799.0000 - val_mean_absolute_error: 778799.0000\nEpoch 103/200\n5/5 [==============================] - 0s 79ms/step - loss: 632617.2500 - mean_absolute_error: 632617.2500 - val_loss: 432499.1250 - val_mean_absolute_error: 432499.1250\nEpoch 104/200\n5/5 [==============================] - 0s 86ms/step - loss: 480433.6562 - mean_absolute_error: 480433.6562 - val_loss: 541703.0000 - val_mean_absolute_error: 541703.0000\nEpoch 105/200\n5/5 [==============================] - 0s 94ms/step - loss: 1400069.8750 - mean_absolute_error: 1400069.8750 - val_loss: 300078.6562 - val_mean_absolute_error: 300078.6562\nEpoch 106/200\n5/5 [==============================] - 1s 115ms/step - loss: 817763.1875 - mean_absolute_error: 817763.1875 - val_loss: 2174937.7500 - val_mean_absolute_error: 2174937.7500\nEpoch 107/200\n5/5 [==============================] - 1s 111ms/step - loss: 1235235.2500 - mean_absolute_error: 1235235.2500 - val_loss: 857184.7500 - val_mean_absolute_error: 857184.7500\nEpoch 108/200\n5/5 [==============================] - 1s 126ms/step - loss: 654279.1875 - mean_absolute_error: 654279.1875 - val_loss: 526253.5625 - val_mean_absolute_error: 526253.5625\nEpoch 109/200\n5/5 [==============================] - 1s 100ms/step - loss: 774985.5000 - mean_absolute_error: 774985.5000 - val_loss: 1248294.6250 - val_mean_absolute_error: 1248294.6250\nEpoch 110/200\n5/5 [==============================] - 1s 117ms/step - loss: 947417.6250 - mean_absolute_error: 947417.6250 - val_loss: 593636.6875 - val_mean_absolute_error: 593636.6875\nEpoch 111/200\n5/5 [==============================] - 1s 106ms/step - loss: 684049.8750 - mean_absolute_error: 684049.8750 - val_loss: 463375.1250 - val_mean_absolute_error: 463375.1250\nEpoch 112/200\n5/5 [==============================] - 1s 105ms/step - loss: 892132.1875 - mean_absolute_error: 892132.1875 - val_loss: 1050848.3750 - val_mean_absolute_error: 1050848.3750\nEpoch 113/200\n5/5 [==============================] - 0s 85ms/step - loss: 1226462.2500 - mean_absolute_error: 1226462.2500 - val_loss: 2143446.2500 - val_mean_absolute_error: 2143446.2500\nEpoch 114/200\n5/5 [==============================] - 1s 106ms/step - loss: 877187.8125 - mean_absolute_error: 877187.8125 - val_loss: 956788.1875 - val_mean_absolute_error: 956788.1875\nEpoch 115/200\n5/5 [==============================] - 1s 106ms/step - loss: 1021799.2500 - mean_absolute_error: 1021799.2500 - val_loss: 1794004.5000 - val_mean_absolute_error: 1794004.5000\nEpoch 116/200\n5/5 [==============================] - 0s 89ms/step - loss: 1549408.8750 - mean_absolute_error: 1549408.8750 - val_loss: 929656.4375 - val_mean_absolute_error: 929656.4375\nEpoch 117/200\n5/5 [==============================] - 0s 83ms/step - loss: 809839.8750 - mean_absolute_error: 809839.8750 - val_loss: 1779126.6250 - val_mean_absolute_error: 1779126.6250\nEpoch 118/200\n5/5 [==============================] - 0s 68ms/step - loss: 919290.0625 - mean_absolute_error: 919290.0625 - val_loss: 980961.1875 - val_mean_absolute_error: 980961.1875\nEpoch 119/200\n5/5 [==============================] - 0s 69ms/step - loss: 817162.6875 - mean_absolute_error: 817162.6875 - val_loss: 1076170.1250 - val_mean_absolute_error: 1076170.1250\nEpoch 120/200\n5/5 [==============================] - 0s 93ms/step - loss: 748314.8125 - mean_absolute_error: 748314.8125 - val_loss: 898754.7500 - val_mean_absolute_error: 898754.6875\nEpoch 121/200\n5/5 [==============================] - 0s 92ms/step - loss: 813279.1250 - mean_absolute_error: 813279.1250 - val_loss: 1210644.2500 - val_mean_absolute_error: 1210644.2500\nEpoch 122/200\n5/5 [==============================] - 0s 93ms/step - loss: 520504.2812 - mean_absolute_error: 520504.2812 - val_loss: 1072872.3750 - val_mean_absolute_error: 1072872.3750\nEpoch 123/200\n5/5 [==============================] - 0s 96ms/step - loss: 665586.5000 - mean_absolute_error: 665586.5000 - val_loss: 581340.9375 - val_mean_absolute_error: 581340.9375\nEpoch 124/200\n5/5 [==============================] - 0s 83ms/step - loss: 504763.6250 - mean_absolute_error: 504763.6250 - val_loss: 1216016.5000 - val_mean_absolute_error: 1216016.5000\nEpoch 125/200\n5/5 [==============================] - 0s 89ms/step - loss: 718441.1875 - mean_absolute_error: 718441.1875 - val_loss: 626428.8750 - val_mean_absolute_error: 626428.8750\nEpoch 126/200\n5/5 [==============================] - 0s 97ms/step - loss: 476898.3438 - mean_absolute_error: 476898.3438 - val_loss: 630859.6250 - val_mean_absolute_error: 630859.6250\nEpoch 127/200\n5/5 [==============================] - 1s 110ms/step - loss: 511301.3750 - mean_absolute_error: 511301.3750 - val_loss: 603379.1250 - val_mean_absolute_error: 603379.1250\nEpoch 128/200\n5/5 [==============================] - 0s 91ms/step - loss: 405237.5312 - mean_absolute_error: 405237.5312 - val_loss: 609862.5625 - val_mean_absolute_error: 609862.5625\nEpoch 129/200\n5/5 [==============================] - 0s 97ms/step - loss: 707362.1250 - mean_absolute_error: 707362.1250 - val_loss: 592949.2500 - val_mean_absolute_error: 592949.2500\nEpoch 130/200\n5/5 [==============================] - 0s 90ms/step - loss: 618267.3750 - mean_absolute_error: 618267.3750 - val_loss: 870450.8750 - val_mean_absolute_error: 870450.8750\nEpoch 131/200\n5/5 [==============================] - 0s 91ms/step - loss: 604734.5000 - mean_absolute_error: 604734.5000 - val_loss: 471133.4688 - val_mean_absolute_error: 471133.4688\nEpoch 132/200\n5/5 [==============================] - 0s 94ms/step - loss: 436637.5625 - mean_absolute_error: 436637.5625 - val_loss: 673850.3750 - val_mean_absolute_error: 673850.3750\nEpoch 133/200\n5/5 [==============================] - 0s 82ms/step - loss: 499578.2500 - mean_absolute_error: 499578.2500 - val_loss: 735215.7500 - val_mean_absolute_error: 735215.7500\nEpoch 134/200\n5/5 [==============================] - 0s 78ms/step - loss: 514491.7188 - mean_absolute_error: 514491.7188 - val_loss: 470776.7188 - val_mean_absolute_error: 470776.7188\nEpoch 135/200\n5/5 [==============================] - 0s 96ms/step - loss: 283679.7188 - mean_absolute_error: 283679.7188 - val_loss: 616356.2500 - val_mean_absolute_error: 616356.2500\nEpoch 136/200\n5/5 [==============================] - 0s 82ms/step - loss: 351340.1250 - mean_absolute_error: 351340.1250 - val_loss: 407620.3125 - val_mean_absolute_error: 407620.3125\nEpoch 137/200\n5/5 [==============================] - 0s 77ms/step - loss: 285190.8438 - mean_absolute_error: 285190.8438 - val_loss: 224188.2969 - val_mean_absolute_error: 224188.2969\nEpoch 138/200\n5/5 [==============================] - 0s 80ms/step - loss: 243385.7031 - mean_absolute_error: 243385.7031 - val_loss: 380143.4062 - val_mean_absolute_error: 380143.4062\nEpoch 139/200\n5/5 [==============================] - 0s 90ms/step - loss: 627512.6875 - mean_absolute_error: 627512.6875 - val_loss: 699916.2500 - val_mean_absolute_error: 699916.2500\nEpoch 140/200\n5/5 [==============================] - 0s 87ms/step - loss: 930613.9375 - mean_absolute_error: 930613.8125 - val_loss: 844860.6875 - val_mean_absolute_error: 844860.6875\nEpoch 141/200\n5/5 [==============================] - 0s 84ms/step - loss: 700363.7500 - mean_absolute_error: 700363.7500 - val_loss: 491326.9688 - val_mean_absolute_error: 491326.9688\nEpoch 142/200\n5/5 [==============================] - 0s 77ms/step - loss: 735991.1875 - mean_absolute_error: 735991.1875 - val_loss: 226960.9531 - val_mean_absolute_error: 226960.9531\nEpoch 143/200\n5/5 [==============================] - 0s 87ms/step - loss: 360605.6875 - mean_absolute_error: 360605.6875 - val_loss: 478328.8750 - val_mean_absolute_error: 478328.8750\nEpoch 144/200\n5/5 [==============================] - 0s 99ms/step - loss: 592264.2500 - mean_absolute_error: 592264.2500 - val_loss: 539138.8125 - val_mean_absolute_error: 539138.8125\nEpoch 145/200\n5/5 [==============================] - 0s 88ms/step - loss: 414453.4688 - mean_absolute_error: 414453.4688 - val_loss: 2872577.5000 - val_mean_absolute_error: 2872577.5000\nEpoch 146/200\n5/5 [==============================] - 1s 104ms/step - loss: 1096234.5000 - mean_absolute_error: 1096234.5000 - val_loss: 2028299.0000 - val_mean_absolute_error: 2028299.0000\nEpoch 147/200\n5/5 [==============================] - 0s 90ms/step - loss: 918925.5000 - mean_absolute_error: 918925.5000 - val_loss: 2172991.0000 - val_mean_absolute_error: 2172991.0000\nEpoch 148/200\n5/5 [==============================] - 0s 92ms/step - loss: 795524.1875 - mean_absolute_error: 795524.1875 - val_loss: 730787.8750 - val_mean_absolute_error: 730787.8750\nEpoch 149/200\n5/5 [==============================] - 0s 83ms/step - loss: 1196804.0000 - mean_absolute_error: 1196804.0000 - val_loss: 3776379.5000 - val_mean_absolute_error: 3776379.5000\nEpoch 150/200\n5/5 [==============================] - 0s 88ms/step - loss: 2526018.7500 - mean_absolute_error: 2526018.7500 - val_loss: 5591567.5000 - val_mean_absolute_error: 5591567.5000\nEpoch 151/200\n5/5 [==============================] - 0s 99ms/step - loss: 2789932.7500 - mean_absolute_error: 2789932.7500 - val_loss: 3659060.0000 - val_mean_absolute_error: 3659060.0000\nEpoch 152/200\n5/5 [==============================] - 0s 87ms/step - loss: 2383457.0000 - mean_absolute_error: 2383457.0000 - val_loss: 9329300.0000 - val_mean_absolute_error: 9329300.0000\nEpoch 153/200\n5/5 [==============================] - 0s 81ms/step - loss: 4818282.0000 - mean_absolute_error: 4818282.0000 - val_loss: 2680300.5000 - val_mean_absolute_error: 2680300.5000\nEpoch 154/200\n5/5 [==============================] - 0s 94ms/step - loss: 2547065.5000 - mean_absolute_error: 2547065.5000 - val_loss: 6788969.5000 - val_mean_absolute_error: 6788969.5000\nEpoch 155/200\n5/5 [==============================] - 0s 82ms/step - loss: 3579649.2500 - mean_absolute_error: 3579649.2500 - val_loss: 3079464.5000 - val_mean_absolute_error: 3079464.5000\nEpoch 156/200\n5/5 [==============================] - 0s 78ms/step - loss: 1853160.3750 - mean_absolute_error: 1853160.3750 - val_loss: 2147954.5000 - val_mean_absolute_error: 2147954.5000\nEpoch 157/200\n5/5 [==============================] - 0s 77ms/step - loss: 983191.0000 - mean_absolute_error: 983191.0000 - val_loss: 553031.3125 - val_mean_absolute_error: 553031.3125\nEpoch 158/200\n5/5 [==============================] - 0s 91ms/step - loss: 425633.9688 - mean_absolute_error: 425633.9688 - val_loss: 301196.0938 - val_mean_absolute_error: 301196.0938\nEpoch 159/200\n5/5 [==============================] - 0s 80ms/step - loss: 270030.9688 - mean_absolute_error: 270030.9688 - val_loss: 188247.6406 - val_mean_absolute_error: 188247.6406\nEpoch 160/200\n5/5 [==============================] - 0s 84ms/step - loss: 264633.0000 - mean_absolute_error: 264633.0000 - val_loss: 361041.1562 - val_mean_absolute_error: 361041.1562\nEpoch 161/200\n5/5 [==============================] - 1s 113ms/step - loss: 209616.1562 - mean_absolute_error: 209616.1562 - val_loss: 347559.5938 - val_mean_absolute_error: 347559.5938\nEpoch 162/200\n5/5 [==============================] - 1s 104ms/step - loss: 167610.3438 - mean_absolute_error: 167610.3438 - val_loss: 127943.7656 - val_mean_absolute_error: 127943.7656\nEpoch 163/200\n5/5 [==============================] - 1s 110ms/step - loss: 75089.7422 - mean_absolute_error: 75089.7422 - val_loss: 38733.0977 - val_mean_absolute_error: 38733.0977\nEpoch 164/200\n5/5 [==============================] - 1s 121ms/step - loss: 42432.3906 - mean_absolute_error: 42432.3906 - val_loss: 23209.4180 - val_mean_absolute_error: 23209.4180\nEpoch 165/200\n5/5 [==============================] - 0s 93ms/step - loss: 24357.2695 - mean_absolute_error: 24357.2695 - val_loss: 40592.7070 - val_mean_absolute_error: 40592.7070\nEpoch 166/200\n5/5 [==============================] - 1s 115ms/step - loss: 32185.0137 - mean_absolute_error: 32185.0137 - val_loss: 11209.6270 - val_mean_absolute_error: 11209.6270\nEpoch 167/200\n5/5 [==============================] - 1s 178ms/step - loss: 23460.7090 - mean_absolute_error: 23460.7090 - val_loss: 12390.7266 - val_mean_absolute_error: 12390.7266\nEpoch 168/200\n5/5 [==============================] - 1s 101ms/step - loss: 22705.1973 - mean_absolute_error: 22705.1973 - val_loss: 21864.2207 - val_mean_absolute_error: 21864.2207\nEpoch 169/200\n5/5 [==============================] - 0s 87ms/step - loss: 17083.6367 - mean_absolute_error: 17083.6367 - val_loss: 17753.4824 - val_mean_absolute_error: 17753.4805\nEpoch 170/200\n5/5 [==============================] - 0s 77ms/step - loss: 19839.3242 - mean_absolute_error: 19839.3242 - val_loss: 25539.3027 - val_mean_absolute_error: 25539.3027\nEpoch 171/200\n5/5 [==============================] - 0s 78ms/step - loss: 21805.0156 - mean_absolute_error: 21805.0156 - val_loss: 20362.6035 - val_mean_absolute_error: 20362.6035\nEpoch 172/200\n5/5 [==============================] - 0s 87ms/step - loss: 18051.5898 - mean_absolute_error: 18051.5898 - val_loss: 30105.3809 - val_mean_absolute_error: 30105.3809\nEpoch 173/200\n5/5 [==============================] - 0s 84ms/step - loss: 27558.2559 - mean_absolute_error: 27558.2559 - val_loss: 8148.3237 - val_mean_absolute_error: 8148.3237\nEpoch 174/200\n5/5 [==============================] - 0s 91ms/step - loss: 14608.7227 - mean_absolute_error: 14608.7227 - val_loss: 12235.9883 - val_mean_absolute_error: 12235.9883\nEpoch 175/200\n5/5 [==============================] - 0s 83ms/step - loss: 8836.9990 - mean_absolute_error: 8836.9990 - val_loss: 7308.9136 - val_mean_absolute_error: 7308.9136\nEpoch 176/200\n5/5 [==============================] - 0s 89ms/step - loss: 6952.0254 - mean_absolute_error: 6952.0254 - val_loss: 16649.7734 - val_mean_absolute_error: 16649.7734\nEpoch 177/200\n5/5 [==============================] - 0s 79ms/step - loss: 15884.5459 - mean_absolute_error: 15884.5459 - val_loss: 24606.4297 - val_mean_absolute_error: 24606.4297\nEpoch 178/200\n5/5 [==============================] - 0s 80ms/step - loss: 16644.9141 - mean_absolute_error: 16644.9141 - val_loss: 8831.8535 - val_mean_absolute_error: 8831.8535\nEpoch 179/200\n5/5 [==============================] - 0s 87ms/step - loss: 19480.2793 - mean_absolute_error: 19480.2793 - val_loss: 21217.3242 - val_mean_absolute_error: 21217.3242\nEpoch 180/200\n5/5 [==============================] - 0s 98ms/step - loss: 22310.1328 - mean_absolute_error: 22310.1328 - val_loss: 26512.2500 - val_mean_absolute_error: 26512.2500\nEpoch 181/200\n5/5 [==============================] - 1s 108ms/step - loss: 13146.9141 - mean_absolute_error: 13146.9141 - val_loss: 21890.7773 - val_mean_absolute_error: 21890.7773\nEpoch 182/200\n5/5 [==============================] - 0s 90ms/step - loss: 10101.0557 - mean_absolute_error: 10101.0557 - val_loss: 8920.1367 - val_mean_absolute_error: 8920.1367\nEpoch 183/200\n5/5 [==============================] - 0s 99ms/step - loss: 10330.6426 - mean_absolute_error: 10330.6426 - val_loss: 16578.1172 - val_mean_absolute_error: 16578.1172\nEpoch 184/200\n5/5 [==============================] - 1s 106ms/step - loss: 19162.1191 - mean_absolute_error: 19162.1191 - val_loss: 8950.8711 - val_mean_absolute_error: 8950.8711\nEpoch 185/200\n5/5 [==============================] - 0s 86ms/step - loss: 6662.6426 - mean_absolute_error: 6662.6426 - val_loss: 9162.2891 - val_mean_absolute_error: 9162.2891\nEpoch 186/200\n5/5 [==============================] - 0s 86ms/step - loss: 14947.7910 - mean_absolute_error: 14947.7910 - val_loss: 7067.0000 - val_mean_absolute_error: 7067.0000\nEpoch 187/200\n5/5 [==============================] - 0s 87ms/step - loss: 14981.0176 - mean_absolute_error: 14981.0176 - val_loss: 20452.8633 - val_mean_absolute_error: 20452.8633\nEpoch 188/200\n5/5 [==============================] - 0s 95ms/step - loss: 19203.7285 - mean_absolute_error: 19203.7285 - val_loss: 6266.2217 - val_mean_absolute_error: 6266.2217\nEpoch 189/200\n5/5 [==============================] - 0s 81ms/step - loss: 15104.3184 - mean_absolute_error: 15104.3184 - val_loss: 17818.3379 - val_mean_absolute_error: 17818.3379\nEpoch 190/200\n5/5 [==============================] - ETA: 0s - loss: 13102.0840 - mean_absolute_error: 13102.0845/5 [==============================] - 0s 87ms/step - loss: 13102.0840 - mean_absolute_error: 13102.0840 - val_loss: 12533.5400 - val_mean_absolute_error: 12533.5400\nEpoch 191/200\n5/5 [==============================] - 0s 84ms/step - loss: 14593.7520 - mean_absolute_error: 14593.7520 - val_loss: 15983.4297 - val_mean_absolute_error: 15983.4297\nEpoch 192/200\n5/5 [==============================] - 0s 85ms/step - loss: 7452.1797 - mean_absolute_error: 7452.1797 - val_loss: 8502.4658 - val_mean_absolute_error: 8502.4658\nEpoch 193/200\n5/5 [==============================] - 0s 87ms/step - loss: 10886.5254 - mean_absolute_error: 10886.5254 - val_loss: 11267.6953 - val_mean_absolute_error: 11267.6953\nEpoch 194/200\n5/5 [==============================] - 0s 84ms/step - loss: 6026.7231 - mean_absolute_error: 6026.7231 - val_loss: 5414.8438 - val_mean_absolute_error: 5414.8438\nEpoch 195/200\n5/5 [==============================] - 0s 89ms/step - loss: 5567.1187 - mean_absolute_error: 5567.1187 - val_loss: 3781.1152 - val_mean_absolute_error: 3781.1152\nEpoch 196/200\n5/5 [==============================] - 0s 86ms/step - loss: 6646.4243 - mean_absolute_error: 6646.4243 - val_loss: 3612.0527 - val_mean_absolute_error: 3612.0527\nEpoch 197/200\n5/5 [==============================] - 0s 83ms/step - loss: 2990.7927 - mean_absolute_error: 2990.7927 - val_loss: 8069.4248 - val_mean_absolute_error: 8069.4248\nEpoch 198/200\n5/5 [==============================] - 1s 109ms/step - loss: 4688.1758 - mean_absolute_error: 4688.1758 - val_loss: 4433.4980 - val_mean_absolute_error: 4433.4980\nEpoch 199/200\n5/5 [==============================] - 1s 111ms/step - loss: 7308.4385 - mean_absolute_error: 7308.4385 - val_loss: 3928.4978 - val_mean_absolute_error: 3928.4978\nEpoch 200/200\n5/5 [==============================] - 1s 117ms/step - loss: 13323.4004 - mean_absolute_error: 13323.4004 - val_loss: 4708.1675 - val_mean_absolute_error: 4708.1675\n"
    }
   ],
   "source": [
    "# ce.get_embeddings trains NN, extracts embeddings and return a dictionary containing the embeddings\n",
    "# did some fiddling around with the package: needed to change metric to MAE, and add 2 layers\n",
    "# changed initializer to glorot instead of normal\n",
    "embeddings = ce.get_embeddings(X_encoded,train_y, categorical_embedding_info=embedding_info, \n",
    "                            is_classification=False, epochs=200,batch_size=256)"
   ]
  },
  {
   "cell_type": "code",
   "execution_count": 7,
   "metadata": {
    "tags": []
   },
   "outputs": [
    {
     "output_type": "stream",
     "name": "stdout",
     "text": "test 0.1158836, train 0.0971501\n"
    },
    {
     "output_type": "execute_result",
     "data": {
      "text/plain": "Pipeline(memory=None,\n         steps=[('preprocess',\n                 Pipeline(memory=Memory(location=C:\\Users\\Jesse\\AppData\\Local\\Temp\\tmpc_j4nbrz\\joblib),\n                          steps=[('col_trans',\n                                  DFColumnTransformer(n_jobs=None,\n                                                      remainder='drop',\n                                                      sparse_threshold=0.3,\n                                                      transformer_weights=None,\n                                                      transformers=[('numeric',\n                                                                     Pipeline(memory=None,\n                                                                              steps=[('impute_num',\n                                                                                      DFSimpleImputer(add_indicator=False, copy...\n                                                                              verbose=False),\n                                                                     <sklearn.compose._column_transformer.make_column_selector object at 0x00000186D3D6EBA8>)],\n                                                      verbose=False))],\n                          verbose=False)),\n                ('model',\n                 Lasso(alpha=0.0005304432735934807, copy_X=True,\n                       fit_intercept=True, max_iter=1000, normalize=False,\n                       positive=False, precompute=False, random_state=None,\n                       selection='cyclic', tol=0.0001, warm_start=False))],\n         verbose=False)"
     },
     "metadata": {},
     "execution_count": 7
    }
   ],
   "source": [
    "# reference\n",
    "test_model(Lasso(alpha=0.0005304432735934807))"
   ]
  },
  {
   "cell_type": "code",
   "execution_count": 8,
   "metadata": {
    "tags": []
   },
   "outputs": [
    {
     "output_type": "display_data",
     "data": {
      "text/plain": "HBox(children=(FloatProgress(value=0.0, max=23.0), HTML(value='')))",
      "application/vnd.jupyter.widget-view+json": {
       "version_major": 2,
       "version_minor": 0,
       "model_id": "c1ecc2b5e0ba4e9ea0334f1f7491984f"
      }
     },
     "metadata": {}
    },
    {
     "output_type": "stream",
     "name": "stdout",
     "text": "\ntest 0.1182161, train 0.0966422\n"
    },
    {
     "output_type": "execute_result",
     "data": {
      "text/plain": "Pipeline(memory=None,\n         steps=[('preprocess',\n                 Pipeline(memory=Memory(location=C:\\Users\\Jesse\\AppData\\Local\\Temp\\tmpc_j4nbrz\\joblib),\n                          steps=[('col_trans',\n                                  DFColumnTransformer(n_jobs=None,\n                                                      remainder='drop',\n                                                      sparse_threshold=0.3,\n                                                      transformer_weights=None,\n                                                      transformers=[('numeric',\n                                                                     Pipeline(memory=None,\n                                                                              steps=[('impute_num',\n                                                                                      DFSimpleImputer(add_indicator=False, copy...\n                                                                              verbose=False),\n                                                                     <sklearn.compose._column_transformer.make_column_selector object at 0x00000186CE167390>)],\n                                                      verbose=False))],\n                          verbose=False)),\n                ('model',\n                 Lasso(alpha=0.0005304432735934807, copy_X=True,\n                       fit_intercept=True, max_iter=1000, normalize=False,\n                       positive=False, precompute=False, random_state=None,\n                       selection='cyclic', tol=0.0001, warm_start=False))],\n         verbose=False)"
     },
     "metadata": {},
     "execution_count": 8
    }
   ],
   "source": [
    "# now test with embeddings for categorical values instead of onehot\n",
    "data = ce.fit_transform(train_x, embeddings=embeddings, encoders=encoders, drop_categorical_vars=True)\n",
    "test_model(Lasso(alpha=0.0005304432735934807),train_x=data)"
   ]
  },
  {
   "cell_type": "code",
   "execution_count": null,
   "metadata": {},
   "outputs": [],
   "source": []
  }
 ]
}