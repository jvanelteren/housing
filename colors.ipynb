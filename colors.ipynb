{
 "cells": [
  {
   "cell_type": "code",
   "execution_count": 47,
   "metadata": {},
   "outputs": [],
   "source": [
    "from pathlib import Path\n",
    "from PIL import Imagefrom PIL import Image\n",
    "path = Path(r'C:\\Users\\Jesse\\Documents\\GitHub\\IMG_0779.jpg')\n",
    "im = Image.open(path)\n",
    "arr = np.array(im)"
   ]
  },
  {
   "cell_type": "code",
   "execution_count": 40,
   "metadata": {},
   "outputs": [],
   "source": []
  },
  {
   "cell_type": "code",
   "execution_count": 48,
   "metadata": {},
   "outputs": [],
   "source": [
    "import numpy as np\n",
    "imgs = [np.array(Image.open(p)) for p in [path,path1,path2,path3,path4,path5,path6]]"
   ]
  },
  {
   "cell_type": "code",
   "execution_count": 14,
   "metadata": {},
   "outputs": [
    {
     "output_type": "execute_result",
     "data": {
      "text/plain": "(3024, 4032, 3)"
     },
     "metadata": {},
     "execution_count": 14
    }
   ],
   "source": [
    "arr = np.array(im)\n",
    "arr.shape"
   ]
  },
  {
   "cell_type": "code",
   "execution_count": 23,
   "metadata": {},
   "outputs": [
    {
     "output_type": "execute_result",
     "data": {
      "text/plain": "(3024, 3)"
     },
     "metadata": {},
     "execution_count": 23
    }
   ],
   "source": [
    "np.mean(arr,axis=1).shape"
   ]
  },
  {
   "cell_type": "code",
   "execution_count": 49,
   "metadata": {
    "tags": []
   },
   "outputs": [
    {
     "output_type": "stream",
     "name": "stdout",
     "text": "0\nbright 109.87075737573836\n90.96488434783636\n88.71627353198224\n149.9311142473965\n1\nbright 78.15013063481565\n139.67158892878138\n70.10371320113694\n24.67508977452864\n2\nbright 84.30490979024069\n94.81051415068342\n87.70911346791803\n70.3951017521206\n3\nbright 165.84033089669768\n178.93598631582262\n167.21864985867032\n151.36635651560007\n4\nbright 107.07389735729683\n242.23388749790038\n22.92927405819581\n56.05853051579428\n5\nbright 249.60272392618313\n253.45505286412404\n250.12324125251953\n245.22987766190582\n6\nbright 8.427899746253955\n24.269624501999875\n0.44547841802616106\n0.5685963187358276\n"
    }
   ],
   "source": [
    "for num, img in enumerate(imgs):\n",
    "    print(num)\n",
    "    print('bright',np.mean(img))\n",
    "    for i in range(img.shape[-1]):\n",
    "\n",
    "        print(np.mean(img[:,:,i]))"
   ]
  },
  {
   "cell_type": "code",
   "execution_count": 34,
   "metadata": {},
   "outputs": [
    {
     "output_type": "execute_result",
     "data": {
      "text/plain": "43.798500881834215"
     },
     "metadata": {},
     "execution_count": 34
    }
   ],
   "source": [
    "np.mean(imgs[0][:,2])"
   ]
  },
  {
   "cell_type": "code",
   "execution_count": 37,
   "metadata": {},
   "outputs": [
    {
     "output_type": "execute_result",
     "data": {
      "text/plain": "(3024, 4032, 3)"
     },
     "metadata": {},
     "execution_count": 37
    }
   ],
   "source": [
    "imgs[0][:].shape"
   ]
  },
  {
   "cell_type": "code",
   "execution_count": null,
   "metadata": {},
   "outputs": [],
   "source": []
  }
 ],
 "metadata": {
  "language_info": {
   "codemirror_mode": {
    "name": "ipython",
    "version": 3
   },
   "file_extension": ".py",
   "mimetype": "text/x-python",
   "name": "python",
   "nbconvert_exporter": "python",
   "pygments_lexer": "ipython3",
   "version": "3.7.3-final"
  },
  "orig_nbformat": 2,
  "kernelspec": {
   "name": "python37364bitprogramdatavirtualenv99403c2e8abd4ba0909557516bfee9d9",
   "display_name": "Python 3.7.3 64-bit ('ProgramData': virtualenv)"
  }
 },
 "nbformat": 4,
 "nbformat_minor": 2
}