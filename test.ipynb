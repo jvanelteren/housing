{
 "cells": [
  {
   "cell_type": "code",
   "execution_count": 1,
   "metadata": {
    "Collapsed": "false"
   },
   "outputs": [],
   "source": [
    "from fastai2.tabular.all import *"
   ]
  },
  {
   "cell_type": "code",
   "execution_count": 2,
   "metadata": {
    "Collapsed": "false"
   },
   "outputs": [],
   "source": [
    "f = open(\"output/engineered_datasets.pickle\",\"rb\")\n",
    "train_x, train_y, final_test, num_x, cat_x, cat_x_ind = pickle.load(f)\n",
    "train_x['SalePrice'] = train_y"
   ]
  },
  {
   "cell_type": "code",
   "execution_count": 3,
   "metadata": {
    "Collapsed": "false"
   },
   "outputs": [],
   "source": [
    "dls = TabularDataLoaders.from_df(train_x, path='bla', y_names=\"SalePrice\",\n",
    "    cat_names = cat_x,\n",
    "    cont_names = num_x,\n",
    "    procs = [Categorify, FillMissing, Normalize])"
   ]
  },
  {
   "cell_type": "code",
   "execution_count": 4,
   "metadata": {
    "Collapsed": "false"
   },
   "outputs": [
    {
     "data": {
      "text/html": "<table border=\"1\" class=\"dataframe\">\n  <thead>\n    <tr style=\"text-align: left;\">\n      <th>epoch</th>\n      <th>train_loss</th>\n      <th>valid_loss</th>\n      <th>_rmse</th>\n      <th>time</th>\n    </tr>\n  </thead>\n  <tbody>\n    <tr>\n      <td>0</td>\n      <td>138.684082</td>\n      <td>128.327133</td>\n      <td>11.328156</td>\n      <td>00:02</td>\n    </tr>\n    <tr>\n      <td>1</td>\n      <td>103.545525</td>\n      <td>72.257744</td>\n      <td>8.500455</td>\n      <td>00:01</td>\n    </tr>\n    <tr>\n      <td>2</td>\n      <td>74.207130</td>\n      <td>59.734009</td>\n      <td>7.728777</td>\n      <td>00:01</td>\n    </tr>\n  </tbody>\n</table>",
      "text/plain": "<IPython.core.display.HTML object>"
     },
     "metadata": {},
     "output_type": "display_data"
    }
   ],
   "source": [
    "learn = tabular_learner(dls, loss_func=MSELossFlat(), \n",
    "                        metrics=rmse)\n",
    "learn.fit_one_cycle(3)"
   ]
  },
  {
   "cell_type": "code",
   "execution_count": 5,
   "metadata": {
    "Collapsed": "false"
   },
   "outputs": [],
   "source": [
    "# final_test.drop(columns=['Id','Utilities'], inplace=True)\n",
    "final_test['BsmtFinSF1'] = final_test['BsmtFinSF1'].fillna(0)\n",
    "final_test['BsmtFinSF2'] = final_test['BsmtFinSF2'].fillna(0)\n",
    "final_test['BsmtUnfSF'] = final_test['BsmtUnfSF'].fillna(0)\n",
    "final_test['TotalBsmtSF'] = final_test['TotalBsmtSF'].fillna(0)\n",
    "final_test['BsmtFullBath'] = final_test['BsmtFullBath'].fillna(0)\n",
    "final_test['KitchenQual'] = final_test['KitchenQual'].fillna(train_x['KitchenQual'].mean())\n",
    "final_test['Functional'] = final_test['Functional'].fillna(train_x['Functional'].mean())\n",
    "final_test['GarageCars'] = final_test['GarageCars'].fillna(0)\n",
    "final_test['GarageArea'] = final_test['GarageArea'].fillna(0)\n",
    "final_test['SimplFunctional'] = final_test['SimplFunctional'].fillna(0)\n",
    "final_test['SimplKitchenQual'] = final_test['SimplKitchenQual'].fillna(0)\n",
    "final_test['KitchenScore'] = final_test['KitchenScore'].fillna(0)\n",
    "final_test['SimplFunctional'] = final_test['SimplFunctional'].fillna(train_x['SimplFunctional'].mean())\n",
    "final_test['SimplKitchenScore'] = final_test['SimplKitchenScore'].fillna(train_x['SimplKitchenScore'].mean())\n",
    "final_test['TotalBath'] = final_test['TotalBath'].fillna(1)\n",
    "final_test['AllSF'] = final_test['AllSF'].fillna(train_x['AllSF'].mean())\n",
    "final_test['AllSF_2'] = final_test['AllSF_2'].fillna(train_x['AllSF_2'].mean())\n",
    "final_test['AllSF_3'] = final_test['AllSF_3'].fillna(train_x['AllSF_3'].mean())\n",
    "final_test['AllSF_sq'] = final_test['AllSF_sq'].fillna(train_x['AllSF_sq'].mean())\n",
    "final_test['GarageCars_2'] = final_test['GarageCars_2'].fillna(train_x['GarageCars_2'].mean())\n",
    "final_test['GarageCars_3'] = final_test['GarageCars_3'].fillna(train_x['GarageCars_3'].mean())\n",
    "final_test['GarageCars_sq'] = final_test['GarageCars_sq'].fillna(train_x['GarageCars_sq'].mean())\n",
    "final_test['TotalBath_2'] = final_test['TotalBath_2'].fillna(train_x['TotalBath_2'].mean())\n",
    "final_test['TotalBath_3'] = final_test['TotalBath_3'].fillna(train_x['TotalBath_3'].mean())\n",
    "final_test['TotalBath_sq'] = final_test['TotalBath_sq'].fillna(train_x['TotalBath_sq'].mean())\n",
    "final_test['TotalBath_sq'] = final_test['TotalBath_sq'].fillna(train_x['TotalBath_sq'].mean())\n",
    "final_test['KitchenQual_2'] = final_test['KitchenQual_2'].fillna(train_x['KitchenQual_2'].mean())\n",
    "final_test['KitchenQual_3'] = final_test['KitchenQual_3'].fillna(train_x['KitchenQual_3'].mean())\n",
    "final_test['KitchenQual_sq'] = final_test['KitchenQual_sq'].fillna(train_x['KitchenQual_sq'].mean())\n",
    "final_test['BsmtFinSF1_log'] = final_test['BsmtFinSF1_log'].fillna(train_x['BsmtFinSF1_log'].mean())\n",
    "final_test['BsmtFinSF2_log'] = final_test['BsmtFinSF2_log'].fillna(train_x['BsmtFinSF2_log'].mean())\n",
    "final_test['BsmtUnfSF_log'] = final_test['BsmtUnfSF_log'].fillna(train_x['BsmtUnfSF_log'].mean())\n",
    "final_test['TotalBsmtSF_log'] = final_test['TotalBsmtSF_log'].fillna(train_x['TotalBsmtSF_log'].mean())\n",
    "final_test['BsmtFullBath_log'] = final_test['BsmtFullBath_log'].fillna(train_x['BsmtFullBath_log'].mean())\n",
    "final_test['TotalBsmtSF_log'] = final_test['TotalBsmtSF_log'].fillna(train_x['TotalBsmtSF_log'].mean())\n",
    "final_test['BsmtHalfBath_log'] = final_test['BsmtHalfBath_log'].fillna(train_x['BsmtHalfBath_log'].mean())\n",
    "final_test['GarageCars_log'] = final_test['GarageCars_log'].fillna(train_x['GarageCars_log'].mean())\n",
    "final_test['GarageArea_log'] = final_test['GarageArea_log'].fillna(train_x['GarageArea_log'].mean())\n",
    "final_test['AllSF_log'] = final_test['AllSF_log'].fillna(train_x['AllSF_log'].mean())\n",
    "final_test['BsmtHalfBath'] = final_test['BsmtHalfBath'].fillna(train_x['BsmtHalfBath'].mean())"
   ]
  },
  {
   "cell_type": "code",
   "execution_count": 7,
   "metadata": {},
   "outputs": [
    {
     "data": {
      "text/html": "",
      "text/plain": "<IPython.core.display.HTML object>"
     },
     "metadata": {},
     "output_type": "display_data"
    }
   ],
   "source": [
    "# final_test['MiscFeature']=np.nan\n",
    "dl = learn.dls.test_dl(final_test)\n",
    "res= learn.get_preds(dl=dl)"
   ]
  },
  {
   "cell_type": "code",
   "execution_count": 39,
   "metadata": {
    "Collapsed": "false"
   },
   "outputs": [
    {
     "output_type": "execute_result",
     "data": {
      "text/plain": "'Shed'"
     },
     "metadata": {},
     "execution_count": 39
    }
   ],
   "source": [
    "test.loc[6,'MiscFeature']"
   ]
  },
  {
   "cell_type": "code",
   "execution_count": 47,
   "metadata": {
    "Collapsed": "false"
   },
   "outputs": [
    {
     "output_type": "execute_result",
     "data": {
      "text/plain": "NaN     1373\nShed      40\nOthr       1\nName: MiscFeature, dtype: int64"
     },
     "metadata": {},
     "execution_count": 47
    }
   ],
   "source": [
    "df['MiscFeature'].value_counts(dropna=False)"
   ]
  },
  {
   "cell_type": "code",
   "execution_count": 49,
   "metadata": {},
   "outputs": [
    {
     "data": {
      "text/html": "",
      "text/plain": "<IPython.core.display.HTML object>"
     },
     "metadata": {},
     "output_type": "display_data"
    }
   ],
   "source": [
    "test['MiscFeature']=np.nan\n",
    "dl = learn.dls.test_dl(test)\n",
    "res= learn.get_preds(dl=dl)"
   ]
  },
  {
   "cell_type": "code",
   "execution_count": 44,
   "metadata": {
    "Collapsed": "false"
   },
   "outputs": [
    {
     "output_type": "execute_result",
     "data": {
      "text/plain": "(tensor([[0.9217]]), None)"
     },
     "metadata": {},
     "execution_count": 44
    }
   ],
   "source": [
    "res"
   ]
  },
  {
   "cell_type": "code",
   "execution_count": 4,
   "metadata": {},
   "outputs": [
    {
     "output_type": "execute_result",
     "data": {
      "text/plain": "['MSZoning',\n 'LandContour',\n 'LotConfig',\n 'Neighborhood',\n 'Condition1',\n 'Condition2',\n 'BldgType',\n 'HouseStyle',\n 'RoofStyle',\n 'RoofMatl',\n 'Exterior1st',\n 'Exterior2nd',\n 'MasVnrType',\n 'Foundation',\n 'Heating',\n 'CentralAir',\n 'Electrical',\n 'GarageType',\n 'GarageFinish',\n 'Fence',\n 'MiscFeature',\n 'SaleType',\n 'SaleCondition']"
     },
     "metadata": {},
     "execution_count": 4
    }
   ],
   "source": [
    "cat_x"
   ]
  },
  {
   "cell_type": "code",
   "execution_count": null,
   "metadata": {},
   "outputs": [],
   "source": []
  }
 ],
 "metadata": {
  "kernelspec": {
   "display_name": "Python 3.7.3 64-bit ('ProgramData': virtualenv)",
   "language": "python",
   "name": "python37364bitprogramdatavirtualenv99403c2e8abd4ba0909557516bfee9d9"
  },
  "language_info": {
   "codemirror_mode": {
    "name": "ipython",
    "version": 3
   },
   "file_extension": ".py",
   "mimetype": "text/x-python",
   "name": "python",
   "nbconvert_exporter": "python",
   "pygments_lexer": "ipython3",
   "version": "3.7.3-final"
  }
 },
 "nbformat": 4,
 "nbformat_minor": 4
}