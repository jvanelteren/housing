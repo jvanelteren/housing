{
 "metadata": {
  "language_info": {
   "codemirror_mode": {
    "name": "ipython",
    "version": 3
   },
   "file_extension": ".py",
   "mimetype": "text/x-python",
   "name": "python",
   "nbconvert_exporter": "python",
   "pygments_lexer": "ipython3",
   "version": "3.7.3-final"
  },
  "orig_nbformat": 2,
  "kernelspec": {
   "name": "python37364bitprogramdatavirtualenv99403c2e8abd4ba0909557516bfee9d9",
   "display_name": "Python 3.7.3 64-bit ('ProgramData': virtualenv)"
  }
 },
 "nbformat": 4,
 "nbformat_minor": 2,
 "cells": [
  {
   "cell_type": "code",
   "execution_count": 1,
   "metadata": {},
   "outputs": [],
   "source": [
    "import pandas as pd\n",
    "import numpy as np\n",
    "import pickle\n",
    "import altair as alt\n",
    "from aoc import timeit\n",
    "%load_ext autoreload\n",
    "%autoreload 2\n",
    "\n",
    "def load(filename):\n",
    "    f = open(filename,\"rb\")\n",
    "    return pickle.load(f)\n",
    "    \n",
    "def save(model, filename='bestmodel.pickle'):\n",
    "    with open('output/'+filename, 'wb') as handle:\n",
    "        pickle.dump(model, handle, protocol=pickle.HIGHEST_PROTOCOL)\n",
    "\n",
    "def save_feature_selection(cols, filename='feat_selection.pickle'):\n",
    "    with open('output/'+filename, 'wb') as handle:\n",
    "        pickle.dump(cols, handle, protocol=pickle.HIGHEST_PROTOCOL)\n",
    "\n",
    "def submit(model):\n",
    "    pred = model.predict(final_test)\n",
    "    final_test['SalePrice'] = np.exp(pred)\n",
    "    final_test[['Id','SalePrice']].to_csv('output/submission.csv', index=False)"
   ]
  },
  {
   "cell_type": "code",
   "execution_count": 2,
   "metadata": {},
   "outputs": [],
   "source": [
    "f = open(\"output/engineered_datasets.pickle\",\"rb\")\n",
    "train_x, train_y, final_test, num_x, cat_x, cat_x_ind = pickle.load(f)\n",
    "f = open(\"output/feat_selection.pickle\",\"rb\")\n",
    "cols = pickle.load(f)"
   ]
  },
  {
   "cell_type": "code",
   "execution_count": 47,
   "metadata": {
    "tags": []
   },
   "outputs": [
    {
     "output_type": "stream",
     "name": "stdout",
     "text": "Epoch 1/100\n5/5 [==============================] - 2s 336ms/step - loss: nan - r2: nan - val_loss: nan - val_r2: nan\nEpoch 2/100\n5/5 [==============================] - 0s 80ms/step - loss: nan - r2: nan - val_loss: nan - val_r2: nan\nEpoch 3/100\n5/5 [==============================] - 0s 86ms/step - loss: nan - r2: nan - val_loss: nan - val_r2: nan\nEpoch 4/100\n5/5 [==============================] - 0s 82ms/step - loss: nan - r2: nan - val_loss: nan - val_r2: nan\nEpoch 5/100\n5/5 [==============================] - 0s 63ms/step - loss: nan - r2: nan - val_loss: nan - val_r2: nan\nEpoch 6/100\n5/5 [==============================] - 0s 68ms/step - loss: nan - r2: nan - val_loss: nan - val_r2: nan\nEpoch 7/100\n5/5 [==============================] - 0s 61ms/step - loss: nan - r2: nan - val_loss: nan - val_r2: nan\nEpoch 8/100\n5/5 [==============================] - 0s 57ms/step - loss: nan - r2: nan - val_loss: nan - val_r2: nan\nEpoch 9/100\n5/5 [==============================] - 0s 72ms/step - loss: nan - r2: nan - val_loss: nan - val_r2: nan\nEpoch 10/100\n5/5 [==============================] - 0s 55ms/step - loss: nan - r2: nan - val_loss: nan - val_r2: nan\nEpoch 11/100\n5/5 [==============================] - 0s 50ms/step - loss: nan - r2: nan - val_loss: nan - val_r2: nan\nEpoch 12/100\n5/5 [==============================] - 0s 52ms/step - loss: nan - r2: nan - val_loss: nan - val_r2: nan\nEpoch 13/100\n5/5 [==============================] - 0s 50ms/step - loss: nan - r2: nan - val_loss: nan - val_r2: nan\nEpoch 14/100\n5/5 [==============================] - 0s 47ms/step - loss: nan - r2: nan - val_loss: nan - val_r2: nan\nEpoch 15/100\n5/5 [==============================] - 0s 43ms/step - loss: nan - r2: nan - val_loss: nan - val_r2: nan\nEpoch 16/100\n5/5 [==============================] - 0s 54ms/step - loss: nan - r2: nan - val_loss: nan - val_r2: nan\nEpoch 17/100\n5/5 [==============================] - 0s 41ms/step - loss: nan - r2: nan - val_loss: nan - val_r2: nan\nEpoch 18/100\n5/5 [==============================] - 0s 42ms/step - loss: nan - r2: nan - val_loss: nan - val_r2: nan\nEpoch 19/100\n5/5 [==============================] - 0s 45ms/step - loss: nan - r2: nan - val_loss: nan - val_r2: nan\nEpoch 20/100\n5/5 [==============================] - 0s 61ms/step - loss: nan - r2: nan - val_loss: nan - val_r2: nan\nEpoch 21/100\n5/5 [==============================] - 0s 47ms/step - loss: nan - r2: nan - val_loss: nan - val_r2: nan\nEpoch 22/100\n5/5 [==============================] - 0s 50ms/step - loss: nan - r2: nan - val_loss: nan - val_r2: nan\nEpoch 23/100\n5/5 [==============================] - 0s 67ms/step - loss: nan - r2: nan - val_loss: nan - val_r2: nan\nEpoch 24/100\n5/5 [==============================] - 0s 62ms/step - loss: nan - r2: nan - val_loss: nan - val_r2: nan\nEpoch 25/100\n5/5 [==============================] - 0s 45ms/step - loss: nan - r2: nan - val_loss: nan - val_r2: nan\nEpoch 26/100\n5/5 [==============================] - 0s 46ms/step - loss: nan - r2: nan - val_loss: nan - val_r2: nan\nEpoch 27/100\n5/5 [==============================] - 0s 56ms/step - loss: nan - r2: nan - val_loss: nan - val_r2: nan\nEpoch 28/100\n5/5 [==============================] - 0s 53ms/step - loss: nan - r2: nan - val_loss: nan - val_r2: nan\nEpoch 29/100\n5/5 [==============================] - 0s 51ms/step - loss: nan - r2: nan - val_loss: nan - val_r2: nan\nEpoch 30/100\n5/5 [==============================] - 0s 47ms/step - loss: nan - r2: nan - val_loss: nan - val_r2: nan\nEpoch 31/100\n5/5 [==============================] - 0s 56ms/step - loss: nan - r2: nan - val_loss: nan - val_r2: nan\nEpoch 32/100\n5/5 [==============================] - 0s 50ms/step - loss: nan - r2: nan - val_loss: nan - val_r2: nan\nEpoch 33/100\n5/5 [==============================] - 0s 64ms/step - loss: nan - r2: nan - val_loss: nan - val_r2: nan\nEpoch 34/100\n5/5 [==============================] - 0s 64ms/step - loss: nan - r2: nan - val_loss: nan - val_r2: nan\nEpoch 35/100\n5/5 [==============================] - 0s 44ms/step - loss: nan - r2: nan - val_loss: nan - val_r2: nan\nEpoch 36/100\n5/5 [==============================] - 0s 54ms/step - loss: nan - r2: nan - val_loss: nan - val_r2: nan\nEpoch 37/100\n5/5 [==============================] - 0s 56ms/step - loss: nan - r2: nan - val_loss: nan - val_r2: nan\nEpoch 38/100\n5/5 [==============================] - 0s 87ms/step - loss: nan - r2: nan - val_loss: nan - val_r2: nan\nEpoch 39/100\n5/5 [==============================] - 0s 56ms/step - loss: nan - r2: nan - val_loss: nan - val_r2: nan\nEpoch 40/100\n5/5 [==============================] - 0s 81ms/step - loss: nan - r2: nan - val_loss: nan - val_r2: nan\nEpoch 41/100\n5/5 [==============================] - 0s 63ms/step - loss: nan - r2: nan - val_loss: nan - val_r2: nan\nEpoch 42/100\n5/5 [==============================] - 0s 55ms/step - loss: nan - r2: nan - val_loss: nan - val_r2: nan\nEpoch 43/100\n5/5 [==============================] - 0s 63ms/step - loss: nan - r2: nan - val_loss: nan - val_r2: nan\nEpoch 44/100\n5/5 [==============================] - 0s 53ms/step - loss: nan - r2: nan - val_loss: nan - val_r2: nan\nEpoch 45/100\n5/5 [==============================] - 0s 43ms/step - loss: nan - r2: nan - val_loss: nan - val_r2: nan\nEpoch 46/100\n5/5 [==============================] - 0s 59ms/step - loss: nan - r2: nan - val_loss: nan - val_r2: nan\nEpoch 47/100\n5/5 [==============================] - 0s 45ms/step - loss: nan - r2: nan - val_loss: nan - val_r2: nan\nEpoch 48/100\n5/5 [==============================] - 0s 44ms/step - loss: nan - r2: nan - val_loss: nan - val_r2: nan\nEpoch 49/100\n5/5 [==============================] - 0s 58ms/step - loss: nan - r2: nan - val_loss: nan - val_r2: nan\nEpoch 50/100\n5/5 [==============================] - 0s 72ms/step - loss: nan - r2: nan - val_loss: nan - val_r2: nan\nEpoch 51/100\n5/5 [==============================] - 0s 57ms/step - loss: nan - r2: nan - val_loss: nan - val_r2: nan\nEpoch 52/100\n5/5 [==============================] - 1s 191ms/step - loss: nan - r2: nan - val_loss: nan - val_r2: nan\nEpoch 53/100\n5/5 [==============================] - 0s 70ms/step - loss: nan - r2: nan - val_loss: nan - val_r2: nan\nEpoch 54/100\n5/5 [==============================] - 0s 57ms/step - loss: nan - r2: nan - val_loss: nan - val_r2: nan\nEpoch 55/100\n5/5 [==============================] - 0s 44ms/step - loss: nan - r2: nan - val_loss: nan - val_r2: nan\nEpoch 56/100\n5/5 [==============================] - 0s 46ms/step - loss: nan - r2: nan - val_loss: nan - val_r2: nan\nEpoch 57/100\n5/5 [==============================] - 0s 50ms/step - loss: nan - r2: nan - val_loss: nan - val_r2: nan\nEpoch 58/100\n5/5 [==============================] - 0s 73ms/step - loss: nan - r2: nan - val_loss: nan - val_r2: nan\nEpoch 59/100\n5/5 [==============================] - 0s 50ms/step - loss: nan - r2: nan - val_loss: nan - val_r2: nan\nEpoch 60/100\n5/5 [==============================] - 0s 53ms/step - loss: nan - r2: nan - val_loss: nan - val_r2: nan\nEpoch 61/100\n5/5 [==============================] - 0s 67ms/step - loss: nan - r2: nan - val_loss: nan - val_r2: nan\nEpoch 62/100\n5/5 [==============================] - 0s 54ms/step - loss: nan - r2: nan - val_loss: nan - val_r2: nan\nEpoch 63/100\n5/5 [==============================] - 0s 64ms/step - loss: nan - r2: nan - val_loss: nan - val_r2: nan\nEpoch 64/100\n5/5 [==============================] - 0s 60ms/step - loss: nan - r2: nan - val_loss: nan - val_r2: nan\nEpoch 65/100\n5/5 [==============================] - 0s 56ms/step - loss: nan - r2: nan - val_loss: nan - val_r2: nan\nEpoch 66/100\n5/5 [==============================] - 0s 59ms/step - loss: nan - r2: nan - val_loss: nan - val_r2: nan\nEpoch 67/100\n5/5 [==============================] - 0s 71ms/step - loss: nan - r2: nan - val_loss: nan - val_r2: nan\nEpoch 68/100\n5/5 [==============================] - 0s 55ms/step - loss: nan - r2: nan - val_loss: nan - val_r2: nan\nEpoch 69/100\n5/5 [==============================] - 0s 57ms/step - loss: nan - r2: nan - val_loss: nan - val_r2: nan\nEpoch 70/100\n5/5 [==============================] - 0s 62ms/step - loss: nan - r2: nan - val_loss: nan - val_r2: nan\nEpoch 71/100\n5/5 [==============================] - 0s 67ms/step - loss: nan - r2: nan - val_loss: nan - val_r2: nan\nEpoch 72/100\n5/5 [==============================] - 0s 79ms/step - loss: nan - r2: nan - val_loss: nan - val_r2: nan\nEpoch 73/100\n5/5 [==============================] - 0s 82ms/step - loss: nan - r2: nan - val_loss: nan - val_r2: nan\nEpoch 74/100\n5/5 [==============================] - 0s 65ms/step - loss: nan - r2: nan - val_loss: nan - val_r2: nan\nEpoch 75/100\n5/5 [==============================] - 0s 72ms/step - loss: nan - r2: nan - val_loss: nan - val_r2: nan\nEpoch 76/100\n5/5 [==============================] - 0s 57ms/step - loss: nan - r2: nan - val_loss: nan - val_r2: nan\nEpoch 77/100\n5/5 [==============================] - 0s 59ms/step - loss: nan - r2: nan - val_loss: nan - val_r2: nan\nEpoch 78/100\n5/5 [==============================] - 0s 69ms/step - loss: nan - r2: nan - val_loss: nan - val_r2: nan\nEpoch 79/100\n5/5 [==============================] - 0s 61ms/step - loss: nan - r2: nan - val_loss: nan - val_r2: nan\nEpoch 80/100\n5/5 [==============================] - 0s 72ms/step - loss: nan - r2: nan - val_loss: nan - val_r2: nan\nEpoch 81/100\n5/5 [==============================] - 0s 71ms/step - loss: nan - r2: nan - val_loss: nan - val_r2: nan\nEpoch 82/100\n5/5 [==============================] - 0s 51ms/step - loss: nan - r2: nan - val_loss: nan - val_r2: nan\nEpoch 83/100\n5/5 [==============================] - 0s 50ms/step - loss: nan - r2: nan - val_loss: nan - val_r2: nan\nEpoch 84/100\n5/5 [==============================] - 0s 60ms/step - loss: nan - r2: nan - val_loss: nan - val_r2: nan\nEpoch 85/100\n5/5 [==============================] - 0s 48ms/step - loss: nan - r2: nan - val_loss: nan - val_r2: nan\nEpoch 86/100\n5/5 [==============================] - 0s 60ms/step - loss: nan - r2: nan - val_loss: nan - val_r2: nan\nEpoch 87/100\n5/5 [==============================] - 0s 78ms/step - loss: nan - r2: nan - val_loss: nan - val_r2: nan\nEpoch 88/100\n5/5 [==============================] - 0s 58ms/step - loss: nan - r2: nan - val_loss: nan - val_r2: nan\nEpoch 89/100\n5/5 [==============================] - 0s 65ms/step - loss: nan - r2: nan - val_loss: nan - val_r2: nan\nEpoch 90/100\n5/5 [==============================] - 0s 56ms/step - loss: nan - r2: nan - val_loss: nan - val_r2: nan\nEpoch 91/100\n5/5 [==============================] - 0s 47ms/step - loss: nan - r2: nan - val_loss: nan - val_r2: nan\nEpoch 92/100\n5/5 [==============================] - 0s 51ms/step - loss: nan - r2: nan - val_loss: nan - val_r2: nan\nEpoch 93/100\n5/5 [==============================] - 0s 60ms/step - loss: nan - r2: nan - val_loss: nan - val_r2: nan\nEpoch 94/100\n5/5 [==============================] - 0s 62ms/step - loss: nan - r2: nan - val_loss: nan - val_r2: nan\nEpoch 95/100\n5/5 [==============================] - 0s 57ms/step - loss: nan - r2: nan - val_loss: nan - val_r2: nan\nEpoch 96/100\n5/5 [==============================] - 0s 63ms/step - loss: nan - r2: nan - val_loss: nan - val_r2: nan\nEpoch 97/100\n5/5 [==============================] - 0s 68ms/step - loss: nan - r2: nan - val_loss: nan - val_r2: nan\nEpoch 98/100\n5/5 [==============================] - 0s 49ms/step - loss: nan - r2: nan - val_loss: nan - val_r2: nan\nEpoch 99/100\n5/5 [==============================] - 0s 59ms/step - loss: nan - r2: nan - val_loss: nan - val_r2: nan\nEpoch 100/100\n5/5 [==============================] - 0s 69ms/step - loss: nan - r2: nan - val_loss: nan - val_r2: nan\n"
    },
    {
     "output_type": "display_data",
     "data": {
      "text/plain": "HBox(children=(FloatProgress(value=0.0, max=23.0), HTML(value='')))",
      "application/vnd.jupyter.widget-view+json": {
       "version_major": 2,
       "version_minor": 0,
       "model_id": "6d4018c0711d4a6c8b6e9b52415ef9a0"
      }
     },
     "metadata": {}
    },
    {
     "output_type": "stream",
     "name": "stdout",
     "text": "\n"
    }
   ],
   "source": [
    "# https://github.com/Shivanandroy/CategoricalEmbedder/blob/master/example_notebook/Example%20Notebook.ipynb\n",
    "import categorical_embedder as ce\n",
    "embedding_info = ce.get_embedding_info(train_x,categorical_variables=cat_x)\n",
    "train_x.fillna('Unknown',inplace=True)\n",
    "X_encoded,encoders = ce.get_label_encoded_data(train_x,categorical_variables=cat_x)\n",
    "X_encoded = X_encoded.apply(pd.to_numeric, errors='coerce')\n",
    "embeddings = ce.get_embeddings(X_encoded, train_y, categorical_embedding_info=embedding_info, \n",
    "                is_classification=False, epochs=100,batch_size=256)\n",
    "new_train_x = ce.fit_transform(train_x, embeddings=embeddings, encoders=encoders, drop_categorical_vars=True)"
   ]
  },
  {
   "cell_type": "code",
   "execution_count": 48,
   "metadata": {},
   "outputs": [
    {
     "output_type": "execute_result",
     "data": {
      "text/plain": "      MSSubClass LotFrontage  LotArea  Street    Alley  LotShape  LandSlope  \\\n0             60          65     8450       2  Unknown         4          3   \n1             20          80     9600       2  Unknown         4          3   \n2             60          68    11250       2  Unknown         3          3   \n3             70          60     9550       2  Unknown         3          3   \n4             60          84    14260       2  Unknown         3          3   \n...          ...         ...      ...     ...      ...       ...        ...   \n1455          60          62     7917       2  Unknown         4          3   \n1456          20          85    13175       2  Unknown         4          3   \n1457          70          66     9042       2  Unknown         4          3   \n1458          20          68     9717       2  Unknown         4          3   \n1459          20          75     9937       2  Unknown         4          3   \n\n      OverallQual  OverallCond  YearBuilt  ...  MiscFeature_embedding_1  \\\n0               7            5       2003  ...                      NaN   \n1               6            8       1976  ...                      NaN   \n2               7            5       2001  ...                      NaN   \n3               7            5       1915  ...                      NaN   \n4               8            5       2000  ...                      NaN   \n...           ...          ...        ...  ...                      ...   \n1455            6            5       1999  ...                      NaN   \n1456            6            6       1978  ...                      NaN   \n1457            7            9       1941  ...                      NaN   \n1458            5            6       1950  ...                      NaN   \n1459            5            6       1965  ...                      NaN   \n\n     MiscFeature_embedding_2  SaleType_embedding_0  SaleType_embedding_1  \\\n0                        NaN                   NaN                   NaN   \n1                        NaN                   NaN                   NaN   \n2                        NaN                   NaN                   NaN   \n3                        NaN                   NaN                   NaN   \n4                        NaN                   NaN                   NaN   \n...                      ...                   ...                   ...   \n1455                     NaN                   NaN                   NaN   \n1456                     NaN                   NaN                   NaN   \n1457                     NaN                   NaN                   NaN   \n1458                     NaN                   NaN                   NaN   \n1459                     NaN                   NaN                   NaN   \n\n     SaleType_embedding_2 SaleType_embedding_3 SaleType_embedding_4  \\\n0                     NaN                  NaN                  NaN   \n1                     NaN                  NaN                  NaN   \n2                     NaN                  NaN                  NaN   \n3                     NaN                  NaN                  NaN   \n4                     NaN                  NaN                  NaN   \n...                   ...                  ...                  ...   \n1455                  NaN                  NaN                  NaN   \n1456                  NaN                  NaN                  NaN   \n1457                  NaN                  NaN                  NaN   \n1458                  NaN                  NaN                  NaN   \n1459                  NaN                  NaN                  NaN   \n\n     SaleCondition_embedding_0  SaleCondition_embedding_1  \\\n0                          NaN                        NaN   \n1                          NaN                        NaN   \n2                          NaN                        NaN   \n3                          NaN                        NaN   \n4                          NaN                        NaN   \n...                        ...                        ...   \n1455                       NaN                        NaN   \n1456                       NaN                        NaN   \n1457                       NaN                        NaN   \n1458                       NaN                        NaN   \n1459                       NaN                        NaN   \n\n     SaleCondition_embedding_2  \n0                          NaN  \n1                          NaN  \n2                          NaN  \n3                          NaN  \n4                          NaN  \n...                        ...  \n1455                       NaN  \n1456                       NaN  \n1457                       NaN  \n1458                       NaN  \n1459                       NaN  \n\n[1460 rows x 250 columns]",
      "text/html": "<div>\n<style scoped>\n    .dataframe tbody tr th:only-of-type {\n        vertical-align: middle;\n    }\n\n    .dataframe tbody tr th {\n        vertical-align: top;\n    }\n\n    .dataframe thead th {\n        text-align: right;\n    }\n</style>\n<table border=\"1\" class=\"dataframe\">\n  <thead>\n    <tr style=\"text-align: right;\">\n      <th></th>\n      <th>MSSubClass</th>\n      <th>LotFrontage</th>\n      <th>LotArea</th>\n      <th>Street</th>\n      <th>Alley</th>\n      <th>LotShape</th>\n      <th>LandSlope</th>\n      <th>OverallQual</th>\n      <th>OverallCond</th>\n      <th>YearBuilt</th>\n      <th>...</th>\n      <th>MiscFeature_embedding_1</th>\n      <th>MiscFeature_embedding_2</th>\n      <th>SaleType_embedding_0</th>\n      <th>SaleType_embedding_1</th>\n      <th>SaleType_embedding_2</th>\n      <th>SaleType_embedding_3</th>\n      <th>SaleType_embedding_4</th>\n      <th>SaleCondition_embedding_0</th>\n      <th>SaleCondition_embedding_1</th>\n      <th>SaleCondition_embedding_2</th>\n    </tr>\n  </thead>\n  <tbody>\n    <tr>\n      <th>0</th>\n      <td>60</td>\n      <td>65</td>\n      <td>8450</td>\n      <td>2</td>\n      <td>Unknown</td>\n      <td>4</td>\n      <td>3</td>\n      <td>7</td>\n      <td>5</td>\n      <td>2003</td>\n      <td>...</td>\n      <td>NaN</td>\n      <td>NaN</td>\n      <td>NaN</td>\n      <td>NaN</td>\n      <td>NaN</td>\n      <td>NaN</td>\n      <td>NaN</td>\n      <td>NaN</td>\n      <td>NaN</td>\n      <td>NaN</td>\n    </tr>\n    <tr>\n      <th>1</th>\n      <td>20</td>\n      <td>80</td>\n      <td>9600</td>\n      <td>2</td>\n      <td>Unknown</td>\n      <td>4</td>\n      <td>3</td>\n      <td>6</td>\n      <td>8</td>\n      <td>1976</td>\n      <td>...</td>\n      <td>NaN</td>\n      <td>NaN</td>\n      <td>NaN</td>\n      <td>NaN</td>\n      <td>NaN</td>\n      <td>NaN</td>\n      <td>NaN</td>\n      <td>NaN</td>\n      <td>NaN</td>\n      <td>NaN</td>\n    </tr>\n    <tr>\n      <th>2</th>\n      <td>60</td>\n      <td>68</td>\n      <td>11250</td>\n      <td>2</td>\n      <td>Unknown</td>\n      <td>3</td>\n      <td>3</td>\n      <td>7</td>\n      <td>5</td>\n      <td>2001</td>\n      <td>...</td>\n      <td>NaN</td>\n      <td>NaN</td>\n      <td>NaN</td>\n      <td>NaN</td>\n      <td>NaN</td>\n      <td>NaN</td>\n      <td>NaN</td>\n      <td>NaN</td>\n      <td>NaN</td>\n      <td>NaN</td>\n    </tr>\n    <tr>\n      <th>3</th>\n      <td>70</td>\n      <td>60</td>\n      <td>9550</td>\n      <td>2</td>\n      <td>Unknown</td>\n      <td>3</td>\n      <td>3</td>\n      <td>7</td>\n      <td>5</td>\n      <td>1915</td>\n      <td>...</td>\n      <td>NaN</td>\n      <td>NaN</td>\n      <td>NaN</td>\n      <td>NaN</td>\n      <td>NaN</td>\n      <td>NaN</td>\n      <td>NaN</td>\n      <td>NaN</td>\n      <td>NaN</td>\n      <td>NaN</td>\n    </tr>\n    <tr>\n      <th>4</th>\n      <td>60</td>\n      <td>84</td>\n      <td>14260</td>\n      <td>2</td>\n      <td>Unknown</td>\n      <td>3</td>\n      <td>3</td>\n      <td>8</td>\n      <td>5</td>\n      <td>2000</td>\n      <td>...</td>\n      <td>NaN</td>\n      <td>NaN</td>\n      <td>NaN</td>\n      <td>NaN</td>\n      <td>NaN</td>\n      <td>NaN</td>\n      <td>NaN</td>\n      <td>NaN</td>\n      <td>NaN</td>\n      <td>NaN</td>\n    </tr>\n    <tr>\n      <th>...</th>\n      <td>...</td>\n      <td>...</td>\n      <td>...</td>\n      <td>...</td>\n      <td>...</td>\n      <td>...</td>\n      <td>...</td>\n      <td>...</td>\n      <td>...</td>\n      <td>...</td>\n      <td>...</td>\n      <td>...</td>\n      <td>...</td>\n      <td>...</td>\n      <td>...</td>\n      <td>...</td>\n      <td>...</td>\n      <td>...</td>\n      <td>...</td>\n      <td>...</td>\n      <td>...</td>\n    </tr>\n    <tr>\n      <th>1455</th>\n      <td>60</td>\n      <td>62</td>\n      <td>7917</td>\n      <td>2</td>\n      <td>Unknown</td>\n      <td>4</td>\n      <td>3</td>\n      <td>6</td>\n      <td>5</td>\n      <td>1999</td>\n      <td>...</td>\n      <td>NaN</td>\n      <td>NaN</td>\n      <td>NaN</td>\n      <td>NaN</td>\n      <td>NaN</td>\n      <td>NaN</td>\n      <td>NaN</td>\n      <td>NaN</td>\n      <td>NaN</td>\n      <td>NaN</td>\n    </tr>\n    <tr>\n      <th>1456</th>\n      <td>20</td>\n      <td>85</td>\n      <td>13175</td>\n      <td>2</td>\n      <td>Unknown</td>\n      <td>4</td>\n      <td>3</td>\n      <td>6</td>\n      <td>6</td>\n      <td>1978</td>\n      <td>...</td>\n      <td>NaN</td>\n      <td>NaN</td>\n      <td>NaN</td>\n      <td>NaN</td>\n      <td>NaN</td>\n      <td>NaN</td>\n      <td>NaN</td>\n      <td>NaN</td>\n      <td>NaN</td>\n      <td>NaN</td>\n    </tr>\n    <tr>\n      <th>1457</th>\n      <td>70</td>\n      <td>66</td>\n      <td>9042</td>\n      <td>2</td>\n      <td>Unknown</td>\n      <td>4</td>\n      <td>3</td>\n      <td>7</td>\n      <td>9</td>\n      <td>1941</td>\n      <td>...</td>\n      <td>NaN</td>\n      <td>NaN</td>\n      <td>NaN</td>\n      <td>NaN</td>\n      <td>NaN</td>\n      <td>NaN</td>\n      <td>NaN</td>\n      <td>NaN</td>\n      <td>NaN</td>\n      <td>NaN</td>\n    </tr>\n    <tr>\n      <th>1458</th>\n      <td>20</td>\n      <td>68</td>\n      <td>9717</td>\n      <td>2</td>\n      <td>Unknown</td>\n      <td>4</td>\n      <td>3</td>\n      <td>5</td>\n      <td>6</td>\n      <td>1950</td>\n      <td>...</td>\n      <td>NaN</td>\n      <td>NaN</td>\n      <td>NaN</td>\n      <td>NaN</td>\n      <td>NaN</td>\n      <td>NaN</td>\n      <td>NaN</td>\n      <td>NaN</td>\n      <td>NaN</td>\n      <td>NaN</td>\n    </tr>\n    <tr>\n      <th>1459</th>\n      <td>20</td>\n      <td>75</td>\n      <td>9937</td>\n      <td>2</td>\n      <td>Unknown</td>\n      <td>4</td>\n      <td>3</td>\n      <td>5</td>\n      <td>6</td>\n      <td>1965</td>\n      <td>...</td>\n      <td>NaN</td>\n      <td>NaN</td>\n      <td>NaN</td>\n      <td>NaN</td>\n      <td>NaN</td>\n      <td>NaN</td>\n      <td>NaN</td>\n      <td>NaN</td>\n      <td>NaN</td>\n      <td>NaN</td>\n    </tr>\n  </tbody>\n</table>\n<p>1460 rows × 250 columns</p>\n</div>"
     },
     "metadata": {},
     "execution_count": 48
    }
   ],
   "source": [
    "new_train_x"
   ]
  },
  {
   "cell_type": "code",
   "execution_count": null,
   "metadata": {},
   "outputs": [],
   "source": []
  }
 ]
}